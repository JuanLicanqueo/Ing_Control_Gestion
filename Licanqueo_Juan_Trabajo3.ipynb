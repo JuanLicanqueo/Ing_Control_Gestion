{
 "cells": [
  {
   "cell_type": "markdown",
   "id": "4acf6bb5",
   "metadata": {},
   "source": [
    "![Logo UAH](https://fen.uahurtado.cl/wp-content/uploads/2019/01/logo-fen-2018-860x120-1.png \"Logo UAH\")\n",
    "# <center>Trabajo 2\n",
    "#### **Nombre** : Juan Licanqueo\n",
    "\n",
    "Use los datos la base de datos que estamos usando en el curso.\n",
    "1. Escoja tres empresas de la base de datos, de un mismo sector industrial. Cualquiera.\n",
    "2. Calcule para cada una su razón corriente de los últimos ocho períodos. Aplique las etapas de análisis del anova:\n",
    "- Vea si cumple la razón corriente con la normalidad para cada empresa. \n",
    "- Vea si se pueden considerar que cumplen con la homocedasticidad.\n",
    "- Aplique el análisis anova considerando las tres empresas.\n",
    "- Compare las diferencias aplicando el test de Tukey para las tres empresas.\n",
    "3. ¿Le hizo sentido el análisis? ¿Cuál tiene un desempeño superior?"
   ]
  },
  {
   "cell_type": "markdown",
   "id": "869075b4",
   "metadata": {},
   "source": [
    "### Cargamos los modulos a usar."
   ]
  },
  {
   "cell_type": "code",
   "execution_count": 199,
   "id": "b5768c65",
   "metadata": {},
   "outputs": [],
   "source": [
    "import pandas as pd\n",
    "import matplotlib.pyplot as pl\n",
    "import numpy as np\n",
    "import os\n",
    "import statsmodels.api as sm\n",
    "import matplotlib.pyplot as plt\n",
    "import seaborn as sns\n",
    "import pingouin as pg\n",
    "import statsmodels.api as sm\n",
    "from scipy import stats"
   ]
  },
  {
   "cell_type": "markdown",
   "id": "4e61195a",
   "metadata": {},
   "source": [
    "### Definimos nuestro directorio de trabajo."
   ]
  },
  {
   "cell_type": "code",
   "execution_count": 9,
   "id": "91284256",
   "metadata": {},
   "outputs": [
    {
     "data": {
      "text/plain": [
       "'C:\\\\Users\\\\Juan\\\\Desktop\\\\trabajo_03'"
      ]
     },
     "execution_count": 9,
     "metadata": {},
     "output_type": "execute_result"
    }
   ],
   "source": [
    "os.chdir('/Users/Juan/Desktop/trabajo_03/')\n",
    "os.getcwd()"
   ]
  },
  {
   "cell_type": "markdown",
   "id": "6bad1486",
   "metadata": {},
   "source": [
    "### Cargamos la base de datos."
   ]
  },
  {
   "cell_type": "code",
   "execution_count": 91,
   "id": "2ae923a5",
   "metadata": {},
   "outputs": [
    {
     "name": "stderr",
     "output_type": "stream",
     "text": [
      "C:\\Users\\Juan\\anaconda3\\lib\\site-packages\\IPython\\core\\interactiveshell.py:3165: DtypeWarning: Columns (68) have mixed types.Specify dtype option on import or set low_memory=False.\n",
      "  has_raised = await self.run_ast_nodes(code_ast.body, cell_name,\n"
     ]
    }
   ],
   "source": [
    "datos = pd.read_csv('dataset_chile_rev04.csv', sep = ',', header = 0)"
   ]
  },
  {
   "cell_type": "markdown",
   "id": "8f8a1431",
   "metadata": {},
   "source": [
    "### Visualizamos los datos cargados."
   ]
  },
  {
   "cell_type": "code",
   "execution_count": 81,
   "id": "31213fa1",
   "metadata": {
    "scrolled": true
   },
   "outputs": [
    {
     "data": {
      "text/html": [
       "<div>\n",
       "<style scoped>\n",
       "    .dataframe tbody tr th:only-of-type {\n",
       "        vertical-align: middle;\n",
       "    }\n",
       "\n",
       "    .dataframe tbody tr th {\n",
       "        vertical-align: top;\n",
       "    }\n",
       "\n",
       "    .dataframe thead th {\n",
       "        text-align: right;\n",
       "    }\n",
       "</style>\n",
       "<table border=\"1\" class=\"dataframe\">\n",
       "  <thead>\n",
       "    <tr style=\"text-align: right;\">\n",
       "      <th></th>\n",
       "      <th>year</th>\n",
       "      <th>quarter</th>\n",
       "      <th>tic_bolsa</th>\n",
       "      <th>tic</th>\n",
       "      <th>nombre</th>\n",
       "      <th>rut</th>\n",
       "      <th>naic</th>\n",
       "      <th>deprecamor</th>\n",
       "      <th>caflfrusop</th>\n",
       "      <th>incometax</th>\n",
       "      <th>...</th>\n",
       "      <th>txdust</th>\n",
       "      <th>diinotccob</th>\n",
       "      <th>liabilityequity</th>\n",
       "      <th>nctrot</th>\n",
       "      <th>capitabursatil</th>\n",
       "      <th>economatica</th>\n",
       "      <th>rut_n</th>\n",
       "      <th>rut_b</th>\n",
       "      <th>n_quarter</th>\n",
       "      <th>date</th>\n",
       "    </tr>\n",
       "  </thead>\n",
       "  <tbody>\n",
       "    <tr>\n",
       "      <th>0</th>\n",
       "      <td>2009</td>\n",
       "      <td>12</td>\n",
       "      <td>AFPCAPITAL&lt;XSGO&gt;</td>\n",
       "      <td>AFPCAPITAL</td>\n",
       "      <td>A.F.P. Capital S.A.</td>\n",
       "      <td>98000000-1</td>\n",
       "      <td>Fondos de pensión de empleados</td>\n",
       "      <td>14917.68900</td>\n",
       "      <td>NaN</td>\n",
       "      <td>3860.95510</td>\n",
       "      <td>...</td>\n",
       "      <td>0.000</td>\n",
       "      <td>NaN</td>\n",
       "      <td>434260.030</td>\n",
       "      <td>0.0</td>\n",
       "      <td>310565.66236</td>\n",
       "      <td>Fondos</td>\n",
       "      <td>NaN</td>\n",
       "      <td>980000001</td>\n",
       "      <td>12</td>\n",
       "      <td>200912</td>\n",
       "    </tr>\n",
       "    <tr>\n",
       "      <th>1</th>\n",
       "      <td>2004</td>\n",
       "      <td>12</td>\n",
       "      <td>AFPCAPITAL&lt;XSGO&gt;</td>\n",
       "      <td>AFPCAPITAL</td>\n",
       "      <td>A.F.P. Capital S.A.</td>\n",
       "      <td>98000000-1</td>\n",
       "      <td>Fondos de pensión de empleados</td>\n",
       "      <td>553.47302</td>\n",
       "      <td>NaN</td>\n",
       "      <td>911.87903</td>\n",
       "      <td>...</td>\n",
       "      <td>0.000</td>\n",
       "      <td>NaN</td>\n",
       "      <td>61398.859</td>\n",
       "      <td>0.0</td>\n",
       "      <td>114488</td>\n",
       "      <td>Fondos</td>\n",
       "      <td>NaN</td>\n",
       "      <td>980000001</td>\n",
       "      <td>12</td>\n",
       "      <td>200412</td>\n",
       "    </tr>\n",
       "    <tr>\n",
       "      <th>2</th>\n",
       "      <td>2020</td>\n",
       "      <td>12</td>\n",
       "      <td>AFPCAPITAL&lt;XSGO&gt;</td>\n",
       "      <td>AFPCAPITAL</td>\n",
       "      <td>A.F.P. Capital S.A.</td>\n",
       "      <td>98000000-1</td>\n",
       "      <td>Fondos de pensión de empleados</td>\n",
       "      <td>4789.70510</td>\n",
       "      <td>NaN</td>\n",
       "      <td>20084.46500</td>\n",
       "      <td>...</td>\n",
       "      <td>18883.064</td>\n",
       "      <td>NaN</td>\n",
       "      <td>611868.690</td>\n",
       "      <td>0.0</td>\n",
       "      <td>780941.8755</td>\n",
       "      <td>Fondos</td>\n",
       "      <td>NaN</td>\n",
       "      <td>980000001</td>\n",
       "      <td>12</td>\n",
       "      <td>202012</td>\n",
       "    </tr>\n",
       "  </tbody>\n",
       "</table>\n",
       "<p>3 rows × 74 columns</p>\n",
       "</div>"
      ],
      "text/plain": [
       "   year  quarter         tic_bolsa         tic               nombre  \\\n",
       "0  2009       12  AFPCAPITAL<XSGO>  AFPCAPITAL  A.F.P. Capital S.A.   \n",
       "1  2004       12  AFPCAPITAL<XSGO>  AFPCAPITAL  A.F.P. Capital S.A.   \n",
       "2  2020       12  AFPCAPITAL<XSGO>  AFPCAPITAL  A.F.P. Capital S.A.   \n",
       "\n",
       "          rut                            naic   deprecamor  caflfrusop  \\\n",
       "0  98000000-1  Fondos de pensión de empleados  14917.68900         NaN   \n",
       "1  98000000-1  Fondos de pensión de empleados    553.47302         NaN   \n",
       "2  98000000-1  Fondos de pensión de empleados   4789.70510         NaN   \n",
       "\n",
       "     incometax  ...     txdust  diinotccob  liabilityequity  nctrot  \\\n",
       "0   3860.95510  ...      0.000         NaN       434260.030     0.0   \n",
       "1    911.87903  ...      0.000         NaN        61398.859     0.0   \n",
       "2  20084.46500  ...  18883.064         NaN       611868.690     0.0   \n",
       "\n",
       "   capitabursatil  economatica  rut_n      rut_b  n_quarter    date  \n",
       "0    310565.66236       Fondos    NaN  980000001         12  200912  \n",
       "1          114488       Fondos    NaN  980000001         12  200412  \n",
       "2     780941.8755       Fondos    NaN  980000001         12  202012  \n",
       "\n",
       "[3 rows x 74 columns]"
      ]
     },
     "execution_count": 81,
     "metadata": {},
     "output_type": "execute_result"
    }
   ],
   "source": [
    "datos.head(3)"
   ]
  },
  {
   "cell_type": "markdown",
   "id": "38383eba",
   "metadata": {},
   "source": [
    "### Calcularemos la variable Razon de Liquidez."
   ]
  },
  {
   "cell_type": "code",
   "execution_count": null,
   "id": "0a37b9cb",
   "metadata": {},
   "outputs": [],
   "source": []
  },
  {
   "cell_type": "code",
   "execution_count": 259,
   "id": "e6476639",
   "metadata": {},
   "outputs": [],
   "source": [
    "datos = datos.assign(razon_de_liquidez = lambda x:(x['currassets'] / x['currliab']))"
   ]
  },
  {
   "cell_type": "markdown",
   "id": "fa7ae780",
   "metadata": {},
   "source": [
    "### Reemplazamos los valores que hubieran resultado infinito de las nuevas variables calculadas con NAN. "
   ]
  },
  {
   "cell_type": "code",
   "execution_count": 93,
   "id": "69802fee",
   "metadata": {},
   "outputs": [],
   "source": [
    "datos.replace([np.inf, -np.inf], np.nan, inplace = True)"
   ]
  },
  {
   "cell_type": "markdown",
   "id": "0e5dbcaf",
   "metadata": {},
   "source": [
    "### Seleccionaremos un sector económico."
   ]
  },
  {
   "cell_type": "code",
   "execution_count": 330,
   "id": "abbfcb01",
   "metadata": {},
   "outputs": [
    {
     "data": {
      "text/html": [
       "<div>\n",
       "<style scoped>\n",
       "    .dataframe tbody tr th:only-of-type {\n",
       "        vertical-align: middle;\n",
       "    }\n",
       "\n",
       "    .dataframe tbody tr th {\n",
       "        vertical-align: top;\n",
       "    }\n",
       "\n",
       "    .dataframe thead th {\n",
       "        text-align: right;\n",
       "    }\n",
       "</style>\n",
       "<table border=\"1\" class=\"dataframe\">\n",
       "  <thead>\n",
       "    <tr style=\"text-align: right;\">\n",
       "      <th></th>\n",
       "      <th>Sector_Económico</th>\n",
       "      <th>Cantidad_Empresas</th>\n",
       "    </tr>\n",
       "  </thead>\n",
       "  <tbody>\n",
       "    <tr>\n",
       "      <th>64</th>\n",
       "      <td>Poderes ejecutivo, legislativo y otros poderes...</td>\n",
       "      <td>3</td>\n",
       "    </tr>\n",
       "    <tr>\n",
       "      <th>65</th>\n",
       "      <td>Servicios relacionados con el transporte aéreo</td>\n",
       "      <td>3</td>\n",
       "    </tr>\n",
       "    <tr>\n",
       "      <th>66</th>\n",
       "      <td>Servicios relacionados con la agricultura</td>\n",
       "      <td>3</td>\n",
       "    </tr>\n",
       "    <tr>\n",
       "      <th>67</th>\n",
       "      <td>-</td>\n",
       "      <td>3</td>\n",
       "    </tr>\n",
       "    <tr>\n",
       "      <th>68</th>\n",
       "      <td>Viveros forestales y recolección de productos ...</td>\n",
       "      <td>3</td>\n",
       "    </tr>\n",
       "  </tbody>\n",
       "</table>\n",
       "</div>"
      ],
      "text/plain": [
       "                                     Sector_Económico  Cantidad_Empresas\n",
       "64  Poderes ejecutivo, legislativo y otros poderes...                  3\n",
       "65     Servicios relacionados con el transporte aéreo                  3\n",
       "66          Servicios relacionados con la agricultura                  3\n",
       "67                                                  -                  3\n",
       "68  Viveros forestales y recolección de productos ...                  3"
      ]
     },
     "execution_count": 330,
     "metadata": {},
     "output_type": "execute_result"
    }
   ],
   "source": [
    "Cant_EmpxSect = datos.groupby('naic').agg({'tic' : pd.Series.nunique}).sort_values(by = 'tic').reset_index()\n",
    "Cant_EmpxSect[list(Cant_EmpxSect.tic).index(3):].set_axis(['Sector_Económico', 'Cantidad_Empresas'], axis = 1).head(5)"
   ]
  },
  {
   "cell_type": "markdown",
   "id": "acc0d83f",
   "metadata": {},
   "source": [
    "#### <center> *El sector económico seleccionado sera el de 'Servicios relacionados con la agricultura'.*"
   ]
  },
  {
   "cell_type": "markdown",
   "id": "27a9d6e1",
   "metadata": {},
   "source": [
    "### Crearemos una base de datos con el filtro del sector seleccionado y además seleccionaremos las variables de interes que son TIC y RAZON_LIQUIDEZ."
   ]
  },
  {
   "cell_type": "code",
   "execution_count": 263,
   "id": "9a6012d6",
   "metadata": {},
   "outputs": [
    {
     "data": {
      "text/html": [
       "<div>\n",
       "<style scoped>\n",
       "    .dataframe tbody tr th:only-of-type {\n",
       "        vertical-align: middle;\n",
       "    }\n",
       "\n",
       "    .dataframe tbody tr th {\n",
       "        vertical-align: top;\n",
       "    }\n",
       "\n",
       "    .dataframe thead th {\n",
       "        text-align: right;\n",
       "    }\n",
       "</style>\n",
       "<table border=\"1\" class=\"dataframe\">\n",
       "  <thead>\n",
       "    <tr style=\"text-align: right;\">\n",
       "      <th></th>\n",
       "      <th>tic</th>\n",
       "      <th>razon_de_liquidez</th>\n",
       "    </tr>\n",
       "  </thead>\n",
       "  <tbody>\n",
       "    <tr>\n",
       "      <th>37800</th>\n",
       "      <td>AGROSUPER</td>\n",
       "      <td>NaN</td>\n",
       "    </tr>\n",
       "    <tr>\n",
       "      <th>34177</th>\n",
       "      <td>COAGRA</td>\n",
       "      <td>NaN</td>\n",
       "    </tr>\n",
       "    <tr>\n",
       "      <th>25758</th>\n",
       "      <td>HF</td>\n",
       "      <td>NaN</td>\n",
       "    </tr>\n",
       "    <tr>\n",
       "      <th>24210</th>\n",
       "      <td>HF</td>\n",
       "      <td>NaN</td>\n",
       "    </tr>\n",
       "    <tr>\n",
       "      <th>38846</th>\n",
       "      <td>COAGRA</td>\n",
       "      <td>NaN</td>\n",
       "    </tr>\n",
       "    <tr>\n",
       "      <th>...</th>\n",
       "      <td>...</td>\n",
       "      <td>...</td>\n",
       "    </tr>\n",
       "    <tr>\n",
       "      <th>25712</th>\n",
       "      <td>HF</td>\n",
       "      <td>1.551919</td>\n",
       "    </tr>\n",
       "    <tr>\n",
       "      <th>33999</th>\n",
       "      <td>COAGRA</td>\n",
       "      <td>1.434096</td>\n",
       "    </tr>\n",
       "    <tr>\n",
       "      <th>5449</th>\n",
       "      <td>HF</td>\n",
       "      <td>NaN</td>\n",
       "    </tr>\n",
       "    <tr>\n",
       "      <th>2473</th>\n",
       "      <td>COAGRA</td>\n",
       "      <td>NaN</td>\n",
       "    </tr>\n",
       "    <tr>\n",
       "      <th>363</th>\n",
       "      <td>AGROSUPER</td>\n",
       "      <td>NaN</td>\n",
       "    </tr>\n",
       "  </tbody>\n",
       "</table>\n",
       "<p>264 rows × 2 columns</p>\n",
       "</div>"
      ],
      "text/plain": [
       "             tic  razon_de_liquidez\n",
       "37800  AGROSUPER                NaN\n",
       "34177     COAGRA                NaN\n",
       "25758         HF                NaN\n",
       "24210         HF                NaN\n",
       "38846     COAGRA                NaN\n",
       "...          ...                ...\n",
       "25712         HF           1.551919\n",
       "33999     COAGRA           1.434096\n",
       "5449          HF                NaN\n",
       "2473      COAGRA                NaN\n",
       "363    AGROSUPER                NaN\n",
       "\n",
       "[264 rows x 2 columns]"
      ]
     },
     "execution_count": 263,
     "metadata": {},
     "output_type": "execute_result"
    }
   ],
   "source": [
    "datos_GA = datos[datos.naic == 'Servicios relacionados con la agricultura'].sort_values('date').loc[:,['tic','razon_de_liquidez']]\n",
    "datos_GA"
   ]
  },
  {
   "cell_type": "markdown",
   "id": "65744a3c",
   "metadata": {},
   "source": [
    "### Acotaremos el data frame creado a los últimos ocho periodos, como son tres empresas los datos requeridos serán los últimos 24, además eliminaremos los datos NA."
   ]
  },
  {
   "cell_type": "code",
   "execution_count": 264,
   "id": "233677a6",
   "metadata": {},
   "outputs": [
    {
     "data": {
      "text/html": [
       "<div>\n",
       "<style scoped>\n",
       "    .dataframe tbody tr th:only-of-type {\n",
       "        vertical-align: middle;\n",
       "    }\n",
       "\n",
       "    .dataframe tbody tr th {\n",
       "        vertical-align: top;\n",
       "    }\n",
       "\n",
       "    .dataframe thead th {\n",
       "        text-align: right;\n",
       "    }\n",
       "</style>\n",
       "<table border=\"1\" class=\"dataframe\">\n",
       "  <thead>\n",
       "    <tr style=\"text-align: right;\">\n",
       "      <th></th>\n",
       "      <th>tic</th>\n",
       "      <th>razon_de_liquidez</th>\n",
       "    </tr>\n",
       "  </thead>\n",
       "  <tbody>\n",
       "    <tr>\n",
       "      <th>23946</th>\n",
       "      <td>COAGRA</td>\n",
       "      <td>1.729047</td>\n",
       "    </tr>\n",
       "    <tr>\n",
       "      <th>18641</th>\n",
       "      <td>HF</td>\n",
       "      <td>1.109461</td>\n",
       "    </tr>\n",
       "    <tr>\n",
       "      <th>23350</th>\n",
       "      <td>AGROSUPER</td>\n",
       "      <td>2.016848</td>\n",
       "    </tr>\n",
       "    <tr>\n",
       "      <th>30413</th>\n",
       "      <td>HF</td>\n",
       "      <td>1.017151</td>\n",
       "    </tr>\n",
       "    <tr>\n",
       "      <th>23986</th>\n",
       "      <td>COAGRA</td>\n",
       "      <td>2.023542</td>\n",
       "    </tr>\n",
       "    <tr>\n",
       "      <th>16803</th>\n",
       "      <td>AGROSUPER</td>\n",
       "      <td>2.191711</td>\n",
       "    </tr>\n",
       "    <tr>\n",
       "      <th>41098</th>\n",
       "      <td>AGROSUPER</td>\n",
       "      <td>2.728613</td>\n",
       "    </tr>\n",
       "    <tr>\n",
       "      <th>40750</th>\n",
       "      <td>COAGRA</td>\n",
       "      <td>1.592788</td>\n",
       "    </tr>\n",
       "    <tr>\n",
       "      <th>31133</th>\n",
       "      <td>HF</td>\n",
       "      <td>1.715346</td>\n",
       "    </tr>\n",
       "    <tr>\n",
       "      <th>2484</th>\n",
       "      <td>COAGRA</td>\n",
       "      <td>1.491399</td>\n",
       "    </tr>\n",
       "    <tr>\n",
       "      <th>5439</th>\n",
       "      <td>HF</td>\n",
       "      <td>1.526737</td>\n",
       "    </tr>\n",
       "    <tr>\n",
       "      <th>373</th>\n",
       "      <td>AGROSUPER</td>\n",
       "      <td>3.147727</td>\n",
       "    </tr>\n",
       "    <tr>\n",
       "      <th>10868</th>\n",
       "      <td>COAGRA</td>\n",
       "      <td>1.584353</td>\n",
       "    </tr>\n",
       "    <tr>\n",
       "      <th>40270</th>\n",
       "      <td>HF</td>\n",
       "      <td>1.625327</td>\n",
       "    </tr>\n",
       "    <tr>\n",
       "      <th>14958</th>\n",
       "      <td>AGROSUPER</td>\n",
       "      <td>2.648206</td>\n",
       "    </tr>\n",
       "    <tr>\n",
       "      <th>37413</th>\n",
       "      <td>AGROSUPER</td>\n",
       "      <td>3.435967</td>\n",
       "    </tr>\n",
       "    <tr>\n",
       "      <th>11587</th>\n",
       "      <td>COAGRA</td>\n",
       "      <td>1.884367</td>\n",
       "    </tr>\n",
       "    <tr>\n",
       "      <th>18749</th>\n",
       "      <td>HF</td>\n",
       "      <td>1.903675</td>\n",
       "    </tr>\n",
       "    <tr>\n",
       "      <th>32090</th>\n",
       "      <td>AGROSUPER</td>\n",
       "      <td>3.862933</td>\n",
       "    </tr>\n",
       "    <tr>\n",
       "      <th>25712</th>\n",
       "      <td>HF</td>\n",
       "      <td>1.551919</td>\n",
       "    </tr>\n",
       "    <tr>\n",
       "      <th>33999</th>\n",
       "      <td>COAGRA</td>\n",
       "      <td>1.434096</td>\n",
       "    </tr>\n",
       "  </tbody>\n",
       "</table>\n",
       "</div>"
      ],
      "text/plain": [
       "             tic  razon_de_liquidez\n",
       "23946     COAGRA           1.729047\n",
       "18641         HF           1.109461\n",
       "23350  AGROSUPER           2.016848\n",
       "30413         HF           1.017151\n",
       "23986     COAGRA           2.023542\n",
       "16803  AGROSUPER           2.191711\n",
       "41098  AGROSUPER           2.728613\n",
       "40750     COAGRA           1.592788\n",
       "31133         HF           1.715346\n",
       "2484      COAGRA           1.491399\n",
       "5439          HF           1.526737\n",
       "373    AGROSUPER           3.147727\n",
       "10868     COAGRA           1.584353\n",
       "40270         HF           1.625327\n",
       "14958  AGROSUPER           2.648206\n",
       "37413  AGROSUPER           3.435967\n",
       "11587     COAGRA           1.884367\n",
       "18749         HF           1.903675\n",
       "32090  AGROSUPER           3.862933\n",
       "25712         HF           1.551919\n",
       "33999     COAGRA           1.434096"
      ]
     },
     "execution_count": 264,
     "metadata": {},
     "output_type": "execute_result"
    }
   ],
   "source": [
    "datos_GA_VT = datos_GA.iloc[(len(datos_GA.razon_de_liquidez)-24):len(datos_GA.razon_de_liquidez),].dropna()\n",
    "datos_GA_VT"
   ]
  },
  {
   "cell_type": "markdown",
   "id": "f6042a4d",
   "metadata": {},
   "source": [
    "### Generamos una tabla descriptiva de los datos seleccionados."
   ]
  },
  {
   "cell_type": "code",
   "execution_count": 239,
   "id": "82c39331",
   "metadata": {},
   "outputs": [
    {
     "data": {
      "text/html": [
       "<div>\n",
       "<style scoped>\n",
       "    .dataframe tbody tr th:only-of-type {\n",
       "        vertical-align: middle;\n",
       "    }\n",
       "\n",
       "    .dataframe tbody tr th {\n",
       "        vertical-align: top;\n",
       "    }\n",
       "\n",
       "    .dataframe thead th {\n",
       "        text-align: right;\n",
       "    }\n",
       "</style>\n",
       "<table border=\"1\" class=\"dataframe\">\n",
       "  <thead>\n",
       "    <tr style=\"text-align: right;\">\n",
       "      <th></th>\n",
       "      <th>size</th>\n",
       "      <th>mean</th>\n",
       "      <th>std</th>\n",
       "    </tr>\n",
       "    <tr>\n",
       "      <th>tic</th>\n",
       "      <th></th>\n",
       "      <th></th>\n",
       "      <th></th>\n",
       "    </tr>\n",
       "  </thead>\n",
       "  <tbody>\n",
       "    <tr>\n",
       "      <th>AGROSUPER</th>\n",
       "      <td>7</td>\n",
       "      <td>2.861715</td>\n",
       "      <td>0.663327</td>\n",
       "    </tr>\n",
       "    <tr>\n",
       "      <th>COAGRA</th>\n",
       "      <td>7</td>\n",
       "      <td>1.677085</td>\n",
       "      <td>0.214059</td>\n",
       "    </tr>\n",
       "    <tr>\n",
       "      <th>HF</th>\n",
       "      <td>7</td>\n",
       "      <td>1.492802</td>\n",
       "      <td>0.319830</td>\n",
       "    </tr>\n",
       "  </tbody>\n",
       "</table>\n",
       "</div>"
      ],
      "text/plain": [
       "           size      mean       std\n",
       "tic                                \n",
       "AGROSUPER     7  2.861715  0.663327\n",
       "COAGRA        7  1.677085  0.214059\n",
       "HF            7  1.492802  0.319830"
      ]
     },
     "execution_count": 239,
     "metadata": {},
     "output_type": "execute_result"
    }
   ],
   "source": [
    "datos_GA_VT.groupby('tic')['razon_de_liquidez'].agg(['size', 'mean', 'std'])"
   ]
  },
  {
   "cell_type": "markdown",
   "id": "ac37ef9e",
   "metadata": {},
   "source": [
    "#### <center> *De la tabla podemos apreciar que Coagra Agroindustrial S.A y HF servicios agrícolas y ganaderos respecto a su indicador de liquidez son bastante parecidos, en tanto AGROSUPER tiene una mayor liquidez y desviación estandar.*"
   ]
  },
  {
   "cell_type": "markdown",
   "id": "17433222",
   "metadata": {},
   "source": [
    "### A continuación gráficaremos con box-plot el comportamiento de los datos y ratificaremos lo ya observado el la tabla anterior."
   ]
  },
  {
   "cell_type": "code",
   "execution_count": 314,
   "id": "7267d95b",
   "metadata": {},
   "outputs": [
    {
     "data": {
      "image/png": "[encoded data removed]",
      "text/plain": [
       "<Figure size 720x504 with 1 Axes>"
      ]
     },
     "metadata": {},
     "output_type": "display_data"
    }
   ],
   "source": [
    "plt.figure(figsize=(10,7))\n",
    "\n",
    "plt.suptitle('Distribución de los datos por empresa.',\n",
    "          color = '#000407',\n",
    "          fontsize = 14,\n",
    "          x = 0.125,\n",
    "          y = 0.937,\n",
    "          ha = 'left'\n",
    "         )\n",
    "\n",
    "plt.title('Fuente de los datos : ECONOMÁTICA.',\n",
    "          color = '#000407',\n",
    "          fontsize = 11,\n",
    "          loc = 'left')\n",
    "\n",
    "sns.set_theme(style=\"dark\")\n",
    "\n",
    "ax = sns.boxplot(x=\"tic\", \n",
    "            y=\"razon_de_liquidez\", \n",
    "            data = datos_GA_VT, \n",
    "            palette = 'Set3',\n",
    "           linewidth = 0.8)\n",
    "\n",
    "ax.set_xlabel(None)\n",
    "\n",
    "ax.set_ylabel('INDICADOR DE LIQUIDEZ',\n",
    "          fontsize = 14)\n",
    "\n",
    "bx = sns.swarmplot(x= \"tic\", \n",
    "              y= \"razon_de_liquidez\", \n",
    "              data= datos_GA_VT, \n",
    "              color= '#53003E', \n",
    "              alpha = 0.8)\n",
    "\n",
    "bx.set_xlabel(None)\n",
    "\n",
    "bx.set_ylabel('INDICADOR DE LIQUIDEZ',\n",
    "          fontsize = 14)\n",
    "\n",
    "plt.show()"
   ]
  },
  {
   "cell_type": "markdown",
   "id": "08c523c1",
   "metadata": {},
   "source": [
    "#### <center> *De la gráfica de box plot ratificamos que AGROSUPER es el que tiene mayor liquidez y dispersión, tambien podemos verificar que Coagra Agroindustrial S.A y HF servicios agrícolas tienen un comportamiento parecido y sus medias son muy cercanas siendo HF la que tiene mayor variabilidad de las dos.* "
   ]
  },
  {
   "cell_type": "markdown",
   "id": "e64a5005",
   "metadata": {},
   "source": [
    "### Gráficaremos los QQplot para observar si los datos de cada empresa siguen una distribución normal."
   ]
  },
  {
   "cell_type": "code",
   "execution_count": 329,
   "id": "4f6e7ea5",
   "metadata": {},
   "outputs": [
    {
     "data": {
      "image/png": "[encoded data removed]",
      "text/plain": [
       "<Figure size 576x1080 with 3 Axes>"
      ]
     },
     "metadata": {},
     "output_type": "display_data"
    }
   ],
   "source": [
    "# Gráficos qqplot 8 periodos\n",
    "# ==============================================================================\n",
    "fig, axs = plt.subplots(3, 1, figsize=(8, 15))\n",
    "fig.suptitle('Gráfico QQplot\\nverificación de normalidad\\n(Fuente de datos: Economática)',\n",
    "            fontsize = 15,\n",
    "            y = 1.01)\n",
    "# ==============================================================================\n",
    "# CENCOSUD\n",
    "pg.qqplot(datos_GA_VT.loc[datos_GA_VT.tic=='AGROSUPER', 'razon_de_liquidez'], \n",
    "          dist='norm', \n",
    "          ax=axs[0])\n",
    "\n",
    "axs[0].set_title('AGROSUPER',\n",
    "                loc = 'left',\n",
    "                fontsize = 13) \n",
    "# ==============================================================================\n",
    "# FALABELLA\n",
    "pg.qqplot(datos_GA_VT.loc[datos_GA_VT.tic=='COAGRA', 'razon_de_liquidez'], \n",
    "          dist='norm', \n",
    "          ax=axs[1])\n",
    "\n",
    "axs[1].set_title('COAGRA Agroindustrial S.A',\n",
    "                loc = 'left',\n",
    "                fontsize = 13)\n",
    "# ==============================================================================\n",
    "# FORUS\n",
    "pg.qqplot(datos_GA_VT.loc[datos_GA_VT.tic=='HF', 'razon_de_liquidez'], \n",
    "          dist='norm', \n",
    "          ax=axs[2])\n",
    "\n",
    "axs[2].set_title('HF Servicios Agrícolas',\n",
    "                loc = 'left',\n",
    "                fontsize = 13)\n",
    "# ==============================================================================\n",
    "\n",
    "plt.tight_layout()\n",
    "plt.show()"
   ]
  },
  {
   "cell_type": "markdown",
   "id": "b58e11d7",
   "metadata": {},
   "source": [
    "#### <center> *Según la gráfica para las tres empresas selccionadas sus datos siguen una distribución normal, tambien podemos apreciar el R2 que nos indica que los datos tiene poca variabilidad respecto a la recta regresión lineal.*"
   ]
  },
  {
   "cell_type": "markdown",
   "id": "b82c4bd9",
   "metadata": {},
   "source": [
    "### A continuación verificaremos lo anterior aplicando el test de normalidad de Shapiro - Wilk. "
   ]
  },
  {
   "cell_type": "code",
   "execution_count": 246,
   "id": "27d9d6cc",
   "metadata": {},
   "outputs": [
    {
     "data": {
      "text/html": [
       "<div>\n",
       "<style scoped>\n",
       "    .dataframe tbody tr th:only-of-type {\n",
       "        vertical-align: middle;\n",
       "    }\n",
       "\n",
       "    .dataframe tbody tr th {\n",
       "        vertical-align: top;\n",
       "    }\n",
       "\n",
       "    .dataframe thead th {\n",
       "        text-align: right;\n",
       "    }\n",
       "</style>\n",
       "<table border=\"1\" class=\"dataframe\">\n",
       "  <thead>\n",
       "    <tr style=\"text-align: right;\">\n",
       "      <th></th>\n",
       "      <th>W</th>\n",
       "      <th>pval</th>\n",
       "      <th>normal</th>\n",
       "    </tr>\n",
       "  </thead>\n",
       "  <tbody>\n",
       "    <tr>\n",
       "      <th>COAGRA</th>\n",
       "      <td>0.934182</td>\n",
       "      <td>0.587003</td>\n",
       "      <td>True</td>\n",
       "    </tr>\n",
       "    <tr>\n",
       "      <th>HF</th>\n",
       "      <td>0.916279</td>\n",
       "      <td>0.441054</td>\n",
       "      <td>True</td>\n",
       "    </tr>\n",
       "    <tr>\n",
       "      <th>AGROSUPER</th>\n",
       "      <td>0.967075</td>\n",
       "      <td>0.876618</td>\n",
       "      <td>True</td>\n",
       "    </tr>\n",
       "  </tbody>\n",
       "</table>\n",
       "</div>"
      ],
      "text/plain": [
       "                  W      pval  normal\n",
       "COAGRA     0.934182  0.587003    True\n",
       "HF         0.916279  0.441054    True\n",
       "AGROSUPER  0.967075  0.876618    True"
      ]
     },
     "execution_count": 246,
     "metadata": {},
     "output_type": "execute_result"
    }
   ],
   "source": [
    "# Test de normalidad Shapiro-Wilk\n",
    "# ==============================================================================\n",
    "pg.normality(datos_GA_VT, dv = 'razon_de_liquidez', group = 'tic')"
   ]
  },
  {
   "cell_type": "markdown",
   "id": "05bc96d8",
   "metadata": {},
   "source": [
    "#### <center>*Del test podemos apreciar que los p-valores de las tres empresas no son significativos(mayores a 0.05), esto quiere decir que no hay suficiente evidencia estadistica para rechazar H0(los datos siguen una distribución normal) por lo cuál caemos en el ERROR TIPO 1, y podemos decir que los datos de las tres empresas siguen una distribución normal.*"
   ]
  },
  {
   "cell_type": "markdown",
   "id": "95240e02",
   "metadata": {},
   "source": [
    "### Ahora aplicaremos el test de LEVENE para verificar si los datos de las tres empresas tienen varianza constante o igual, para esto analizaremos si los grupos son homecedasticos."
   ]
  },
  {
   "cell_type": "code",
   "execution_count": 265,
   "id": "87a3febb",
   "metadata": {},
   "outputs": [
    {
     "data": {
      "text/html": [
       "<div>\n",
       "<style scoped>\n",
       "    .dataframe tbody tr th:only-of-type {\n",
       "        vertical-align: middle;\n",
       "    }\n",
       "\n",
       "    .dataframe tbody tr th {\n",
       "        vertical-align: top;\n",
       "    }\n",
       "\n",
       "    .dataframe thead th {\n",
       "        text-align: right;\n",
       "    }\n",
       "</style>\n",
       "<table border=\"1\" class=\"dataframe\">\n",
       "  <thead>\n",
       "    <tr style=\"text-align: right;\">\n",
       "      <th></th>\n",
       "      <th>W</th>\n",
       "      <th>pval</th>\n",
       "      <th>equal_var</th>\n",
       "    </tr>\n",
       "  </thead>\n",
       "  <tbody>\n",
       "    <tr>\n",
       "      <th>levene</th>\n",
       "      <td>3.279652</td>\n",
       "      <td>0.061025</td>\n",
       "      <td>True</td>\n",
       "    </tr>\n",
       "  </tbody>\n",
       "</table>\n",
       "</div>"
      ],
      "text/plain": [
       "               W      pval  equal_var\n",
       "levene  3.279652  0.061025       True"
      ]
     },
     "execution_count": 265,
     "metadata": {},
     "output_type": "execute_result"
    }
   ],
   "source": [
    "# Test de homocedasticidad\n",
    "# ==============================================================================\n",
    "pg.homoscedasticity(datos_GA_VT, dv = 'razon_de_liquidez', group = 'tic', method='levene')"
   ]
  },
  {
   "cell_type": "markdown",
   "id": "d3812cce",
   "metadata": {},
   "source": [
    "#### <center>*Del test podemos apreciar que el p-valor no es significativo(mayores a 0.05), por lo cuál no hay suficiente evidencia estadistica para rechazar H0(no existe diferencia entre las varianzas), entonces caemos en el ERROR TIPO 1, y podemos decir que la varianzas son constantes o iguales entre las tres empresas tambien cumplirian que los grupos son homocedasticos.*"
   ]
  },
  {
   "cell_type": "markdown",
   "id": "311fd61e",
   "metadata": {},
   "source": [
    "### Realizaremos el análisis de varianza (ANOVA) de una sola vía para determinar si existen diferencias estadísticamente significativas entre las medias de las tres empresas."
   ]
  },
  {
   "cell_type": "code",
   "execution_count": 256,
   "id": "eb006b3a",
   "metadata": {},
   "outputs": [
    {
     "data": {
      "text/html": [
       "<div>\n",
       "<style scoped>\n",
       "    .dataframe tbody tr th:only-of-type {\n",
       "        vertical-align: middle;\n",
       "    }\n",
       "\n",
       "    .dataframe tbody tr th {\n",
       "        vertical-align: top;\n",
       "    }\n",
       "\n",
       "    .dataframe thead th {\n",
       "        text-align: right;\n",
       "    }\n",
       "</style>\n",
       "<table border=\"1\" class=\"dataframe\">\n",
       "  <thead>\n",
       "    <tr style=\"text-align: right;\">\n",
       "      <th></th>\n",
       "      <th>Source</th>\n",
       "      <th>SS</th>\n",
       "      <th>DF</th>\n",
       "      <th>MS</th>\n",
       "      <th>F</th>\n",
       "      <th>p-unc</th>\n",
       "      <th>np2</th>\n",
       "    </tr>\n",
       "  </thead>\n",
       "  <tbody>\n",
       "    <tr>\n",
       "      <th>0</th>\n",
       "      <td>tic</td>\n",
       "      <td>7.726208</td>\n",
       "      <td>2</td>\n",
       "      <td>3.863104</td>\n",
       "      <td>19.705883</td>\n",
       "      <td>0.000029</td>\n",
       "      <td>0.686475</td>\n",
       "    </tr>\n",
       "    <tr>\n",
       "      <th>1</th>\n",
       "      <td>Within</td>\n",
       "      <td>3.528686</td>\n",
       "      <td>18</td>\n",
       "      <td>0.196038</td>\n",
       "      <td>NaN</td>\n",
       "      <td>NaN</td>\n",
       "      <td>NaN</td>\n",
       "    </tr>\n",
       "  </tbody>\n",
       "</table>\n",
       "</div>"
      ],
      "text/plain": [
       "   Source        SS  DF        MS          F     p-unc       np2\n",
       "0     tic  7.726208   2  3.863104  19.705883  0.000029  0.686475\n",
       "1  Within  3.528686  18  0.196038        NaN       NaN       NaN"
      ]
     },
     "execution_count": 256,
     "metadata": {},
     "output_type": "execute_result"
    }
   ],
   "source": [
    "# Test ANOVA de una vía (One-way ANOVA)\n",
    "# ==============================================================================\n",
    "pg.anova(datos_GA_VT, dv= 'razon_de_liquidez', between='tic', detailed=True)"
   ]
  },
  {
   "cell_type": "markdown",
   "id": "fac7957a",
   "metadata": {},
   "source": [
    "#### <center> *Del test podemos apreciar que el p-valor es significativo(menor a 0.05), por lo cuál rechazamos H0(las medias de los grupos son iguales), en este caso debemos tomar la hipótesis alternativa que es H1 la que nos dice que al menos una de las empresas tiene diferente media con respecto a las demás, para este caso caemos en el ERROR TIPO 2.*"
   ]
  },
  {
   "cell_type": "markdown",
   "id": "f93b04e6",
   "metadata": {},
   "source": [
    "### Debido a que en la prueba anterior (ANOVA) se determino que hay diferencias estadísticamente significativas de las medias de las empresas, ahora debemos determinar cuál o cuales de estas son diferentes para eso debemos realizar una prueba POST HOC, como las empresas son homocedasticas esto nos permite aplicar la prueba de post hoc de TUKEY(HSD)."
   ]
  },
  {
   "cell_type": "code",
   "execution_count": 267,
   "id": "6f4f25b5",
   "metadata": {},
   "outputs": [
    {
     "data": {
      "text/html": [
       "<div>\n",
       "<style scoped>\n",
       "    .dataframe tbody tr th:only-of-type {\n",
       "        vertical-align: middle;\n",
       "    }\n",
       "\n",
       "    .dataframe tbody tr th {\n",
       "        vertical-align: top;\n",
       "    }\n",
       "\n",
       "    .dataframe thead th {\n",
       "        text-align: right;\n",
       "    }\n",
       "</style>\n",
       "<table border=\"1\" class=\"dataframe\">\n",
       "  <thead>\n",
       "    <tr style=\"text-align: right;\">\n",
       "      <th></th>\n",
       "      <th>A</th>\n",
       "      <th>B</th>\n",
       "      <th>mean(A)</th>\n",
       "      <th>mean(B)</th>\n",
       "      <th>diff</th>\n",
       "      <th>se</th>\n",
       "      <th>T</th>\n",
       "      <th>p-tukey</th>\n",
       "      <th>hedges</th>\n",
       "    </tr>\n",
       "  </thead>\n",
       "  <tbody>\n",
       "    <tr>\n",
       "      <th>0</th>\n",
       "      <td>AGROSUPER</td>\n",
       "      <td>COAGRA</td>\n",
       "      <td>2.862</td>\n",
       "      <td>1.677</td>\n",
       "      <td>1.185</td>\n",
       "      <td>0.237</td>\n",
       "      <td>5.005</td>\n",
       "      <td>0.001</td>\n",
       "      <td>2.505</td>\n",
       "    </tr>\n",
       "    <tr>\n",
       "      <th>1</th>\n",
       "      <td>AGROSUPER</td>\n",
       "      <td>HF</td>\n",
       "      <td>2.862</td>\n",
       "      <td>1.493</td>\n",
       "      <td>1.369</td>\n",
       "      <td>0.237</td>\n",
       "      <td>5.784</td>\n",
       "      <td>0.001</td>\n",
       "      <td>2.894</td>\n",
       "    </tr>\n",
       "    <tr>\n",
       "      <th>2</th>\n",
       "      <td>COAGRA</td>\n",
       "      <td>HF</td>\n",
       "      <td>1.677</td>\n",
       "      <td>1.493</td>\n",
       "      <td>0.184</td>\n",
       "      <td>0.237</td>\n",
       "      <td>0.779</td>\n",
       "      <td>0.709</td>\n",
       "      <td>0.390</td>\n",
       "    </tr>\n",
       "  </tbody>\n",
       "</table>\n",
       "</div>"
      ],
      "text/plain": [
       "           A       B  mean(A)  mean(B)   diff     se      T  p-tukey  hedges\n",
       "0  AGROSUPER  COAGRA    2.862    1.677  1.185  0.237  5.005    0.001   2.505\n",
       "1  AGROSUPER      HF    2.862    1.493  1.369  0.237  5.784    0.001   2.894\n",
       "2     COAGRA      HF    1.677    1.493  0.184  0.237  0.779    0.709   0.390"
      ]
     },
     "execution_count": 267,
     "metadata": {},
     "output_type": "execute_result"
    }
   ],
   "source": [
    "pg.pairwise_tukey(datos_GA_VT, dv='razon_de_liquidez', between='tic').round(3)"
   ]
  },
  {
   "cell_type": "markdown",
   "id": "34eaf1c7",
   "metadata": {},
   "source": [
    "#### <center> *De la prueba podemos apreciar que AGROSUPER presenta diferencias estadísticamente significativas con respecto a Coagra Agroindustrial S.A y HF servicios agrícolas ya que su p-valor es menor a 0.05, por lo cuál para ambas comparaciones rechazamos H0(las medias son iguales), en este caso debemos tomar la hipótesis alternativa que es H1 la que nos dice las medias son diferentes y caemos en el ERROR TIPO 2, de esto podemos decir que el indicador de liquidez es mayor de AGROSUPER respecto a las otras dos empresas lo podemos ratificar observando la gráfica de box plot. En cambio Coagra Agroindustrial S.A y HF servicios agrícolas su p-valor no es signficativo por lo cuál no hay suficiente evidencia estadistica para rechazar H0, caemos en el ERROR TIPO 1, esto quiere decir que sus medias son iguales y sus indicadores de liquidez son similares.*"
   ]
  }
 ],
 "metadata": {
  "kernelspec": {
   "display_name": "Python 3",
   "language": "python",
   "name": "python3"
  },
  "language_info": {
   "codemirror_mode": {
    "name": "ipython",
    "version": 3
   },
   "file_extension": ".py",
   "mimetype": "text/x-python",
   "name": "python",
   "nbconvert_exporter": "python",
   "pygments_lexer": "ipython3",
   "version": "3.8.8"
  }
 },
 "nbformat": 4,
 "nbformat_minor": 5
}
