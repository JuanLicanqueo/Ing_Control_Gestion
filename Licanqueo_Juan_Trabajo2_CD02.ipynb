{
 "cells": [
  {
   "cell_type": "markdown",
   "id": "2d55b828",
   "metadata": {},
   "source": [
    "# <center> Trabajo 2\n",
    "Nombre: Juan Licanqueo\n",
    "\n",
    "El trabajo 2 consiste en usar disponibles de vino de la clase 2:\n",
    "\n",
    "Los datos los puede bajar desde: https://archive.ics.uci.edu/ml/machine-learning-databases/wine/wine.data. \n",
    "\n",
    "Recuerde que tienen clase de acuerdo al tipo de vino en la columna 0.\n",
    "1. Defina un conjunto de prueba y uno de test. Recuerde que si hay diferentes clases debe hacer muestreo estratificado para tener ejemplos de cada clase.\n",
    "2. Aplique el SVM  con regularización para ver su clasificación.\n",
    "3. Aplique SVM con kernel de base radial y regularización.\n",
    "4. ¿Cúal modelo logró mejor clasificación?"
   ]
  },
  {
   "cell_type": "markdown",
   "id": "a856dab7",
   "metadata": {},
   "source": [
    "### Importamos las librerias ."
   ]
  },
  {
   "cell_type": "code",
   "execution_count": 1,
   "id": "e3cb517d",
   "metadata": {},
   "outputs": [],
   "source": [
    "import pandas as pd\n",
    "import matplotlib.pyplot as plt\n",
    "import numpy as np \n",
    "import seaborn as sns\n",
    "import os"
   ]
  },
  {
   "cell_type": "markdown",
   "id": "a6171da1",
   "metadata": {},
   "source": [
    "### Definimos el directorio de trabajo."
   ]
  },
  {
   "cell_type": "code",
   "execution_count": 2,
   "id": "ab087dd2",
   "metadata": {},
   "outputs": [
    {
     "data": {
      "text/plain": [
       "'C:\\\\Users\\\\Juan\\\\Desktop\\\\trabajo_1'"
      ]
     },
     "execution_count": 2,
     "metadata": {},
     "output_type": "execute_result"
    }
   ],
   "source": [
    "os.chdir('/Users/Juan/Desktop/trabajo_1/')\n",
    "os.getcwd()"
   ]
  },
  {
   "cell_type": "markdown",
   "id": "b0ea9256",
   "metadata": {},
   "source": [
    "### Cargaremos  los datos de las propiedades del Vino desde UCI machine learning repository con el siguiente código y visualizaremos su contenido."
   ]
  },
  {
   "cell_type": "code",
   "execution_count": 3,
   "id": "66d9bef1",
   "metadata": {},
   "outputs": [
    {
     "data": {
      "text/plain": [
       "(178, 14)"
      ]
     },
     "execution_count": 3,
     "metadata": {},
     "output_type": "execute_result"
    }
   ],
   "source": [
    "#Crearemos una variable para guardar el dataset de VINOS sin encabezados.\n",
    "Vinos = pd.read_csv('https://archive.ics.uci.edu/ml/machine-learning-databases/wine/wine.data',\n",
    "                    header=None)\n",
    "#-----------------------------------------------------------------------------------------------\n",
    "#A continuación agregaremos los encabezados, los nombres de las variables por columna.\n",
    "Vinos.columns = ['Etiqueta_Clase',\n",
    "                 'Alcohol',\n",
    "                 'Acido_Malico',\n",
    "                 'Ceniza',\n",
    "                 'Alcalinidad_Cenizas', \n",
    "                 'Magnesio', \n",
    "                 'Fenoles_Totales',\n",
    "                 'Flavonoides',\n",
    "                 'Fenoles_No_Flavonoides', \n",
    "                 'Proantocianinas',\n",
    "                 'Intensidad_Color', \n",
    "                 'Tono',\n",
    "                 'OD280/OD315_Vinos_Diluidos',\n",
    "                 'Prolina']\n",
    "#--------------------------------------------------------------------------------------------------\n",
    "#Finalmente visualizaremos la dimensión de los dataset.\n",
    "Vinos.shape"
   ]
  },
  {
   "cell_type": "markdown",
   "id": "f8be110f",
   "metadata": {},
   "source": [
    "### Observaremos como se comportan los datos aplicando un resumen estadístico, de esta forma podremos las diferencias de la magnitud de rango de las diferentes variables."
   ]
  },
  {
   "cell_type": "code",
   "execution_count": 4,
   "id": "8d3fd794",
   "metadata": {},
   "outputs": [
    {
     "data": {
      "text/html": [
       "<div>\n",
       "<style scoped>\n",
       "    .dataframe tbody tr th:only-of-type {\n",
       "        vertical-align: middle;\n",
       "    }\n",
       "\n",
       "    .dataframe tbody tr th {\n",
       "        vertical-align: top;\n",
       "    }\n",
       "\n",
       "    .dataframe thead th {\n",
       "        text-align: right;\n",
       "    }\n",
       "</style>\n",
       "<table border=\"1\" class=\"dataframe\">\n",
       "  <thead>\n",
       "    <tr style=\"text-align: right;\">\n",
       "      <th></th>\n",
       "      <th>Etiqueta_Clase</th>\n",
       "      <th>Alcohol</th>\n",
       "      <th>Acido_Malico</th>\n",
       "      <th>Ceniza</th>\n",
       "      <th>Alcalinidad_Cenizas</th>\n",
       "      <th>Magnesio</th>\n",
       "      <th>Fenoles_Totales</th>\n",
       "      <th>Flavonoides</th>\n",
       "      <th>Fenoles_No_Flavonoides</th>\n",
       "      <th>Proantocianinas</th>\n",
       "      <th>Intensidad_Color</th>\n",
       "      <th>Tono</th>\n",
       "      <th>OD280/OD315_Vinos_Diluidos</th>\n",
       "      <th>Prolina</th>\n",
       "    </tr>\n",
       "  </thead>\n",
       "  <tbody>\n",
       "    <tr>\n",
       "      <th>count</th>\n",
       "      <td>178.000000</td>\n",
       "      <td>178.000000</td>\n",
       "      <td>178.000000</td>\n",
       "      <td>178.000000</td>\n",
       "      <td>178.000000</td>\n",
       "      <td>178.000000</td>\n",
       "      <td>178.000000</td>\n",
       "      <td>178.000000</td>\n",
       "      <td>178.000000</td>\n",
       "      <td>178.000000</td>\n",
       "      <td>178.000000</td>\n",
       "      <td>178.000000</td>\n",
       "      <td>178.000000</td>\n",
       "      <td>178.000000</td>\n",
       "    </tr>\n",
       "    <tr>\n",
       "      <th>mean</th>\n",
       "      <td>1.938202</td>\n",
       "      <td>13.000618</td>\n",
       "      <td>2.336348</td>\n",
       "      <td>2.366517</td>\n",
       "      <td>19.494944</td>\n",
       "      <td>99.741573</td>\n",
       "      <td>2.295112</td>\n",
       "      <td>2.029270</td>\n",
       "      <td>0.361854</td>\n",
       "      <td>1.590899</td>\n",
       "      <td>5.058090</td>\n",
       "      <td>0.957449</td>\n",
       "      <td>2.611685</td>\n",
       "      <td>746.893258</td>\n",
       "    </tr>\n",
       "    <tr>\n",
       "      <th>std</th>\n",
       "      <td>0.775035</td>\n",
       "      <td>0.811827</td>\n",
       "      <td>1.117146</td>\n",
       "      <td>0.274344</td>\n",
       "      <td>3.339564</td>\n",
       "      <td>14.282484</td>\n",
       "      <td>0.625851</td>\n",
       "      <td>0.998859</td>\n",
       "      <td>0.124453</td>\n",
       "      <td>0.572359</td>\n",
       "      <td>2.318286</td>\n",
       "      <td>0.228572</td>\n",
       "      <td>0.709990</td>\n",
       "      <td>314.907474</td>\n",
       "    </tr>\n",
       "    <tr>\n",
       "      <th>min</th>\n",
       "      <td>1.000000</td>\n",
       "      <td>11.030000</td>\n",
       "      <td>0.740000</td>\n",
       "      <td>1.360000</td>\n",
       "      <td>10.600000</td>\n",
       "      <td>70.000000</td>\n",
       "      <td>0.980000</td>\n",
       "      <td>0.340000</td>\n",
       "      <td>0.130000</td>\n",
       "      <td>0.410000</td>\n",
       "      <td>1.280000</td>\n",
       "      <td>0.480000</td>\n",
       "      <td>1.270000</td>\n",
       "      <td>278.000000</td>\n",
       "    </tr>\n",
       "    <tr>\n",
       "      <th>25%</th>\n",
       "      <td>1.000000</td>\n",
       "      <td>12.362500</td>\n",
       "      <td>1.602500</td>\n",
       "      <td>2.210000</td>\n",
       "      <td>17.200000</td>\n",
       "      <td>88.000000</td>\n",
       "      <td>1.742500</td>\n",
       "      <td>1.205000</td>\n",
       "      <td>0.270000</td>\n",
       "      <td>1.250000</td>\n",
       "      <td>3.220000</td>\n",
       "      <td>0.782500</td>\n",
       "      <td>1.937500</td>\n",
       "      <td>500.500000</td>\n",
       "    </tr>\n",
       "    <tr>\n",
       "      <th>50%</th>\n",
       "      <td>2.000000</td>\n",
       "      <td>13.050000</td>\n",
       "      <td>1.865000</td>\n",
       "      <td>2.360000</td>\n",
       "      <td>19.500000</td>\n",
       "      <td>98.000000</td>\n",
       "      <td>2.355000</td>\n",
       "      <td>2.135000</td>\n",
       "      <td>0.340000</td>\n",
       "      <td>1.555000</td>\n",
       "      <td>4.690000</td>\n",
       "      <td>0.965000</td>\n",
       "      <td>2.780000</td>\n",
       "      <td>673.500000</td>\n",
       "    </tr>\n",
       "    <tr>\n",
       "      <th>75%</th>\n",
       "      <td>3.000000</td>\n",
       "      <td>13.677500</td>\n",
       "      <td>3.082500</td>\n",
       "      <td>2.557500</td>\n",
       "      <td>21.500000</td>\n",
       "      <td>107.000000</td>\n",
       "      <td>2.800000</td>\n",
       "      <td>2.875000</td>\n",
       "      <td>0.437500</td>\n",
       "      <td>1.950000</td>\n",
       "      <td>6.200000</td>\n",
       "      <td>1.120000</td>\n",
       "      <td>3.170000</td>\n",
       "      <td>985.000000</td>\n",
       "    </tr>\n",
       "    <tr>\n",
       "      <th>max</th>\n",
       "      <td>3.000000</td>\n",
       "      <td>14.830000</td>\n",
       "      <td>5.800000</td>\n",
       "      <td>3.230000</td>\n",
       "      <td>30.000000</td>\n",
       "      <td>162.000000</td>\n",
       "      <td>3.880000</td>\n",
       "      <td>5.080000</td>\n",
       "      <td>0.660000</td>\n",
       "      <td>3.580000</td>\n",
       "      <td>13.000000</td>\n",
       "      <td>1.710000</td>\n",
       "      <td>4.000000</td>\n",
       "      <td>1680.000000</td>\n",
       "    </tr>\n",
       "  </tbody>\n",
       "</table>\n",
       "</div>"
      ],
      "text/plain": [
       "       Etiqueta_Clase     Alcohol  Acido_Malico      Ceniza  \\\n",
       "count      178.000000  178.000000    178.000000  178.000000   \n",
       "mean         1.938202   13.000618      2.336348    2.366517   \n",
       "std          0.775035    0.811827      1.117146    0.274344   \n",
       "min          1.000000   11.030000      0.740000    1.360000   \n",
       "25%          1.000000   12.362500      1.602500    2.210000   \n",
       "50%          2.000000   13.050000      1.865000    2.360000   \n",
       "75%          3.000000   13.677500      3.082500    2.557500   \n",
       "max          3.000000   14.830000      5.800000    3.230000   \n",
       "\n",
       "       Alcalinidad_Cenizas    Magnesio  Fenoles_Totales  Flavonoides  \\\n",
       "count           178.000000  178.000000       178.000000   178.000000   \n",
       "mean             19.494944   99.741573         2.295112     2.029270   \n",
       "std               3.339564   14.282484         0.625851     0.998859   \n",
       "min              10.600000   70.000000         0.980000     0.340000   \n",
       "25%              17.200000   88.000000         1.742500     1.205000   \n",
       "50%              19.500000   98.000000         2.355000     2.135000   \n",
       "75%              21.500000  107.000000         2.800000     2.875000   \n",
       "max              30.000000  162.000000         3.880000     5.080000   \n",
       "\n",
       "       Fenoles_No_Flavonoides  Proantocianinas  Intensidad_Color        Tono  \\\n",
       "count              178.000000       178.000000        178.000000  178.000000   \n",
       "mean                 0.361854         1.590899          5.058090    0.957449   \n",
       "std                  0.124453         0.572359          2.318286    0.228572   \n",
       "min                  0.130000         0.410000          1.280000    0.480000   \n",
       "25%                  0.270000         1.250000          3.220000    0.782500   \n",
       "50%                  0.340000         1.555000          4.690000    0.965000   \n",
       "75%                  0.437500         1.950000          6.200000    1.120000   \n",
       "max                  0.660000         3.580000         13.000000    1.710000   \n",
       "\n",
       "       OD280/OD315_Vinos_Diluidos      Prolina  \n",
       "count                  178.000000   178.000000  \n",
       "mean                     2.611685   746.893258  \n",
       "std                      0.709990   314.907474  \n",
       "min                      1.270000   278.000000  \n",
       "25%                      1.937500   500.500000  \n",
       "50%                      2.780000   673.500000  \n",
       "75%                      3.170000   985.000000  \n",
       "max                      4.000000  1680.000000  "
      ]
     },
     "execution_count": 4,
     "metadata": {},
     "output_type": "execute_result"
    }
   ],
   "source": [
    "#Aplicaremos la función describe para generar el resumen estadístico.\n",
    "Vinos.describe()"
   ]
  },
  {
   "cell_type": "markdown",
   "id": "23913413",
   "metadata": {},
   "source": [
    "### A continuación separaremos las variables independientes de la dependiente en dos datasets."
   ]
  },
  {
   "cell_type": "code",
   "execution_count": 5,
   "id": "a96f0ddf",
   "metadata": {},
   "outputs": [
    {
     "data": {
      "text/plain": [
       "(178, 13)"
      ]
     },
     "execution_count": 5,
     "metadata": {},
     "output_type": "execute_result"
    }
   ],
   "source": [
    "#Definiremos el dataset de las variables independientes como X.\n",
    "x = Vinos.iloc[:,1:14].values\n",
    "x.shape"
   ]
  },
  {
   "cell_type": "code",
   "execution_count": 6,
   "id": "64ef321b",
   "metadata": {},
   "outputs": [
    {
     "data": {
      "text/plain": [
       "(178,)"
      ]
     },
     "execution_count": 6,
     "metadata": {},
     "output_type": "execute_result"
    }
   ],
   "source": [
    "#Definiremos el dataset de la variable dependiente como Y.\n",
    "y = Vinos.iloc[:,0].values\n",
    "y.shape"
   ]
  },
  {
   "cell_type": "markdown",
   "id": "eb444a44",
   "metadata": {},
   "source": [
    "### Ahora dividiremos nuestras variables en datos de entrenamiento y prueba para el modelo que utilicemos."
   ]
  },
  {
   "cell_type": "code",
   "execution_count": 7,
   "id": "f087ba6e",
   "metadata": {},
   "outputs": [],
   "source": [
    "#Importaremos la clase train test split de la la librería sklearn para dividir los datos.\n",
    "from sklearn.model_selection import train_test_split\n",
    "#--------------------------------------------------------------------\n",
    "#Particionamos los datos, con 75% para entrenar y 25% para prueba, tambien estratificaremos la\n",
    "#variable independiente.\n",
    "X_train, X_test, y_train, y_test = train_test_split(x, \n",
    "                                                    y,\n",
    "                                                   test_size = 0.25,\n",
    "                                                   stratify = y,\n",
    "                                                   random_state = 0)"
   ]
  },
  {
   "cell_type": "markdown",
   "id": "04e0e70a",
   "metadata": {},
   "source": [
    "### A continuación pasaremos a escalar los datos independientes para estandarizar los valores y evitar que algunas variables predominen más sobre las demás."
   ]
  },
  {
   "cell_type": "code",
   "execution_count": 8,
   "id": "bfdd96fd",
   "metadata": {},
   "outputs": [],
   "source": [
    "#Importaremos la clase escalamiento estandar de la librería sklearn para realizar el escalonamiento \n",
    "#estandarizado de los datos.\n",
    "from sklearn.preprocessing import StandardScaler\n",
    "#---------------------------------------------------------------------------------------------\n",
    "#Ahora instanciaremos la clase que nos transformara los datos.\n",
    "SC_x = StandardScaler()\n",
    "#----------------------------------------------------------------------------------------------\n",
    "#En primer lugar ocuparemos los datos de entrenamiento de las variables independientes y \n",
    "#utilizaremos la función fit_transform para ajustar los datos y estandarizarlos, de esta forma \n",
    "#los datos se escalaran de forma automática y se obtendra la media y la varianza.\n",
    "X_train = SC_x.fit_transform(X_train)\n",
    "#-----------------------------------------------------------------------------------------------\n",
    "#En segundo lugar escalaremos los datos de prueba de las variables independientes, para esto solo\n",
    "#utilizaremos la función transform y asi podremos estandarizar los datos con la media y varianza \n",
    "#que se calculo anteriormente de forma automática.\n",
    "X_test = SC_x.transform(X_test)"
   ]
  },
  {
   "cell_type": "markdown",
   "id": "ba5e06f9",
   "metadata": {},
   "source": [
    "# <center> Ahora pasaremos a generar el modelo de clasificación utlizando SVM con  regularización."
   ]
  },
  {
   "cell_type": "markdown",
   "id": "568b05e0",
   "metadata": {},
   "source": [
    "### El primer modelo contendra todas las variables independientes con regularización."
   ]
  },
  {
   "cell_type": "code",
   "execution_count": 9,
   "id": "352cb222",
   "metadata": {},
   "outputs": [
    {
     "data": {
      "text/plain": [
       "SVC(kernel='linear', random_state=0)"
      ]
     },
     "execution_count": 9,
     "metadata": {},
     "output_type": "execute_result"
    }
   ],
   "source": [
    "#Importaremos la clase SVM desde la librería sklearn para crear el modelo.\n",
    "from sklearn.svm import SVC\n",
    "#------------------------------------------------------------------------------------------------\n",
    "#A continuacion crearemos un objeto para instanciar la clase con regularización (C) y definiremos \n",
    "#una semilla, con esto generaremos el modelo de clasificación.\n",
    "Cl_SVM = SVC(kernel = 'linear', C=1.0, random_state = 0)\n",
    "#------------------------------------------------------------------------------------------------\n",
    "#El siguiente paso es ajustar el modelo de clasificación con la función fit utilizando los datos \n",
    "#de entrenamiento de las variables independientes y de la variable dependiente.\n",
    "Cl_SVM.fit(X_train, y_train)"
   ]
  },
  {
   "cell_type": "markdown",
   "id": "0a06c6e0",
   "metadata": {},
   "source": [
    "### En este paso realizaremos la predicción de los resultados con el conjunto de prueba."
   ]
  },
  {
   "cell_type": "code",
   "execution_count": 10,
   "id": "67434090",
   "metadata": {},
   "outputs": [],
   "source": [
    "#Crearemos una variable donde guardaremos el vector con la predicciones de cada una de las \n",
    "#observaciones de los datos de prueba, para esto utilizaremos el conjunto de datos para prueba\n",
    "#de las variables independientes creadas con SVM. \n",
    "y_pred_SVM = Cl_SVM.predict(X_test)"
   ]
  },
  {
   "cell_type": "markdown",
   "id": "07558088",
   "metadata": {},
   "source": [
    "### El paso siguiente sera verificar que tan bien predice el modelo, para esto ocuparemos la matriz de confusión."
   ]
  },
  {
   "cell_type": "code",
   "execution_count": 11,
   "id": "6c252500",
   "metadata": {
    "scrolled": false
   },
   "outputs": [
    {
     "data": {
      "text/plain": [
       "<function matplotlib.pyplot.show(close=None, block=None)>"
      ]
     },
     "execution_count": 11,
     "metadata": {},
     "output_type": "execute_result"
    },
    {
     "data": {
      "image/png": "[encoded data removed]",
      "text/plain": [
       "<Figure size 936x576 with 2 Axes>"
      ]
     },
     "metadata": {
      "needs_background": "light"
     },
     "output_type": "display_data"
    }
   ],
   "source": [
    "#Importaremos la clase de la matriz de confusión desde la librearía de sklearn.\n",
    "from sklearn.metrics import confusion_matrix\n",
    "#-------------------------------------------------------------------------------------------------\n",
    "#A continuación crearemos una variable donde guardamos los resultados de la matriz de confusión,\n",
    "#para eso utilizaremos el conjunto de datos de prueba original de la variable independiente y \n",
    "#la compararemos con los datos predichos.\n",
    "Mat_Conf_SVM = confusion_matrix(y_test, y_pred_SVM)\n",
    "#--------------------------------------------------------------------------------------------------\n",
    "#Finalmente visualizaremos la matriz de confusión para que tan bueno es nuestro modelo\n",
    "plt.figure(figsize = (13,8))\n",
    "sns.heatmap(Mat_Conf_SVM, \n",
    "            cmap = 'Greens',\n",
    "           annot = True)\n",
    "plt.xlabel('Predicciones',\n",
    "          fontsize = 15)\n",
    "plt.ylabel('Originales',\n",
    "          fontsize = 15)\n",
    "plt.show"
   ]
  },
  {
   "cell_type": "markdown",
   "id": "e9f3cbb9",
   "metadata": {},
   "source": [
    "### Calcularemos la presición del modelo."
   ]
  },
  {
   "cell_type": "code",
   "execution_count": 12,
   "id": "bd584760",
   "metadata": {},
   "outputs": [
    {
     "name": "stdout",
     "output_type": "stream",
     "text": [
      "\n",
      "El accuracy de test es: 97.77777777777777%\n"
     ]
    }
   ],
   "source": [
    "# Accuracy de test del modelo \n",
    "from sklearn.metrics import accuracy_score\n",
    "# ==============================================================================\n",
    "accuracy = accuracy_score(\n",
    "            y_true    = y_test,\n",
    "            y_pred    = y_pred_SVM,\n",
    "            normalize = True\n",
    "           )\n",
    "print(\"\")\n",
    "print(f\"El accuracy de test es: {100*accuracy}%\")"
   ]
  },
  {
   "cell_type": "markdown",
   "id": "47ee57e0",
   "metadata": {},
   "source": [
    "### Ahora volveremos a calcular las predicciones pero con 2 variables independientes para poder gráficar."
   ]
  },
  {
   "cell_type": "code",
   "execution_count": 13,
   "id": "974e92ce",
   "metadata": {},
   "outputs": [
    {
     "data": {
      "text/plain": [
       "(178, 2)"
      ]
     },
     "execution_count": 13,
     "metadata": {},
     "output_type": "execute_result"
    }
   ],
   "source": [
    "#Definiremos el dataset de las variables independientes como X, aca solo utilizaremos 2 variable,\n",
    "#estas serán ALCOHOL y PROLINA.\n",
    "x_2 = Vinos.iloc[:,[1,13]].values\n",
    "x_2.shape"
   ]
  },
  {
   "cell_type": "code",
   "execution_count": 14,
   "id": "178a5e4d",
   "metadata": {},
   "outputs": [
    {
     "data": {
      "text/plain": [
       "(178,)"
      ]
     },
     "execution_count": 14,
     "metadata": {},
     "output_type": "execute_result"
    }
   ],
   "source": [
    "#Definiremos el dataset de la variable dependiente como Y.\n",
    "y_2 = Vinos.iloc[:,0].values\n",
    "y_2.shape"
   ]
  },
  {
   "cell_type": "markdown",
   "id": "d104ddf9",
   "metadata": {},
   "source": [
    "### Ahora dividiremos nuestras variables en datos de entrenamiento y prueba para el modelo que utilicemos."
   ]
  },
  {
   "cell_type": "code",
   "execution_count": 15,
   "id": "6234c570",
   "metadata": {},
   "outputs": [],
   "source": [
    "#Particionamos los datos, con 75% para entrenar y 25% para prueba tambien estratificaremos la\n",
    "#variable independiente.\n",
    "X_train_2, X_test_2, y_train_2, y_test_2 = train_test_split(x_2, \n",
    "                                                    y_2,\n",
    "                                                   test_size = 0.25,\n",
    "                                                   stratify = y_2,\n",
    "                                                   random_state = 0)"
   ]
  },
  {
   "cell_type": "markdown",
   "id": "9e092e9a",
   "metadata": {},
   "source": [
    "### A continuación pasaremos a escalar los datos independientes para estandarizar los valores y evitar que algunas variables predominen más sobre las demás."
   ]
  },
  {
   "cell_type": "code",
   "execution_count": 16,
   "id": "3415622c",
   "metadata": {},
   "outputs": [],
   "source": [
    "#Ahora instanciaremos la clase que nos transformara los datos.\n",
    "SC_x_2 = StandardScaler()\n",
    "#----------------------------------------------------------------------------------------------\n",
    "#En primer lugar ocuparemos los datos de entrenamiento de las variables independientes y \n",
    "#utilizaremos la función fit_transform para ajustar los datos y estandarizarlos, de esta forma \n",
    "#los datos se escalaran de forma automática y se obtendra la media y la varianza.\n",
    "X_train_2 = SC_x.fit_transform(X_train_2)\n",
    "#-----------------------------------------------------------------------------------------------\n",
    "#En segundo lugar escalaremos los datos de prueba de las variables independientes, para esto solo\n",
    "#utilizaremos la función transform y asi podremos estandarizar los datos con la media y varianza \n",
    "#que se calculo anteriormente de forma automática.\n",
    "X_test_2 = SC_x.transform(X_test_2)"
   ]
  },
  {
   "cell_type": "markdown",
   "id": "63b6f96c",
   "metadata": {},
   "source": [
    "### Ahora pasaremos a generar el modelo de clasificación utlizando SVM con regularización, con dos variables independientes."
   ]
  },
  {
   "cell_type": "code",
   "execution_count": 17,
   "id": "48401ecd",
   "metadata": {},
   "outputs": [
    {
     "data": {
      "text/plain": [
       "SVC(kernel='linear', random_state=0)"
      ]
     },
     "execution_count": 17,
     "metadata": {},
     "output_type": "execute_result"
    }
   ],
   "source": [
    "#A continuacion crearemos un objeto para instanciar la clase con regularización (C) y definiremos \n",
    "#una semilla, con esto generaremos el modelo de clasificación.\n",
    "Cl_SVM_2 = SVC(kernel = 'linear', C=1.0, random_state = 0)\n",
    "#------------------------------------------------------------------------------------------------\n",
    "#El siguiente paso es ajustar el modelo de clasificación con la función fit utilizando los datos \n",
    "#de entrenamiento de las variables independientes y de la variable dependiente.\n",
    "Cl_SVM_2.fit(X_train_2, y_train_2)"
   ]
  },
  {
   "cell_type": "markdown",
   "id": "d90239cc",
   "metadata": {},
   "source": [
    "### En este paso realizaremos la predicción de los resultados con el conjunto de prueba."
   ]
  },
  {
   "cell_type": "code",
   "execution_count": 18,
   "id": "6fae27df",
   "metadata": {},
   "outputs": [],
   "source": [
    "#Crearemos una variable donde guardaremos el vector con la predicciones de cada una de las \n",
    "#observaciones de los datos de prueba, para esto utilizaremos el conjunto de datos para prueba\n",
    "#de las variables independientes creadas con SVM para dos variables independientes. \n",
    "y_pred_SVM_2 = Cl_SVM_2.predict(X_test_2)"
   ]
  },
  {
   "cell_type": "markdown",
   "id": "9a1a131a",
   "metadata": {},
   "source": [
    "### Vamos a generar una represetación gráfica de los resultados obtenidos en el conjunto de entrenamiento."
   ]
  },
  {
   "cell_type": "code",
   "execution_count": 19,
   "id": "8aa4853f",
   "metadata": {},
   "outputs": [
    {
     "name": "stderr",
     "output_type": "stream",
     "text": [
      "*c* argument looks like a single numeric RGB or RGBA sequence, which should be avoided as value-mapping will have precedence in case its length matches with *x* & *y*.  Please use the *color* keyword-argument or provide a 2-D array with a single row if you intend to specify the same RGB or RGBA value for all points.\n",
      "*c* argument looks like a single numeric RGB or RGBA sequence, which should be avoided as value-mapping will have precedence in case its length matches with *x* & *y*.  Please use the *color* keyword-argument or provide a 2-D array with a single row if you intend to specify the same RGB or RGBA value for all points.\n",
      "*c* argument looks like a single numeric RGB or RGBA sequence, which should be avoided as value-mapping will have precedence in case its length matches with *x* & *y*.  Please use the *color* keyword-argument or provide a 2-D array with a single row if you intend to specify the same RGB or RGBA value for all points.\n"
     ]
    },
    {
     "data": {
      "image/png": "[encoded data removed]",
      "text/plain": [
       "<Figure size 432x288 with 1 Axes>"
      ]
     },
     "metadata": {
      "needs_background": "light"
     },
     "output_type": "display_data"
    }
   ],
   "source": [
    "# Representación gráfica de los resultados del algoritmo en el Conjunto de Entrenamiento\n",
    "from matplotlib.colors import ListedColormap\n",
    "X_set, y_set = X_train_2, y_train_2\n",
    "X1, X2 = np.meshgrid(np.arange(start = X_set[:, 0].min() - 1, stop = X_set[:, 0].max() + 1, step = 0.01),\n",
    "                     np.arange(start = X_set[:, 1].min() - 1, stop = X_set[:, 1].max() + 1, step = 0.01))\n",
    "plt.contourf(X1, X2, Cl_SVM_2.predict(np.array([X1.ravel(), X2.ravel()]).T).reshape(X1.shape),\n",
    "             alpha = 0.75, cmap = ListedColormap(('#F0A741', '#E3496A', '#DA43FA')))\n",
    "plt.xlim(X1.min(), X1.max())\n",
    "plt.ylim(X2.min(), X2.max())\n",
    "for i, j in enumerate(np.unique(y_set)):\n",
    "    plt.scatter(X_set[y_set == j, 0], X_set[y_set == j, 1],\n",
    "                c = ListedColormap(('#F0A741', '#E3496A', '#DA43FA'))(i), label = j)\n",
    "plt.title('SVM (Conjunto de Entrenamiento)')\n",
    "plt.xlabel('ALCOHOL')\n",
    "plt.ylabel('PROLINA')\n",
    "plt.legend()\n",
    "plt.show()"
   ]
  },
  {
   "cell_type": "markdown",
   "id": "6e35fc21",
   "metadata": {},
   "source": [
    "### Ahora vamos a generar una represetación gráfica de los resultados obtenidos en el conjunto prueba."
   ]
  },
  {
   "cell_type": "code",
   "execution_count": 20,
   "id": "6750d943",
   "metadata": {},
   "outputs": [
    {
     "name": "stderr",
     "output_type": "stream",
     "text": [
      "*c* argument looks like a single numeric RGB or RGBA sequence, which should be avoided as value-mapping will have precedence in case its length matches with *x* & *y*.  Please use the *color* keyword-argument or provide a 2-D array with a single row if you intend to specify the same RGB or RGBA value for all points.\n",
      "*c* argument looks like a single numeric RGB or RGBA sequence, which should be avoided as value-mapping will have precedence in case its length matches with *x* & *y*.  Please use the *color* keyword-argument or provide a 2-D array with a single row if you intend to specify the same RGB or RGBA value for all points.\n",
      "*c* argument looks like a single numeric RGB or RGBA sequence, which should be avoided as value-mapping will have precedence in case its length matches with *x* & *y*.  Please use the *color* keyword-argument or provide a 2-D array with a single row if you intend to specify the same RGB or RGBA value for all points.\n"
     ]
    },
    {
     "data": {
      "image/png": "[encoded data removed]",
      "text/plain": [
       "<Figure size 432x288 with 1 Axes>"
      ]
     },
     "metadata": {
      "needs_background": "light"
     },
     "output_type": "display_data"
    }
   ],
   "source": [
    "# Representación gráfica de los resultados del algoritmo en el Conjunto de Prueba.\n",
    "X_set, y_set = X_test_2, y_test_2\n",
    "X1, X2 = np.meshgrid(np.arange(start = X_set[:, 0].min() - 1, stop = X_set[:, 0].max() + 1, step = 0.01),\n",
    "                     np.arange(start = X_set[:, 1].min() - 1, stop = X_set[:, 1].max() + 1, step = 0.01))\n",
    "plt.contourf(X1, X2, Cl_SVM_2.predict(np.array([X1.ravel(), X2.ravel()]).T).reshape(X1.shape),\n",
    "             alpha = 0.75, cmap = ListedColormap(('#F0A741', '#E3496A', '#DA43FA')))\n",
    "plt.xlim(X1.min(), X1.max())\n",
    "plt.ylim(X2.min(), X2.max())\n",
    "for i, j in enumerate(np.unique(y_set)):\n",
    "    plt.scatter(X_set[y_set == j, 0], X_set[y_set == j, 1],\n",
    "                c = ListedColormap(('#F0A741', '#E3496A', '#DA43FA'))(i), label = j)\n",
    "plt.title('SVM (Conjunto de Prueba)')\n",
    "plt.xlabel('ALCOHOL')\n",
    "plt.ylabel('PROLINA')\n",
    "plt.legend()\n",
    "plt.show()"
   ]
  },
  {
   "cell_type": "markdown",
   "id": "a32d4094",
   "metadata": {},
   "source": [
    "### Calcularemos la presición del modelo."
   ]
  },
  {
   "cell_type": "code",
   "execution_count": 21,
   "id": "a5de6b45",
   "metadata": {},
   "outputs": [
    {
     "name": "stdout",
     "output_type": "stream",
     "text": [
      "\n",
      "El accuracy de test es: 82.22222222222221%\n"
     ]
    }
   ],
   "source": [
    "# Accuracy de test del modelo \n",
    "# ==============================================================================\n",
    "accuracy = accuracy_score(\n",
    "            y_true    = y_test_2,\n",
    "            y_pred    = y_pred_SVM_2,\n",
    "            normalize = True\n",
    "           )\n",
    "print(\"\")\n",
    "print(f\"El accuracy de test es: {100*accuracy}%\")"
   ]
  },
  {
   "cell_type": "markdown",
   "id": "c3b57a41",
   "metadata": {},
   "source": [
    "# <center> Ahora pasaremos a generar el modelo de clasificación utlizando SVM con  regularización y base radial."
   ]
  },
  {
   "cell_type": "markdown",
   "id": "940e2a93",
   "metadata": {},
   "source": [
    "### El primer modelo contendra todas las variables independientes con regularización y base radial."
   ]
  },
  {
   "cell_type": "code",
   "execution_count": 22,
   "id": "be85cfe9",
   "metadata": {},
   "outputs": [
    {
     "data": {
      "text/plain": [
       "SVC(random_state=0)"
      ]
     },
     "execution_count": 22,
     "metadata": {},
     "output_type": "execute_result"
    }
   ],
   "source": [
    "#A continuacion crearemos un objeto para instanciar la clase con regularización (C), un kernel\n",
    "#radial y definiremos una semilla, con esto generaremos el modelo de clasificación.\n",
    "Cl_SVM_Rd = SVC(kernel = 'rbf', C=1.0, random_state = 0)\n",
    "#------------------------------------------------------------------------------------------------\n",
    "#El siguiente paso es ajustar el modelo de clasificación con la función fit utilizando los datos \n",
    "#de entrenamiento de las variables independientes y de la variable dependiente.\n",
    "Cl_SVM_Rd.fit(X_train, y_train)"
   ]
  },
  {
   "cell_type": "markdown",
   "id": "6bf5f246",
   "metadata": {},
   "source": [
    "### En este paso realizaremos la predicción de los resultados con el conjunto de prueba."
   ]
  },
  {
   "cell_type": "code",
   "execution_count": 23,
   "id": "70f8e112",
   "metadata": {},
   "outputs": [],
   "source": [
    "#Crearemos una variable donde guardaremos el vector con la predicciones de cada una de las \n",
    "#observaciones de los datos de prueba, para esto utilizaremos el conjunto de datos para prueba\n",
    "#de las variables independientes creadas con SVM con kernel radial. \n",
    "y_pred_SVM_Rd = Cl_SVM_Rd.predict(X_test)"
   ]
  },
  {
   "cell_type": "markdown",
   "id": "878b5e80",
   "metadata": {},
   "source": [
    "### El paso siguiente sera verificar que tan bien predice el modelo, para esto ocuparemos la matriz de confusión."
   ]
  },
  {
   "cell_type": "code",
   "execution_count": 24,
   "id": "0822675f",
   "metadata": {},
   "outputs": [
    {
     "data": {
      "text/plain": [
       "<function matplotlib.pyplot.show(close=None, block=None)>"
      ]
     },
     "execution_count": 24,
     "metadata": {},
     "output_type": "execute_result"
    },
    {
     "data": {
      "image/png": "[encoded data removed]",
      "text/plain": [
       "<Figure size 936x576 with 2 Axes>"
      ]
     },
     "metadata": {
      "needs_background": "light"
     },
     "output_type": "display_data"
    }
   ],
   "source": [
    "#A continuación crearemos una variable donde guardamos los resultados de la matriz de confusión,\n",
    "#para eso utilizaremos el conjunto de datos de prueba original de la variable independiente y \n",
    "#la compararemos con los datos predichos.\n",
    "Mat_Conf_SVM_Rd = confusion_matrix(y_test, y_pred_SVM_Rd)\n",
    "#--------------------------------------------------------------------------------------------------\n",
    "#Finalmente visualizaremos la matriz de confusión para que tan bueno es nuestro modelo\n",
    "plt.figure(figsize = (13,8))\n",
    "sns.heatmap(Mat_Conf_SVM_Rd, \n",
    "            cmap = 'Greens',\n",
    "           annot = True)\n",
    "plt.xlabel('Predicciones',\n",
    "          fontsize = 15)\n",
    "plt.ylabel('Originales',\n",
    "          fontsize = 15)\n",
    "plt.show"
   ]
  },
  {
   "cell_type": "markdown",
   "id": "4d30c2af",
   "metadata": {},
   "source": [
    "### Calcularemos la presición del modelo."
   ]
  },
  {
   "cell_type": "code",
   "execution_count": 25,
   "id": "47667c53",
   "metadata": {},
   "outputs": [
    {
     "name": "stdout",
     "output_type": "stream",
     "text": [
      "\n",
      "El accuracy de test es: 100.0%\n"
     ]
    }
   ],
   "source": [
    "# Accuracy de test del modelo \n",
    "# ==============================================================================\n",
    "accuracy = accuracy_score(\n",
    "            y_true    = y_test,\n",
    "            y_pred    = y_pred_SVM_Rd,\n",
    "            normalize = True\n",
    "           )\n",
    "print(\"\")\n",
    "print(f\"El accuracy de test es: {100*accuracy}%\")"
   ]
  },
  {
   "cell_type": "markdown",
   "id": "77ebb4f8",
   "metadata": {},
   "source": [
    "### Ahora volveremos a calcular las predicciones pero con 2 variables independientes para poder gráficar, lo primero que haremos sera generar el modelo de clasificación utlizando SVM con kernet radial y regularización."
   ]
  },
  {
   "cell_type": "code",
   "execution_count": 26,
   "id": "be3668d9",
   "metadata": {},
   "outputs": [
    {
     "data": {
      "text/plain": [
       "SVC(random_state=0)"
      ]
     },
     "execution_count": 26,
     "metadata": {},
     "output_type": "execute_result"
    }
   ],
   "source": [
    "#A continuacion crearemos un objeto para instanciar la clase con regularización (C), un kernel\n",
    "#radial y definiremos una semilla, con esto generaremos el modelo de clasificación.\n",
    "Cl_SVM_2_Rd = SVC(kernel = 'rbf', C=1.0, random_state = 0)\n",
    "#------------------------------------------------------------------------------------------------\n",
    "#El siguiente paso es ajustar el modelo de clasificación con la función fit utilizando los datos \n",
    "#de entrenamiento de las variables independientes y de la variable dependiente.\n",
    "Cl_SVM_2_Rd.fit(X_train_2, y_train_2)"
   ]
  },
  {
   "cell_type": "markdown",
   "id": "f9af5ea9",
   "metadata": {},
   "source": [
    "### En este paso realizaremos la predicción de los resultados con el conjunto de prueba."
   ]
  },
  {
   "cell_type": "code",
   "execution_count": 27,
   "id": "c80d002e",
   "metadata": {},
   "outputs": [],
   "source": [
    "#Crearemos una variable donde guardaremos el vector con la predicciones de cada una de las \n",
    "#observaciones de los datos de prueba, para esto utilizaremos el conjunto de datos para prueba\n",
    "#de las variables independientes creadas con SVM con kernel radial. \n",
    "y_pred_SVM_2_Rd = Cl_SVM_2_Rd.predict(X_test_2)"
   ]
  },
  {
   "cell_type": "markdown",
   "id": "d6e29689",
   "metadata": {},
   "source": [
    "### Vamos a generar una represetación gráfica de los resultados obtenidos en el conjunto de entrenamiento."
   ]
  },
  {
   "cell_type": "code",
   "execution_count": 28,
   "id": "01156ad7",
   "metadata": {},
   "outputs": [
    {
     "name": "stderr",
     "output_type": "stream",
     "text": [
      "*c* argument looks like a single numeric RGB or RGBA sequence, which should be avoided as value-mapping will have precedence in case its length matches with *x* & *y*.  Please use the *color* keyword-argument or provide a 2-D array with a single row if you intend to specify the same RGB or RGBA value for all points.\n",
      "*c* argument looks like a single numeric RGB or RGBA sequence, which should be avoided as value-mapping will have precedence in case its length matches with *x* & *y*.  Please use the *color* keyword-argument or provide a 2-D array with a single row if you intend to specify the same RGB or RGBA value for all points.\n",
      "*c* argument looks like a single numeric RGB or RGBA sequence, which should be avoided as value-mapping will have precedence in case its length matches with *x* & *y*.  Please use the *color* keyword-argument or provide a 2-D array with a single row if you intend to specify the same RGB or RGBA value for all points.\n"
     ]
    },
    {
     "data": {
      "image/png": "[encoded data removed]",
      "text/plain": [
       "<Figure size 432x288 with 1 Axes>"
      ]
     },
     "metadata": {
      "needs_background": "light"
     },
     "output_type": "display_data"
    }
   ],
   "source": [
    "# Representación gráfica de los resultados del algoritmo en el Conjunto de Entrenamiento\n",
    "from matplotlib.colors import ListedColormap\n",
    "X_set, y_set = X_train_2, y_train_2\n",
    "X1, X2 = np.meshgrid(np.arange(start = X_set[:, 0].min() - 1, stop = X_set[:, 0].max() + 1, step = 0.01),\n",
    "                     np.arange(start = X_set[:, 1].min() - 1, stop = X_set[:, 1].max() + 1, step = 0.01))\n",
    "plt.contourf(X1, X2, Cl_SVM_2_Rd.predict(np.array([X1.ravel(), X2.ravel()]).T).reshape(X1.shape),\n",
    "             alpha = 0.75, cmap = ListedColormap(('#F0A741', '#E3496A', '#DA43FA')))\n",
    "plt.xlim(X1.min(), X1.max())\n",
    "plt.ylim(X2.min(), X2.max())\n",
    "for i, j in enumerate(np.unique(y_set)):\n",
    "    plt.scatter(X_set[y_set == j, 0], X_set[y_set == j, 1],\n",
    "                c = ListedColormap(('#F0A741', '#E3496A', '#DA43FA'))(i), label = j)\n",
    "plt.title('SVM (Conjunto de Entrenamiento)')\n",
    "plt.xlabel('ALCOHOL')\n",
    "plt.ylabel('PROLINA')\n",
    "plt.legend()\n",
    "plt.show()"
   ]
  },
  {
   "cell_type": "markdown",
   "id": "7fd2384a",
   "metadata": {},
   "source": [
    "### Ahora vamos a generar una represetación gráfica de los resultados obtenidos en el conjunto prueba."
   ]
  },
  {
   "cell_type": "code",
   "execution_count": 29,
   "id": "46de690f",
   "metadata": {},
   "outputs": [
    {
     "name": "stderr",
     "output_type": "stream",
     "text": [
      "*c* argument looks like a single numeric RGB or RGBA sequence, which should be avoided as value-mapping will have precedence in case its length matches with *x* & *y*.  Please use the *color* keyword-argument or provide a 2-D array with a single row if you intend to specify the same RGB or RGBA value for all points.\n",
      "*c* argument looks like a single numeric RGB or RGBA sequence, which should be avoided as value-mapping will have precedence in case its length matches with *x* & *y*.  Please use the *color* keyword-argument or provide a 2-D array with a single row if you intend to specify the same RGB or RGBA value for all points.\n",
      "*c* argument looks like a single numeric RGB or RGBA sequence, which should be avoided as value-mapping will have precedence in case its length matches with *x* & *y*.  Please use the *color* keyword-argument or provide a 2-D array with a single row if you intend to specify the same RGB or RGBA value for all points.\n"
     ]
    },
    {
     "data": {
      "image/png": "[encoded data removed]",
      "text/plain": [
       "<Figure size 432x288 with 1 Axes>"
      ]
     },
     "metadata": {
      "needs_background": "light"
     },
     "output_type": "display_data"
    }
   ],
   "source": [
    "# Representación gráfica de los resultados del algoritmo en el Conjunto de Prueba.\n",
    "X_set, y_set = X_test_2, y_test_2\n",
    "X1, X2 = np.meshgrid(np.arange(start = X_set[:, 0].min() - 1, stop = X_set[:, 0].max() + 1, step = 0.01),\n",
    "                     np.arange(start = X_set[:, 1].min() - 1, stop = X_set[:, 1].max() + 1, step = 0.01))\n",
    "plt.contourf(X1, X2, Cl_SVM_2_Rd.predict(np.array([X1.ravel(), X2.ravel()]).T).reshape(X1.shape),\n",
    "             alpha = 0.75, cmap = ListedColormap(('#F0A741', '#E3496A', '#DA43FA')))\n",
    "plt.xlim(X1.min(), X1.max())\n",
    "plt.ylim(X2.min(), X2.max())\n",
    "for i, j in enumerate(np.unique(y_set)):\n",
    "    plt.scatter(X_set[y_set == j, 0], X_set[y_set == j, 1],\n",
    "                c = ListedColormap(('#F0A741', '#E3496A', '#DA43FA'))(i), label = j)\n",
    "plt.title('SVM (Conjunto de Prueba)')\n",
    "plt.xlabel('ALCOHOL')\n",
    "plt.ylabel('PROLINA')\n",
    "plt.legend()\n",
    "plt.show()"
   ]
  },
  {
   "cell_type": "markdown",
   "id": "74193c5d",
   "metadata": {},
   "source": [
    "### Calcularemos la presición del modelo."
   ]
  },
  {
   "cell_type": "code",
   "execution_count": 30,
   "id": "94314ed9",
   "metadata": {},
   "outputs": [
    {
     "name": "stdout",
     "output_type": "stream",
     "text": [
      "\n",
      "El accuracy de test es: 82.22222222222221%\n"
     ]
    }
   ],
   "source": [
    "# Accuracy de test del modelo \n",
    "# ==============================================================================\n",
    "accuracy = accuracy_score(\n",
    "            y_true    = y_test_2,\n",
    "            y_pred    = y_pred_SVM_2_Rd,\n",
    "            normalize = True\n",
    "           )\n",
    "print(\"\")\n",
    "print(f\"El accuracy de test es: {100*accuracy}%\")"
   ]
  },
  {
   "cell_type": "markdown",
   "id": "e04dc4c1",
   "metadata": {},
   "source": [
    "### De los modelos generados  podemos decir que en general todos logran una presición ya que alcanzan un calidad superior al 80%, pero hay uno que logro predecir sin errores alcanzando el 100% este fue el que ocupo todas las variables y al crear el modelo se utilizo el kernel radial, en teoría este sería el mejor modelo pero debemos seguir verficando con más datos nuevos para descartar que tenga sobreajuste."
   ]
  }
 ],
 "metadata": {
  "kernelspec": {
   "display_name": "Python 3",
   "language": "python",
   "name": "python3"
  },
  "language_info": {
   "codemirror_mode": {
    "name": "ipython",
    "version": 3
   },
   "file_extension": ".py",
   "mimetype": "text/x-python",
   "name": "python",
   "nbconvert_exporter": "python",
   "pygments_lexer": "ipython3",
   "version": "3.8.8"
  }
 },
 "nbformat": 4,
 "nbformat_minor": 5
}
