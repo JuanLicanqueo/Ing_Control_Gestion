{
 "cells": [
  {
   "cell_type": "markdown",
   "id": "2d55b828",
   "metadata": {},
   "source": [
    "# <center> Trabajo 3.\n",
    "Nombre: Juan Licanqueo\n",
    "\n",
    "El trabajo 3 consiste en usar disponibles de vino de la clase 2:\n",
    "\n",
    "Los datos los puede bajar desde: https://archive.ics.uci.edu/ml/machine-learning-databases/wine/wine.data. \n",
    "\n",
    "Recuerde que tienen clase de acuerdo al tipo de vino en la columna 0.\n",
    "1. Defina un conjunto de prueba y uno de test. Recuerde que si hay diferentes clases debe hacer muestreo estratificado para tener ejemplos de cada clase.\n",
    "2. Aplique el SVM  con regularización para ver su clasificación.\n",
    "3. Aplique SVM con kernel de base radial y regularización.\n",
    "4. ¿Cúal modelo logró mejor clasificación?"
   ]
  },
  {
   "cell_type": "markdown",
   "id": "a856dab7",
   "metadata": {},
   "source": [
    "### Importamos las librerias ."
   ]
  },
  {
   "cell_type": "code",
   "execution_count": 1,
   "id": "e3cb517d",
   "metadata": {},
   "outputs": [],
   "source": [
    "import pandas as pd\n",
    "import matplotlib.pyplot as plt\n",
    "import numpy as np \n",
    "import seaborn as sns\n",
    "import os\n",
    "import tensorflow as tf\n",
    "import keras"
   ]
  },
  {
   "cell_type": "markdown",
   "id": "a6171da1",
   "metadata": {},
   "source": [
    "### Definimos el directorio de trabajo."
   ]
  },
  {
   "cell_type": "code",
   "execution_count": 2,
   "id": "ab087dd2",
   "metadata": {},
   "outputs": [
    {
     "data": {
      "text/plain": [
       "'C:\\\\Users\\\\Juan\\\\Desktop\\\\ciencia_datos02'"
      ]
     },
     "execution_count": 2,
     "metadata": {},
     "output_type": "execute_result"
    }
   ],
   "source": [
    "os.chdir('/Users/Juan/Desktop/ciencia_datos02/')\n",
    "os.getcwd()"
   ]
  },
  {
   "cell_type": "markdown",
   "id": "b0ea9256",
   "metadata": {},
   "source": [
    "### Cargaremos  los datos de las propiedades del Vino desde UCI machine learning repository con el siguiente código y visualizaremos su dimensión."
   ]
  },
  {
   "cell_type": "code",
   "execution_count": 3,
   "id": "66d9bef1",
   "metadata": {},
   "outputs": [
    {
     "data": {
      "text/plain": [
       "(178, 14)"
      ]
     },
     "execution_count": 3,
     "metadata": {},
     "output_type": "execute_result"
    }
   ],
   "source": [
    "#Crearemos una variable para guardar el dataset de VINOS sin encabezados.\n",
    "Vinos = pd.read_csv('https://archive.ics.uci.edu/ml/machine-learning-databases/wine/wine.data',\n",
    "                    header=None)\n",
    "#-----------------------------------------------------------------------------------------------\n",
    "#A continuación agregaremos los encabezados, los nombres de las variables por columna.\n",
    "Vinos.columns = ['Etiqueta_Clase',\n",
    "                 'Alcohol',\n",
    "                 'Acido_Malico',\n",
    "                 'Ceniza',\n",
    "                 'Alcalinidad_Cenizas', \n",
    "                 'Magnesio', \n",
    "                 'Fenoles_Totales',\n",
    "                 'Flavonoides',\n",
    "                 'Fenoles_No_Flavonoides', \n",
    "                 'Proantocianinas',\n",
    "                 'Intensidad_Color', \n",
    "                 'Tono',\n",
    "                 'OD280/OD315_Vinos_Diluidos',\n",
    "                 'Prolina']\n",
    "#--------------------------------------------------------------------------------------------------\n",
    "#Finalmente visualizaremos la dimensión de los dataset.\n",
    "Vinos.shape"
   ]
  },
  {
   "cell_type": "markdown",
   "id": "f8be110f",
   "metadata": {},
   "source": [
    "### Observaremos como se comportan los datos aplicando un resumen estadístico, de esta forma podremos las diferencias de la magnitud de rango de las diferentes variables."
   ]
  },
  {
   "cell_type": "code",
   "execution_count": 4,
   "id": "8d3fd794",
   "metadata": {},
   "outputs": [
    {
     "data": {
      "text/html": [
       "<div>\n",
       "<style scoped>\n",
       "    .dataframe tbody tr th:only-of-type {\n",
       "        vertical-align: middle;\n",
       "    }\n",
       "\n",
       "    .dataframe tbody tr th {\n",
       "        vertical-align: top;\n",
       "    }\n",
       "\n",
       "    .dataframe thead th {\n",
       "        text-align: right;\n",
       "    }\n",
       "</style>\n",
       "<table border=\"1\" class=\"dataframe\">\n",
       "  <thead>\n",
       "    <tr style=\"text-align: right;\">\n",
       "      <th></th>\n",
       "      <th>Etiqueta_Clase</th>\n",
       "      <th>Alcohol</th>\n",
       "      <th>Acido_Malico</th>\n",
       "      <th>Ceniza</th>\n",
       "      <th>Alcalinidad_Cenizas</th>\n",
       "      <th>Magnesio</th>\n",
       "      <th>Fenoles_Totales</th>\n",
       "      <th>Flavonoides</th>\n",
       "      <th>Fenoles_No_Flavonoides</th>\n",
       "      <th>Proantocianinas</th>\n",
       "      <th>Intensidad_Color</th>\n",
       "      <th>Tono</th>\n",
       "      <th>OD280/OD315_Vinos_Diluidos</th>\n",
       "      <th>Prolina</th>\n",
       "    </tr>\n",
       "  </thead>\n",
       "  <tbody>\n",
       "    <tr>\n",
       "      <th>count</th>\n",
       "      <td>178.000000</td>\n",
       "      <td>178.000000</td>\n",
       "      <td>178.000000</td>\n",
       "      <td>178.000000</td>\n",
       "      <td>178.000000</td>\n",
       "      <td>178.000000</td>\n",
       "      <td>178.000000</td>\n",
       "      <td>178.000000</td>\n",
       "      <td>178.000000</td>\n",
       "      <td>178.000000</td>\n",
       "      <td>178.000000</td>\n",
       "      <td>178.000000</td>\n",
       "      <td>178.000000</td>\n",
       "      <td>178.000000</td>\n",
       "    </tr>\n",
       "    <tr>\n",
       "      <th>mean</th>\n",
       "      <td>1.938202</td>\n",
       "      <td>13.000618</td>\n",
       "      <td>2.336348</td>\n",
       "      <td>2.366517</td>\n",
       "      <td>19.494944</td>\n",
       "      <td>99.741573</td>\n",
       "      <td>2.295112</td>\n",
       "      <td>2.029270</td>\n",
       "      <td>0.361854</td>\n",
       "      <td>1.590899</td>\n",
       "      <td>5.058090</td>\n",
       "      <td>0.957449</td>\n",
       "      <td>2.611685</td>\n",
       "      <td>746.893258</td>\n",
       "    </tr>\n",
       "    <tr>\n",
       "      <th>std</th>\n",
       "      <td>0.775035</td>\n",
       "      <td>0.811827</td>\n",
       "      <td>1.117146</td>\n",
       "      <td>0.274344</td>\n",
       "      <td>3.339564</td>\n",
       "      <td>14.282484</td>\n",
       "      <td>0.625851</td>\n",
       "      <td>0.998859</td>\n",
       "      <td>0.124453</td>\n",
       "      <td>0.572359</td>\n",
       "      <td>2.318286</td>\n",
       "      <td>0.228572</td>\n",
       "      <td>0.709990</td>\n",
       "      <td>314.907474</td>\n",
       "    </tr>\n",
       "    <tr>\n",
       "      <th>min</th>\n",
       "      <td>1.000000</td>\n",
       "      <td>11.030000</td>\n",
       "      <td>0.740000</td>\n",
       "      <td>1.360000</td>\n",
       "      <td>10.600000</td>\n",
       "      <td>70.000000</td>\n",
       "      <td>0.980000</td>\n",
       "      <td>0.340000</td>\n",
       "      <td>0.130000</td>\n",
       "      <td>0.410000</td>\n",
       "      <td>1.280000</td>\n",
       "      <td>0.480000</td>\n",
       "      <td>1.270000</td>\n",
       "      <td>278.000000</td>\n",
       "    </tr>\n",
       "    <tr>\n",
       "      <th>25%</th>\n",
       "      <td>1.000000</td>\n",
       "      <td>12.362500</td>\n",
       "      <td>1.602500</td>\n",
       "      <td>2.210000</td>\n",
       "      <td>17.200000</td>\n",
       "      <td>88.000000</td>\n",
       "      <td>1.742500</td>\n",
       "      <td>1.205000</td>\n",
       "      <td>0.270000</td>\n",
       "      <td>1.250000</td>\n",
       "      <td>3.220000</td>\n",
       "      <td>0.782500</td>\n",
       "      <td>1.937500</td>\n",
       "      <td>500.500000</td>\n",
       "    </tr>\n",
       "    <tr>\n",
       "      <th>50%</th>\n",
       "      <td>2.000000</td>\n",
       "      <td>13.050000</td>\n",
       "      <td>1.865000</td>\n",
       "      <td>2.360000</td>\n",
       "      <td>19.500000</td>\n",
       "      <td>98.000000</td>\n",
       "      <td>2.355000</td>\n",
       "      <td>2.135000</td>\n",
       "      <td>0.340000</td>\n",
       "      <td>1.555000</td>\n",
       "      <td>4.690000</td>\n",
       "      <td>0.965000</td>\n",
       "      <td>2.780000</td>\n",
       "      <td>673.500000</td>\n",
       "    </tr>\n",
       "    <tr>\n",
       "      <th>75%</th>\n",
       "      <td>3.000000</td>\n",
       "      <td>13.677500</td>\n",
       "      <td>3.082500</td>\n",
       "      <td>2.557500</td>\n",
       "      <td>21.500000</td>\n",
       "      <td>107.000000</td>\n",
       "      <td>2.800000</td>\n",
       "      <td>2.875000</td>\n",
       "      <td>0.437500</td>\n",
       "      <td>1.950000</td>\n",
       "      <td>6.200000</td>\n",
       "      <td>1.120000</td>\n",
       "      <td>3.170000</td>\n",
       "      <td>985.000000</td>\n",
       "    </tr>\n",
       "    <tr>\n",
       "      <th>max</th>\n",
       "      <td>3.000000</td>\n",
       "      <td>14.830000</td>\n",
       "      <td>5.800000</td>\n",
       "      <td>3.230000</td>\n",
       "      <td>30.000000</td>\n",
       "      <td>162.000000</td>\n",
       "      <td>3.880000</td>\n",
       "      <td>5.080000</td>\n",
       "      <td>0.660000</td>\n",
       "      <td>3.580000</td>\n",
       "      <td>13.000000</td>\n",
       "      <td>1.710000</td>\n",
       "      <td>4.000000</td>\n",
       "      <td>1680.000000</td>\n",
       "    </tr>\n",
       "  </tbody>\n",
       "</table>\n",
       "</div>"
      ],
      "text/plain": [
       "       Etiqueta_Clase     Alcohol  Acido_Malico      Ceniza  \\\n",
       "count      178.000000  178.000000    178.000000  178.000000   \n",
       "mean         1.938202   13.000618      2.336348    2.366517   \n",
       "std          0.775035    0.811827      1.117146    0.274344   \n",
       "min          1.000000   11.030000      0.740000    1.360000   \n",
       "25%          1.000000   12.362500      1.602500    2.210000   \n",
       "50%          2.000000   13.050000      1.865000    2.360000   \n",
       "75%          3.000000   13.677500      3.082500    2.557500   \n",
       "max          3.000000   14.830000      5.800000    3.230000   \n",
       "\n",
       "       Alcalinidad_Cenizas    Magnesio  Fenoles_Totales  Flavonoides  \\\n",
       "count           178.000000  178.000000       178.000000   178.000000   \n",
       "mean             19.494944   99.741573         2.295112     2.029270   \n",
       "std               3.339564   14.282484         0.625851     0.998859   \n",
       "min              10.600000   70.000000         0.980000     0.340000   \n",
       "25%              17.200000   88.000000         1.742500     1.205000   \n",
       "50%              19.500000   98.000000         2.355000     2.135000   \n",
       "75%              21.500000  107.000000         2.800000     2.875000   \n",
       "max              30.000000  162.000000         3.880000     5.080000   \n",
       "\n",
       "       Fenoles_No_Flavonoides  Proantocianinas  Intensidad_Color        Tono  \\\n",
       "count              178.000000       178.000000        178.000000  178.000000   \n",
       "mean                 0.361854         1.590899          5.058090    0.957449   \n",
       "std                  0.124453         0.572359          2.318286    0.228572   \n",
       "min                  0.130000         0.410000          1.280000    0.480000   \n",
       "25%                  0.270000         1.250000          3.220000    0.782500   \n",
       "50%                  0.340000         1.555000          4.690000    0.965000   \n",
       "75%                  0.437500         1.950000          6.200000    1.120000   \n",
       "max                  0.660000         3.580000         13.000000    1.710000   \n",
       "\n",
       "       OD280/OD315_Vinos_Diluidos      Prolina  \n",
       "count                  178.000000   178.000000  \n",
       "mean                     2.611685   746.893258  \n",
       "std                      0.709990   314.907474  \n",
       "min                      1.270000   278.000000  \n",
       "25%                      1.937500   500.500000  \n",
       "50%                      2.780000   673.500000  \n",
       "75%                      3.170000   985.000000  \n",
       "max                      4.000000  1680.000000  "
      ]
     },
     "execution_count": 4,
     "metadata": {},
     "output_type": "execute_result"
    }
   ],
   "source": [
    "#Aplicaremos la función describe para generar el resumen estadístico.\n",
    "Vinos.describe()"
   ]
  },
  {
   "cell_type": "markdown",
   "id": "23913413",
   "metadata": {},
   "source": [
    "### A continuación separaremos las variables independientes de la dependiente en dos datasets."
   ]
  },
  {
   "cell_type": "code",
   "execution_count": 5,
   "id": "a96f0ddf",
   "metadata": {},
   "outputs": [
    {
     "data": {
      "text/plain": [
       "(178, 13)"
      ]
     },
     "execution_count": 5,
     "metadata": {},
     "output_type": "execute_result"
    }
   ],
   "source": [
    "#Definiremos el dataset de las variables independientes como X.\n",
    "x = Vinos.iloc[:,1:14].values\n",
    "#--------------------------------------------------------------------------------------------------\n",
    "#Verificamos la dimensión de las variables independientes.\n",
    "x.shape"
   ]
  },
  {
   "cell_type": "code",
   "execution_count": 6,
   "id": "64ef321b",
   "metadata": {},
   "outputs": [
    {
     "data": {
      "text/plain": [
       "((178,), array([1, 2, 3], dtype=int64))"
      ]
     },
     "execution_count": 6,
     "metadata": {},
     "output_type": "execute_result"
    }
   ],
   "source": [
    "#Definiremos el dataset de la variable dependiente como y.\n",
    "y = Vinos.iloc[:,0].values\n",
    "#--------------------------------------------------------------------------------------------------\n",
    "#Verificamos la dimensión de las variables dependientes y los valores unicos de las etiquetas.\n",
    "y.shape, np.unique(y)"
   ]
  },
  {
   "cell_type": "markdown",
   "id": "618282a7",
   "metadata": {},
   "source": [
    "### Como necesitamos que las etiquetas partan de 0 debemos realizar una codificación a los datos de la variable independiente para pasar de los valores 1, 2 y 3 a 0, 1 y 2 antes de aplicar el one - hot. "
   ]
  },
  {
   "cell_type": "code",
   "execution_count": 7,
   "id": "dd5c3876",
   "metadata": {},
   "outputs": [
    {
     "data": {
      "text/plain": [
       "array([0, 1, 2], dtype=int64)"
      ]
     },
     "execution_count": 7,
     "metadata": {},
     "output_type": "execute_result"
    }
   ],
   "source": [
    "#Importaremos la clase LabelEncoder de la la librería sklearn para recodificar las etiquetas.\n",
    "from sklearn.preprocessing import LabelEncoder\n",
    "#---------------------------------------------------------------------------------------------\n",
    "#Ahora instanciaremos la clase que nos codificara los datos.\n",
    "Codificador = LabelEncoder()\n",
    "#---------------------------------------------------------------------------------------------- \n",
    "#Utilizaremos la función fit_transform para ajustar los datos y transform para aplicar los nuevos\n",
    "#valores de las etiquetas.\n",
    "y_Cod = Codificador.fit_transform(y)\n",
    "#----------------------------------------------------------------------------------------------\n",
    "#Por último visualizaremos los valores únicos de las etiquetas recodificadas para confirmar que\n",
    "#los nuevos datos sean los deseados.\n",
    "np.unique(y_Cod)"
   ]
  },
  {
   "cell_type": "markdown",
   "id": "82194f00",
   "metadata": {},
   "source": [
    "### Despues de haber cambiado los valores de las variables pasaremos a aplicar el one - hot que permite calcular correctamente la función de pérdida usada en la Regresión Multiclase."
   ]
  },
  {
   "cell_type": "code",
   "execution_count": 8,
   "id": "562b41c5",
   "metadata": {
    "scrolled": false
   },
   "outputs": [
    {
     "data": {
      "text/plain": [
       "((178, 3),\n",
       " array([[1., 0., 0.],\n",
       "        [1., 0., 0.],\n",
       "        [1., 0., 0.],\n",
       "        [1., 0., 0.],\n",
       "        [1., 0., 0.]], dtype=float32))"
      ]
     },
     "execution_count": 8,
     "metadata": {},
     "output_type": "execute_result"
    }
   ],
   "source": [
    "#Importaremos la clase np_utils de la la librería Keras para recodificar las etiquetas con valores de 0 y 1.\n",
    "from keras.utils import np_utils \n",
    "#--------------------------------------------------------------------------------------------------\n",
    "#Crearemos una variable donde guardaremos el número de clases que tine nuestro dataset\n",
    "n_clases = 3\n",
    "#--------------------------------------------------------------------------------------------------\n",
    "#Crearemos otra variable donde guardaremos el las nuevas categorias con valores de 0 y 1.\n",
    "y_oh = np_utils.to_categorical(y_Cod,n_clases)\n",
    "#--------------------------------------------------------------------------------------------------\n",
    "#Verificamos la dimensión de las variable independientes donde deberiamos tener 3 columnas y también \n",
    "#visualizaremos los 5 primeros registros.\n",
    "y_oh.shape , y_oh[0:5]"
   ]
  },
  {
   "cell_type": "markdown",
   "id": "eb444a44",
   "metadata": {},
   "source": [
    "### Ahora dividiremos nuestras variables en datos de entrenamiento y prueba."
   ]
  },
  {
   "cell_type": "code",
   "execution_count": 9,
   "id": "f087ba6e",
   "metadata": {},
   "outputs": [],
   "source": [
    "#Importaremos la clase train test split de la la librería sklearn para dividir los datos.\n",
    "from sklearn.model_selection import train_test_split\n",
    "#-----------------------------------------------------------------------------------------------\n",
    "#Particionamos los datos, con 75% para entrenar y 25% para prueba, tambien estratificaremos la\n",
    "#variable independiente.\n",
    "X_train, X_test, y_train, y_test = train_test_split(x,\n",
    "                                                    y_oh,\n",
    "                                                    test_size = 0.25,\n",
    "                                                    stratify = y_oh,\n",
    "                                                    random_state = 0)"
   ]
  },
  {
   "cell_type": "markdown",
   "id": "04e0e70a",
   "metadata": {},
   "source": [
    "### A continuación pasaremos a escalar los datos independientes para estandarizar los valores y evitar que algunas variables predominen más sobre las demás."
   ]
  },
  {
   "cell_type": "code",
   "execution_count": 10,
   "id": "bfdd96fd",
   "metadata": {},
   "outputs": [],
   "source": [
    "#Importaremos la clase escalamiento estandar de la librería sklearn para realizar el escalonamiento \n",
    "#estandarizado de los datos.\n",
    "from sklearn.preprocessing import StandardScaler\n",
    "#---------------------------------------------------------------------------------------------\n",
    "#Ahora instanciaremos la clase que nos transformara los datos.\n",
    "SC_x = StandardScaler()\n",
    "#----------------------------------------------------------------------------------------------\n",
    "#En primer lugar ocuparemos los datos de entrenamiento de las variables independientes y \n",
    "#utilizaremos la función fit_transform para ajustar los datos y estandarizarlos, de esta forma \n",
    "#los datos se escalaran de forma automática y se obtendra la media y la varianza.\n",
    "X_train = SC_x.fit_transform(X_train)\n",
    "#-----------------------------------------------------------------------------------------------\n",
    "#En segundo lugar escalaremos los datos de prueba de las variables independientes, para esto solo\n",
    "#utilizaremos la función transform y asi podremos estandarizar los datos con la media y varianza \n",
    "#que se calculo anteriormente de forma automática.\n",
    "X_test = SC_x.transform(X_test)"
   ]
  },
  {
   "cell_type": "markdown",
   "id": "6a1869cf",
   "metadata": {},
   "source": [
    "# <center> Pasaremos generar la primera arquitectura de nuestra red neuronal."
   ]
  },
  {
   "cell_type": "markdown",
   "id": "9a2fb7c3",
   "metadata": {},
   "source": [
    "### Primero crearemos nuestro modelo el cual tendra un contenedor vacio para luego ir agregando las capas que estimemos pertinente."
   ]
  },
  {
   "cell_type": "code",
   "execution_count": 11,
   "id": "d12c6e75",
   "metadata": {},
   "outputs": [],
   "source": [
    "#Importaremos la clase sequential de la la librería Keras para generar el contenedor.\n",
    "from keras.models import Sequential\n",
    "#---------------------------------------------------------------------------------------------\n",
    "#Ahora crearemos el modelo con un contenedor vacio para posteriormente ir agregando capas.\n",
    "clasificador = Sequential()"
   ]
  },
  {
   "cell_type": "markdown",
   "id": "9a56f46a",
   "metadata": {},
   "source": [
    "### El siguiente paso es agregar las capas a nuestro modelo."
   ]
  },
  {
   "cell_type": "code",
   "execution_count": 12,
   "id": "202f5d73",
   "metadata": {},
   "outputs": [],
   "source": [
    "#Importaremos la clase Dense de la la librería Keras para conectar densamente la capa al modelo.\n",
    "from keras.layers import Dense\n",
    "#-------------------------------------------------------------------------------------------------\n",
    "#Pasaremos a agregar la primera capa oculta de 54 neuronas conectada densamente y utilizaremos \n",
    "#la función de activación sigmoidal que es un clasificador binario (0 y 1)\n",
    "clasificador.add(Dense(units = 54, activation = 'sigmoid'))\n",
    "#-------------------------------------------------------------------------------------------------\n",
    "#Agregaremos otra capa de salida oculta de 3 neuronas conectada densamente y aqui utilizaremos la \n",
    "#función de activación softmax para calcular la probabilidad de cada clase requerida para clasificación\n",
    "#de multiclase\n",
    "clasificador.add(Dense(units = 3, activation = 'softmax'))"
   ]
  },
  {
   "cell_type": "markdown",
   "id": "75d592e3",
   "metadata": {},
   "source": [
    "### Crearemos una variable con el módulo SGD que es un optimizador en Keras, y permite hacer uso del método del gradiente descendente para el entrenamiento del modelo."
   ]
  },
  {
   "cell_type": "code",
   "execution_count": 13,
   "id": "7071cd47",
   "metadata": {},
   "outputs": [
    {
     "name": "stderr",
     "output_type": "stream",
     "text": [
      "C:\\Users\\Juan\\anaconda3\\lib\\site-packages\\keras\\optimizers\\optimizer_v2\\gradient_descent.py:114: UserWarning: The `lr` argument is deprecated, use `learning_rate` instead.\n",
      "  super().__init__(name, **kwargs)\n"
     ]
    }
   ],
   "source": [
    "#Importaremos la clase SGD (Descenso estocástico del gradiente) de la la librería Keras para generar \n",
    "#un optimizador.\n",
    "from keras.optimizers import SGD\n",
    "#-------------------------------------------------------------------------------------------------\n",
    "#Crearemos el optimizador con los siguientes parámetros.\n",
    "Optimizador = SGD(#Aqui definiremos la tasa de aprendizaje\n",
    "                  lr = 0.01,\n",
    "                  #Aca definimos la inercia para fomentar la exploración en la \n",
    "                  #dirección de mayor disminución del gradiente\n",
    "                  momentum = 0.9,\n",
    "                  #para calcular con base a un punto intermedio entre la actualidad y \n",
    "                  #el próximo punto en el tiempo\n",
    "                  nesterov = True )"
   ]
  },
  {
   "cell_type": "markdown",
   "id": "95b0d86e",
   "metadata": {},
   "source": [
    "### Lo siguiente es compilar el modelo y parametrizarlo, aqui utilizarelmos el optimizador creado anteriormente."
   ]
  },
  {
   "cell_type": "code",
   "execution_count": 14,
   "id": "992f655d",
   "metadata": {},
   "outputs": [],
   "source": [
    "#Compilaremos el modelo con los siguientes parámetros.\n",
    "clasificador.compile(#Definiremos la función de coste para determinar el error entre el valor estimado y el valor real\n",
    "                     #para esto utilizaremos el parámetro de entropía cruzada categórica\n",
    "                     loss = 'categorical_crossentropy',\n",
    "                     #Aca especificaremos el optimizador de gradiente descendente a utilizar para el entrenamiento\n",
    "                     optimizer = Optimizador,\n",
    "                     #Finalmente definimos la métrica de desempeño del modelo\n",
    "                     metrics = ['accuracy'])"
   ]
  },
  {
   "cell_type": "markdown",
   "id": "96d7b6ad",
   "metadata": {},
   "source": [
    "### Pasaremos a entrenar el modelo con 20 iteraciones y además le indicaremos cuál es nuestro conjunto de validación."
   ]
  },
  {
   "cell_type": "code",
   "execution_count": 15,
   "id": "f4bd0245",
   "metadata": {
    "scrolled": false
   },
   "outputs": [
    {
     "name": "stdout",
     "output_type": "stream",
     "text": [
      "Epoch 1/20\n",
      "5/5 [==============================] - 1s 57ms/step - loss: 1.0874 - accuracy: 0.3759 - val_loss: 1.0510 - val_accuracy: 0.4000\n",
      "Epoch 2/20\n",
      "5/5 [==============================] - 0s 11ms/step - loss: 1.0253 - accuracy: 0.4436 - val_loss: 0.9650 - val_accuracy: 0.4444\n",
      "Epoch 3/20\n",
      "5/5 [==============================] - 0s 10ms/step - loss: 0.9321 - accuracy: 0.5564 - val_loss: 0.8656 - val_accuracy: 0.8222\n",
      "Epoch 4/20\n",
      "5/5 [==============================] - 0s 11ms/step - loss: 0.8382 - accuracy: 0.8872 - val_loss: 0.7632 - val_accuracy: 0.8667\n",
      "Epoch 5/20\n",
      "5/5 [==============================] - 0s 10ms/step - loss: 0.7442 - accuracy: 0.9323 - val_loss: 0.6679 - val_accuracy: 0.8889\n",
      "Epoch 6/20\n",
      "5/5 [==============================] - 0s 12ms/step - loss: 0.6546 - accuracy: 0.9549 - val_loss: 0.5898 - val_accuracy: 0.9111\n",
      "Epoch 7/20\n",
      "5/5 [==============================] - 0s 13ms/step - loss: 0.5827 - accuracy: 0.9699 - val_loss: 0.5235 - val_accuracy: 0.8889\n",
      "Epoch 8/20\n",
      "5/5 [==============================] - 0s 13ms/step - loss: 0.5206 - accuracy: 0.9774 - val_loss: 0.4700 - val_accuracy: 0.8889\n",
      "Epoch 9/20\n",
      "5/5 [==============================] - 0s 12ms/step - loss: 0.4683 - accuracy: 0.9699 - val_loss: 0.4214 - val_accuracy: 0.9333\n",
      "Epoch 10/20\n",
      "5/5 [==============================] - 0s 11ms/step - loss: 0.4201 - accuracy: 0.9699 - val_loss: 0.3806 - val_accuracy: 0.9333\n",
      "Epoch 11/20\n",
      "5/5 [==============================] - 0s 14ms/step - loss: 0.3813 - accuracy: 0.9774 - val_loss: 0.3452 - val_accuracy: 0.9333\n",
      "Epoch 12/20\n",
      "5/5 [==============================] - 0s 12ms/step - loss: 0.3475 - accuracy: 0.9774 - val_loss: 0.3171 - val_accuracy: 0.9333\n",
      "Epoch 13/20\n",
      "5/5 [==============================] - 0s 11ms/step - loss: 0.3203 - accuracy: 0.9774 - val_loss: 0.2937 - val_accuracy: 0.9333\n",
      "Epoch 14/20\n",
      "5/5 [==============================] - 0s 10ms/step - loss: 0.2952 - accuracy: 0.9774 - val_loss: 0.2732 - val_accuracy: 0.9556\n",
      "Epoch 15/20\n",
      "5/5 [==============================] - 0s 10ms/step - loss: 0.2746 - accuracy: 0.9774 - val_loss: 0.2560 - val_accuracy: 0.9556\n",
      "Epoch 16/20\n",
      "5/5 [==============================] - 0s 10ms/step - loss: 0.2563 - accuracy: 0.9850 - val_loss: 0.2414 - val_accuracy: 0.9556\n",
      "Epoch 17/20\n",
      "5/5 [==============================] - 0s 13ms/step - loss: 0.2411 - accuracy: 0.9850 - val_loss: 0.2292 - val_accuracy: 0.9556\n",
      "Epoch 18/20\n",
      "5/5 [==============================] - 0s 14ms/step - loss: 0.2270 - accuracy: 0.9850 - val_loss: 0.2209 - val_accuracy: 0.9556\n",
      "Epoch 19/20\n",
      "5/5 [==============================] - 0s 10ms/step - loss: 0.2163 - accuracy: 0.9774 - val_loss: 0.2132 - val_accuracy: 0.9333\n",
      "Epoch 20/20\n",
      "5/5 [==============================] - 0s 10ms/step - loss: 0.2047 - accuracy: 0.9774 - val_loss: 0.2023 - val_accuracy: 0.9556\n"
     ]
    }
   ],
   "source": [
    "#Guardaremos en una variable los resultados del entrenamiento para posteriormente poder gráficar la perdida\n",
    "#vs las iteraciones.\n",
    "History_1 = clasificador.fit(#Aqui definimos nuestras datos de entrenamiento\n",
    "                             X_train, y_train,\n",
    "                             #Aca especificaremos la cantidad de iteraciones \n",
    "                             epochs = 20,\n",
    "                             #Finalmente definimos nuestro conjunto de validación\n",
    "                             validation_data=(X_test, y_test))"
   ]
  },
  {
   "cell_type": "markdown",
   "id": "c57ead73",
   "metadata": {},
   "source": [
    "### Finalmente pasaremos a  probar el modelo contra el conjunto de test y obtener la exactitud."
   ]
  },
  {
   "cell_type": "code",
   "execution_count": 16,
   "id": "17e7c7a7",
   "metadata": {},
   "outputs": [
    {
     "name": "stdout",
     "output_type": "stream",
     "text": [
      "2/2 [==============================] - 0s 5ms/step - loss: 0.2023 - accuracy: 0.9556\n",
      "0.9555555582046509\n"
     ]
    }
   ],
   "source": [
    "#Calcularemos la exactitud del modelo con los datos de prueba\n",
    "test_loss, test_accuracy = clasificador.evaluate(X_test, \n",
    "                                                 y_test)\n",
    "#-------------------------------------------------------------------------------------------------\n",
    "#Imprimiremos la métrica para saber que tan exacto predijo nuestro modelo\n",
    "print(test_accuracy)"
   ]
  },
  {
   "cell_type": "markdown",
   "id": "93cc62d3",
   "metadata": {},
   "source": [
    "### Gráfica con la función de coste de los resultados que se han generado durante el entrenamiento con los conjunto de datos de train y test (validación)."
   ]
  },
  {
   "cell_type": "code",
   "execution_count": 17,
   "id": "b2329885",
   "metadata": {},
   "outputs": [
    {
     "data": {
      "image/png": "[encoded data removed]",
      "text/plain": [
       "<Figure size 432x288 with 1 Axes>"
      ]
     },
     "metadata": {
      "needs_background": "light"
     },
     "output_type": "display_data"
    }
   ],
   "source": [
    "#Utilizaremos la variable History_1 donde guardamos los resultados del entrenamiento.\n",
    "loss = History_1.history['loss']#En esta variable guardaremos los datos de la función de coste del conjunto de entrenamiento\n",
    "val_loss = History_1.history['val_loss']#En esta variable guardaremos los datos de la función de coste del conjunto de prueba\n",
    "epochs = range(1, len(loss) + 1)##En esta variable guardaremos el rango de las iteraciones\n",
    "plt.plot(epochs, loss, 'b', label='Entrenamiento')\n",
    "plt.plot(epochs, val_loss, 'r', label='Prueba')\n",
    "plt.title('Función de coste : Entrenamiento vs Prueba')\n",
    "plt.xlabel('Iteraciones')\n",
    "plt.ylabel('Función de coste')\n",
    "plt.legend()\n",
    "plt.show()"
   ]
  },
  {
   "cell_type": "markdown",
   "id": "040a0e43",
   "metadata": {},
   "source": [
    "### Gráfica del comportamiento de la exactitud (accurracy) de los resultados que se han generado durante el entrenamiento con los conjunto de datos de train y test (validación)."
   ]
  },
  {
   "cell_type": "code",
   "execution_count": 18,
   "id": "9aa06eae",
   "metadata": {},
   "outputs": [
    {
     "data": {
      "image/png": "[encoded data removed]",
      "text/plain": [
       "<Figure size 432x288 with 1 Axes>"
      ]
     },
     "metadata": {
      "needs_background": "light"
     },
     "output_type": "display_data"
    }
   ],
   "source": [
    "#Utilizaremos la variable History_1 donde guardamos los resultados del entrenamiento.\n",
    "plt.clf()\n",
    "acc = History_1.history['accuracy']#En esta variable guardaremos los datos de la exactitud del conjunto de entrenamiento\n",
    "val_acc = History_1.history['val_accuracy']#En esta variable guardaremos los datos de la exactitud del conjunto de prueba\n",
    "epochs = range(1, len(loss) + 1)##En esta variable guardaremos el rango de las iteraciones\n",
    "plt.plot(epochs, acc, 'b', label='Entrenamiento')\n",
    "plt.plot(epochs, val_acc, 'r', label='Prueba')\n",
    "plt.title('Exactitud : Entrenamiento vs Prueba')\n",
    "plt.xlabel('Iteraciones')\n",
    "plt.ylabel('Exactitud')\n",
    "plt.legend()\n",
    "plt.show()"
   ]
  },
  {
   "cell_type": "markdown",
   "id": "64f526bb",
   "metadata": {},
   "source": [
    "### De los resultados obtenidos con la primera red neuronal podemos inferir los siguiente:\n",
    " * #### El modelo alcanza una exactitud del 95% con los datos de prueba.\n",
    " * #### De la gráfica de función de coste observamos que los datos de prueba y entrenamiento se comportan de manera similar a medida que van aumentando las iteraciones la función disminuye esto quiere decir que el modelo es bueno y no hay sobreajuste.\n",
    " * #### Esto ultimo lo corroboramos con el gráfico de exactitud que tambien son similares y los dos van en alza."
   ]
  },
  {
   "cell_type": "markdown",
   "id": "327ac465",
   "metadata": {},
   "source": [
    "# <center> Pasaremos generar la segunda arquitectura de nuestra red neuronal."
   ]
  },
  {
   "cell_type": "markdown",
   "id": "fb943c48",
   "metadata": {},
   "source": [
    "### Primero crearemos nuestro modelo el cual tendra un contenedor vacio para luego ir agregando las capas que estimemos pertinente."
   ]
  },
  {
   "cell_type": "code",
   "execution_count": 19,
   "id": "46bc5c88",
   "metadata": {},
   "outputs": [],
   "source": [
    "#Ahora crearemos el modelo con un contenedor vacio para posteriormente ir agregando capas.\n",
    "clasificador_2 = Sequential()"
   ]
  },
  {
   "cell_type": "markdown",
   "id": "e4deb125",
   "metadata": {},
   "source": [
    "### El siguiente paso es agregar las capas a nuestro modelo."
   ]
  },
  {
   "cell_type": "code",
   "execution_count": 20,
   "id": "f3f65e1a",
   "metadata": {},
   "outputs": [],
   "source": [
    "#Pasaremos a agregar la primera capa oculta de 54 neuronas conectada densamente y utilizaremos \n",
    "#la función tangente hiperbólica (tanh) de activación la cual entrega valores de salida de -1 a 1.\n",
    "clasificador_2.add(Dense(units = 54, activation = 'tanh'))\n",
    "#-------------------------------------------------------------------------------------------------\n",
    "#Agregaremos otra capa de salida oculta de 3 neuronas conectada densamente y aqui utilizaremos la \n",
    "#función de activación softmax para calcular la probabilidad de cada clase requerida para clasificación\n",
    "#de multiclase.\n",
    "clasificador_2.add(Dense(units = 3, activation = 'softmax'))"
   ]
  },
  {
   "cell_type": "markdown",
   "id": "6a505ae2",
   "metadata": {},
   "source": [
    "### Lo siguiente es compilar el modelo y parametrizarlo, aqui utilizarelmos el optimizador creado anteriormente."
   ]
  },
  {
   "cell_type": "code",
   "execution_count": 21,
   "id": "6c8569b4",
   "metadata": {},
   "outputs": [],
   "source": [
    "#Compilaremos el modelo con los siguientes parámetros.\n",
    "clasificador_2.compile(#Definiremos la función de coste para determinar el error entre el valor estimado y el valor real\n",
    "                     #para esto utilizaremos el parámetro de entropía cruzada categórica\n",
    "                     loss = 'categorical_crossentropy',\n",
    "                     #Aca especificaremos el optimizador de gradiente descendente a utilizar para el entrenamiento\n",
    "                     optimizer = Optimizador,\n",
    "                     #Finalmente definimos la métrica de desempeño del modelo\n",
    "                     metrics = ['accuracy'])"
   ]
  },
  {
   "cell_type": "markdown",
   "id": "269be1cc",
   "metadata": {},
   "source": [
    "### Pasaremos a entrenar el modelo con 20 iteraciones y además le indicaremos cuál es nuestro conjunto de validación."
   ]
  },
  {
   "cell_type": "code",
   "execution_count": 22,
   "id": "973f6eac",
   "metadata": {
    "scrolled": false
   },
   "outputs": [
    {
     "name": "stdout",
     "output_type": "stream",
     "text": [
      "Epoch 1/20\n",
      "5/5 [==============================] - 1s 47ms/step - loss: 1.0152 - accuracy: 0.5113 - val_loss: 0.7347 - val_accuracy: 0.8000\n",
      "Epoch 2/20\n",
      "5/5 [==============================] - 0s 15ms/step - loss: 0.6135 - accuracy: 0.8195 - val_loss: 0.3781 - val_accuracy: 0.9556\n",
      "Epoch 3/20\n",
      "5/5 [==============================] - 0s 12ms/step - loss: 0.3428 - accuracy: 0.9323 - val_loss: 0.2226 - val_accuracy: 0.9778\n",
      "Epoch 4/20\n",
      "5/5 [==============================] - 0s 11ms/step - loss: 0.2175 - accuracy: 0.9549 - val_loss: 0.1553 - val_accuracy: 0.9778\n",
      "Epoch 5/20\n",
      "5/5 [==============================] - 0s 9ms/step - loss: 0.1537 - accuracy: 0.9774 - val_loss: 0.1199 - val_accuracy: 0.9778\n",
      "Epoch 6/20\n",
      "5/5 [==============================] - 0s 12ms/step - loss: 0.1178 - accuracy: 0.9774 - val_loss: 0.0981 - val_accuracy: 0.9778\n",
      "Epoch 7/20\n",
      "5/5 [==============================] - 0s 10ms/step - loss: 0.0976 - accuracy: 0.9850 - val_loss: 0.0848 - val_accuracy: 1.0000\n",
      "Epoch 8/20\n",
      "5/5 [==============================] - 0s 11ms/step - loss: 0.0840 - accuracy: 0.9925 - val_loss: 0.0762 - val_accuracy: 1.0000\n",
      "Epoch 9/20\n",
      "5/5 [==============================] - 0s 9ms/step - loss: 0.0752 - accuracy: 0.9925 - val_loss: 0.0698 - val_accuracy: 1.0000\n",
      "Epoch 10/20\n",
      "5/5 [==============================] - 0s 11ms/step - loss: 0.0688 - accuracy: 0.9925 - val_loss: 0.0652 - val_accuracy: 1.0000\n",
      "Epoch 11/20\n",
      "5/5 [==============================] - 0s 10ms/step - loss: 0.0634 - accuracy: 0.9925 - val_loss: 0.0627 - val_accuracy: 1.0000\n",
      "Epoch 12/20\n",
      "5/5 [==============================] - 0s 14ms/step - loss: 0.0591 - accuracy: 0.9925 - val_loss: 0.0604 - val_accuracy: 1.0000\n",
      "Epoch 13/20\n",
      "5/5 [==============================] - 0s 11ms/step - loss: 0.0559 - accuracy: 0.9925 - val_loss: 0.0581 - val_accuracy: 1.0000\n",
      "Epoch 14/20\n",
      "5/5 [==============================] - 0s 10ms/step - loss: 0.0530 - accuracy: 1.0000 - val_loss: 0.0553 - val_accuracy: 1.0000\n",
      "Epoch 15/20\n",
      "5/5 [==============================] - 0s 9ms/step - loss: 0.0505 - accuracy: 1.0000 - val_loss: 0.0519 - val_accuracy: 1.0000\n",
      "Epoch 16/20\n",
      "5/5 [==============================] - 0s 12ms/step - loss: 0.0482 - accuracy: 0.9925 - val_loss: 0.0489 - val_accuracy: 1.0000\n",
      "Epoch 17/20\n",
      "5/5 [==============================] - 0s 10ms/step - loss: 0.0464 - accuracy: 0.9925 - val_loss: 0.0470 - val_accuracy: 1.0000\n",
      "Epoch 18/20\n",
      "5/5 [==============================] - 0s 14ms/step - loss: 0.0447 - accuracy: 0.9925 - val_loss: 0.0463 - val_accuracy: 1.0000\n",
      "Epoch 19/20\n",
      "5/5 [==============================] - 0s 12ms/step - loss: 0.0426 - accuracy: 1.0000 - val_loss: 0.0473 - val_accuracy: 1.0000\n",
      "Epoch 20/20\n",
      "5/5 [==============================] - 0s 11ms/step - loss: 0.0412 - accuracy: 1.0000 - val_loss: 0.0473 - val_accuracy: 1.0000\n"
     ]
    }
   ],
   "source": [
    "#Guardaremos en una variable los resultados del entrenamiento para posteriormente poder gráficar la perdida\n",
    "#vs las iteraciones.\n",
    "History_2 = clasificador_2.fit(#Aqui definimos nuestras datos de entrenamiento\n",
    "                             X_train, y_train,\n",
    "                             #Aca especificaremos la cantidad de iteraciones \n",
    "                             epochs = 20,\n",
    "                             #Finalmente definimos nuestro conjunto de validación\n",
    "                             validation_data=(X_test, y_test))"
   ]
  },
  {
   "cell_type": "markdown",
   "id": "c57ead73",
   "metadata": {},
   "source": [
    "### Finalmente pasaremos a  probar el modelo contra el conjunto de test y obtener la exactitud."
   ]
  },
  {
   "cell_type": "code",
   "execution_count": 23,
   "id": "17e7c7a7",
   "metadata": {},
   "outputs": [
    {
     "name": "stdout",
     "output_type": "stream",
     "text": [
      "2/2 [==============================] - 0s 4ms/step - loss: 0.0473 - accuracy: 1.0000\n",
      "1.0\n"
     ]
    }
   ],
   "source": [
    "#Calcularemos la exactitud del modelo con los datos de prueba\n",
    "test_loss_2, test_accuracy_2 = clasificador_2.evaluate(X_test, \n",
    "                                                 y_test)\n",
    "#-------------------------------------------------------------------------------------------------\n",
    "#Imprimiremos la métrica para saber que tan exacto predijo nuestro modelo\n",
    "print(test_accuracy_2)"
   ]
  },
  {
   "cell_type": "markdown",
   "id": "6e7ed47d",
   "metadata": {},
   "source": [
    "### Gráfica con la función de coste de los resultados que se han generado durante el entrenamiento con los conjunto de datos de train y test (validación)."
   ]
  },
  {
   "cell_type": "code",
   "execution_count": 24,
   "id": "4d39870d",
   "metadata": {},
   "outputs": [
    {
     "data": {
      "image/png": "[encoded data removed]",
      "text/plain": [
       "<Figure size 432x288 with 1 Axes>"
      ]
     },
     "metadata": {
      "needs_background": "light"
     },
     "output_type": "display_data"
    }
   ],
   "source": [
    "#Utilizaremos la variable History_1 donde guardamos los resultados del entrenamiento.\n",
    "loss = History_2.history['loss']#En esta variable guardaremos los datos de la función de coste del conjunto de entrenamiento\n",
    "val_loss = History_2.history['val_loss']#En esta variable guardaremos los datos de la función de coste del conjunto de prueba\n",
    "epochs = range(1, len(loss) + 1)##En esta variable guardaremos el rango de las iteraciones\n",
    "plt.plot(epochs, loss, 'b', label='Entrenamiento')\n",
    "plt.plot(epochs, val_loss, 'r', label='Prueba')\n",
    "plt.title('Función de coste : Entrenamiento vs Prueba')\n",
    "plt.xlabel('Iteraciones')\n",
    "plt.ylabel('Función de coste')\n",
    "plt.legend()\n",
    "plt.show()"
   ]
  },
  {
   "cell_type": "markdown",
   "id": "69acff00",
   "metadata": {},
   "source": [
    "### Gráfica del comportamiento de la exactitud (accurracy) de los resultados que se han generado durante el entrenamiento con los conjunto de datos de train y test (validación)."
   ]
  },
  {
   "cell_type": "code",
   "execution_count": 25,
   "id": "db15a991",
   "metadata": {},
   "outputs": [
    {
     "data": {
      "image/png": "[encoded data removed]",
      "text/plain": [
       "<Figure size 432x288 with 1 Axes>"
      ]
     },
     "metadata": {
      "needs_background": "light"
     },
     "output_type": "display_data"
    }
   ],
   "source": [
    "#Utilizaremos la variable History_1 donde guardamos los resultados del entrenamiento.\n",
    "plt.clf()\n",
    "acc = History_2.history['accuracy']#En esta variable guardaremos los datos de la exactitud del conjunto de entrenamiento\n",
    "val_acc = History_2.history['val_accuracy']#En esta variable guardaremos los datos de la exactitud del conjunto de prueba\n",
    "epochs = range(1, len(loss) + 1)##En esta variable guardaremos el rango de las iteraciones\n",
    "plt.plot(epochs, acc, 'b', label='Entrenamiento')\n",
    "plt.plot(epochs, val_acc, 'r', label='Prueba')\n",
    "plt.title('Exactitud : Entrenamiento vs Prueba')\n",
    "plt.xlabel('Iteraciones')\n",
    "plt.ylabel('Exactitud')\n",
    "plt.legend()\n",
    "plt.show()"
   ]
  },
  {
   "cell_type": "markdown",
   "id": "fc63d5b5",
   "metadata": {},
   "source": [
    "### De los resultados obtenidos con la segunda red neuronal podemos inferir los siguiente:\n",
    " * #### El modelo alcanza una exactitud del 100% con los datos de prueba.\n",
    " * #### De la gráfica de función de coste observamos que los datos de prueba y entrenamiento se comportan de manera similar a medida que van aumentando las iteraciones la función disminuye esto quiere decir que el modelo es bueno y no hay sobreajuste.\n",
    " * #### Esto ultimo lo corroboramos con el gráfico de exactitud que tambien son similares y los dos van en alza.\n",
    " #  Este segundo modelo logra la mejor clasificación."
   ]
  }
 ],
 "metadata": {
  "kernelspec": {
   "display_name": "Python 3",
   "language": "python",
   "name": "python3"
  },
  "language_info": {
   "codemirror_mode": {
    "name": "ipython",
    "version": 3
   },
   "file_extension": ".py",
   "mimetype": "text/x-python",
   "name": "python",
   "nbconvert_exporter": "python",
   "pygments_lexer": "ipython3",
   "version": "3.8.8"
  }
 },
 "nbformat": 4,
 "nbformat_minor": 5
}
