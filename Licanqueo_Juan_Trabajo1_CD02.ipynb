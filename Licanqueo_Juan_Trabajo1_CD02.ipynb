{
 "cells": [
  {
   "cell_type": "markdown",
   "id": "2d55b828",
   "metadata": {},
   "source": [
    "# <center> Trabajo 1\n",
    "Nombre: Juan Licanqueo\n",
    "\n",
    "El trabajo 1 consiste en usar los datos de la Biblia de Ávila, para identificar a cual de los 12 copistas corresponde cada texto transcrito.\n",
    "Los datos los puede bajar desde: https://archive.ics.uci.edu/ml/datasets/Avila."
   ]
  },
  {
   "cell_type": "markdown",
   "id": "a856dab7",
   "metadata": {},
   "source": [
    "### Importamos las librerias ."
   ]
  },
  {
   "cell_type": "code",
   "execution_count": 27,
   "id": "e3cb517d",
   "metadata": {},
   "outputs": [],
   "source": [
    "import pandas as pd\n",
    "import matplotlib.pyplot as plt\n",
    "import numpy as np \n",
    "import os\n",
    "import statsmodels.api as sm\n",
    "import matplotlib.pyplot as plt\n",
    "import seaborn as sns\n",
    "from sklearn.cluster import KMeans"
   ]
  },
  {
   "cell_type": "markdown",
   "id": "a6171da1",
   "metadata": {},
   "source": [
    "### Definimos el directorio de trabajo."
   ]
  },
  {
   "cell_type": "code",
   "execution_count": 28,
   "id": "ab087dd2",
   "metadata": {},
   "outputs": [
    {
     "data": {
      "text/plain": [
       "'C:\\\\Users\\\\Juan\\\\Desktop\\\\trabajo_1'"
      ]
     },
     "execution_count": 28,
     "metadata": {},
     "output_type": "execute_result"
    }
   ],
   "source": [
    "os.chdir('/Users/Juan/Desktop/trabajo_1/')\n",
    "os.getcwd()"
   ]
  },
  {
   "cell_type": "markdown",
   "id": "4e7e3777",
   "metadata": {},
   "source": [
    "### Descargamos los datos desde UCI machine learning repository a nuestro directorio de trabajo y a continuación los cargamos con el siguiente codigo."
   ]
  },
  {
   "cell_type": "code",
   "execution_count": 29,
   "id": "f092d1f8",
   "metadata": {},
   "outputs": [],
   "source": [
    "names = [\n",
    "  'distancia_intercolumnar',\n",
    "  'margen_superior',\n",
    "  'margen_infeior',\n",
    "  'explotacion',\n",
    "  'numero_fila',\n",
    "  'relacion_modular',\n",
    "  'espaciado_interlinear',\n",
    "  'peso',\n",
    "  'numero_peak',\n",
    "  'relacion_modular/espaciado_interlinear',\n",
    "  'clase'\n",
    "]\n",
    "\n",
    "Avila_tr = pd.read_csv('avila-tr.txt', names=names)\n",
    "Avila_ts = pd.read_csv('avila-ts.txt', names=names)"
   ]
  },
  {
   "cell_type": "markdown",
   "id": "717c0a79",
   "metadata": {},
   "source": [
    "### Unimos los datos cargados y verificamos la dimensión del data frame definitivo."
   ]
  },
  {
   "cell_type": "code",
   "execution_count": 30,
   "id": "9b9422f5",
   "metadata": {},
   "outputs": [
    {
     "data": {
      "text/plain": [
       "(20867, 11)"
      ]
     },
     "execution_count": 30,
     "metadata": {},
     "output_type": "execute_result"
    }
   ],
   "source": [
    "Avila = pd.concat([Avila_tr,Avila_ts])\n",
    "Avila.shape"
   ]
  },
  {
   "cell_type": "code",
   "execution_count": 31,
   "id": "9664589e",
   "metadata": {},
   "outputs": [
    {
     "data": {
      "text/plain": [
       "Index(['distancia_intercolumnar', 'margen_superior', 'margen_infeior',\n",
       "       'explotacion', 'numero_fila', 'relacion_modular',\n",
       "       'espaciado_interlinear', 'peso', 'numero_peak',\n",
       "       'relacion_modular/espaciado_interlinear', 'clase'],\n",
       "      dtype='object')"
      ]
     },
     "execution_count": 31,
     "metadata": {},
     "output_type": "execute_result"
    }
   ],
   "source": [
    "Avila.columns"
   ]
  },
  {
   "cell_type": "markdown",
   "id": "16e5ee9e",
   "metadata": {},
   "source": [
    "### Generamos un nuevo dataset sin la variable CLASE y observaremos su contenido como también un resumen estadístico."
   ]
  },
  {
   "cell_type": "code",
   "execution_count": 32,
   "id": "ba97f831",
   "metadata": {},
   "outputs": [
    {
     "data": {
      "text/plain": [
       "(20867, 10)"
      ]
     },
     "execution_count": 32,
     "metadata": {},
     "output_type": "execute_result"
    }
   ],
   "source": [
    "Avila_Ind = Avila.iloc[:,0:10]\n",
    "Avila_Ind.shape"
   ]
  },
  {
   "cell_type": "code",
   "execution_count": 33,
   "id": "3ada2b83",
   "metadata": {},
   "outputs": [
    {
     "data": {
      "text/html": [
       "<div>\n",
       "<style scoped>\n",
       "    .dataframe tbody tr th:only-of-type {\n",
       "        vertical-align: middle;\n",
       "    }\n",
       "\n",
       "    .dataframe tbody tr th {\n",
       "        vertical-align: top;\n",
       "    }\n",
       "\n",
       "    .dataframe thead th {\n",
       "        text-align: right;\n",
       "    }\n",
       "</style>\n",
       "<table border=\"1\" class=\"dataframe\">\n",
       "  <thead>\n",
       "    <tr style=\"text-align: right;\">\n",
       "      <th></th>\n",
       "      <th>distancia_intercolumnar</th>\n",
       "      <th>margen_superior</th>\n",
       "      <th>margen_infeior</th>\n",
       "      <th>explotacion</th>\n",
       "      <th>numero_fila</th>\n",
       "      <th>relacion_modular</th>\n",
       "      <th>espaciado_interlinear</th>\n",
       "      <th>peso</th>\n",
       "      <th>numero_peak</th>\n",
       "      <th>relacion_modular/espaciado_interlinear</th>\n",
       "    </tr>\n",
       "  </thead>\n",
       "  <tbody>\n",
       "    <tr>\n",
       "      <th>0</th>\n",
       "      <td>0.266074</td>\n",
       "      <td>-0.165620</td>\n",
       "      <td>0.320980</td>\n",
       "      <td>0.483299</td>\n",
       "      <td>0.172340</td>\n",
       "      <td>0.273364</td>\n",
       "      <td>0.371178</td>\n",
       "      <td>0.929823</td>\n",
       "      <td>0.251173</td>\n",
       "      <td>0.159345</td>\n",
       "    </tr>\n",
       "    <tr>\n",
       "      <th>1</th>\n",
       "      <td>0.130292</td>\n",
       "      <td>0.870736</td>\n",
       "      <td>-3.210528</td>\n",
       "      <td>0.062493</td>\n",
       "      <td>0.261718</td>\n",
       "      <td>1.436060</td>\n",
       "      <td>1.465940</td>\n",
       "      <td>0.636203</td>\n",
       "      <td>0.282354</td>\n",
       "      <td>0.515587</td>\n",
       "    </tr>\n",
       "    <tr>\n",
       "      <th>2</th>\n",
       "      <td>-0.116585</td>\n",
       "      <td>0.069915</td>\n",
       "      <td>0.068476</td>\n",
       "      <td>-0.783147</td>\n",
       "      <td>0.261718</td>\n",
       "      <td>0.439463</td>\n",
       "      <td>-0.081827</td>\n",
       "      <td>-0.888236</td>\n",
       "      <td>-0.123005</td>\n",
       "      <td>0.582939</td>\n",
       "    </tr>\n",
       "    <tr>\n",
       "      <th>3</th>\n",
       "      <td>0.031541</td>\n",
       "      <td>0.297600</td>\n",
       "      <td>-3.210528</td>\n",
       "      <td>-0.583590</td>\n",
       "      <td>-0.721442</td>\n",
       "      <td>-0.307984</td>\n",
       "      <td>0.710932</td>\n",
       "      <td>1.051693</td>\n",
       "      <td>0.594169</td>\n",
       "      <td>-0.533994</td>\n",
       "    </tr>\n",
       "  </tbody>\n",
       "</table>\n",
       "</div>"
      ],
      "text/plain": [
       "   distancia_intercolumnar  margen_superior  margen_infeior  explotacion  \\\n",
       "0                 0.266074        -0.165620        0.320980     0.483299   \n",
       "1                 0.130292         0.870736       -3.210528     0.062493   \n",
       "2                -0.116585         0.069915        0.068476    -0.783147   \n",
       "3                 0.031541         0.297600       -3.210528    -0.583590   \n",
       "\n",
       "   numero_fila  relacion_modular  espaciado_interlinear      peso  \\\n",
       "0     0.172340          0.273364               0.371178  0.929823   \n",
       "1     0.261718          1.436060               1.465940  0.636203   \n",
       "2     0.261718          0.439463              -0.081827 -0.888236   \n",
       "3    -0.721442         -0.307984               0.710932  1.051693   \n",
       "\n",
       "   numero_peak  relacion_modular/espaciado_interlinear  \n",
       "0     0.251173                                0.159345  \n",
       "1     0.282354                                0.515587  \n",
       "2    -0.123005                                0.582939  \n",
       "3     0.594169                               -0.533994  "
      ]
     },
     "execution_count": 33,
     "metadata": {},
     "output_type": "execute_result"
    }
   ],
   "source": [
    "Avila_Ind.head(4)"
   ]
  },
  {
   "cell_type": "code",
   "execution_count": 34,
   "id": "41967616",
   "metadata": {},
   "outputs": [
    {
     "data": {
      "text/html": [
       "<div>\n",
       "<style scoped>\n",
       "    .dataframe tbody tr th:only-of-type {\n",
       "        vertical-align: middle;\n",
       "    }\n",
       "\n",
       "    .dataframe tbody tr th {\n",
       "        vertical-align: top;\n",
       "    }\n",
       "\n",
       "    .dataframe thead th {\n",
       "        text-align: right;\n",
       "    }\n",
       "</style>\n",
       "<table border=\"1\" class=\"dataframe\">\n",
       "  <thead>\n",
       "    <tr style=\"text-align: right;\">\n",
       "      <th></th>\n",
       "      <th>distancia_intercolumnar</th>\n",
       "      <th>margen_superior</th>\n",
       "      <th>margen_infeior</th>\n",
       "      <th>explotacion</th>\n",
       "      <th>numero_fila</th>\n",
       "      <th>relacion_modular</th>\n",
       "      <th>espaciado_interlinear</th>\n",
       "      <th>peso</th>\n",
       "      <th>numero_peak</th>\n",
       "      <th>relacion_modular/espaciado_interlinear</th>\n",
       "    </tr>\n",
       "  </thead>\n",
       "  <tbody>\n",
       "    <tr>\n",
       "      <th>count</th>\n",
       "      <td>2.086700e+04</td>\n",
       "      <td>20867.000000</td>\n",
       "      <td>20867.000000</td>\n",
       "      <td>20867.000000</td>\n",
       "      <td>2.086700e+04</td>\n",
       "      <td>20867.000000</td>\n",
       "      <td>20867.000000</td>\n",
       "      <td>20867.000000</td>\n",
       "      <td>20867.000000</td>\n",
       "      <td>20867.000000</td>\n",
       "    </tr>\n",
       "    <tr>\n",
       "      <th>mean</th>\n",
       "      <td>-3.306656e-09</td>\n",
       "      <td>0.018498</td>\n",
       "      <td>0.002329</td>\n",
       "      <td>0.000115</td>\n",
       "      <td>5.697992e-08</td>\n",
       "      <td>0.002540</td>\n",
       "      <td>0.003977</td>\n",
       "      <td>0.000028</td>\n",
       "      <td>0.002108</td>\n",
       "      <td>0.000069</td>\n",
       "    </tr>\n",
       "    <tr>\n",
       "      <th>std</th>\n",
       "      <td>1.000007e+00</td>\n",
       "      <td>2.853117</td>\n",
       "      <td>1.058203</td>\n",
       "      <td>0.999997</td>\n",
       "      <td>9.999948e-01</td>\n",
       "      <td>1.065179</td>\n",
       "      <td>1.153325</td>\n",
       "      <td>1.000003</td>\n",
       "      <td>1.045362</td>\n",
       "      <td>1.000010</td>\n",
       "    </tr>\n",
       "    <tr>\n",
       "      <th>min</th>\n",
       "      <td>-3.498799e+00</td>\n",
       "      <td>-2.426761</td>\n",
       "      <td>-3.210528</td>\n",
       "      <td>-5.440122</td>\n",
       "      <td>-4.922215e+00</td>\n",
       "      <td>-7.450257</td>\n",
       "      <td>-11.935457</td>\n",
       "      <td>-4.247781</td>\n",
       "      <td>-5.486218</td>\n",
       "      <td>-6.719324</td>\n",
       "    </tr>\n",
       "    <tr>\n",
       "      <th>25%</th>\n",
       "      <td>-1.289290e-01</td>\n",
       "      <td>-0.259834</td>\n",
       "      <td>0.064919</td>\n",
       "      <td>-0.527256</td>\n",
       "      <td>1.723400e-01</td>\n",
       "      <td>-0.598658</td>\n",
       "      <td>-0.044076</td>\n",
       "      <td>-0.543914</td>\n",
       "      <td>-0.372457</td>\n",
       "      <td>-0.515235</td>\n",
       "    </tr>\n",
       "    <tr>\n",
       "      <th>50%</th>\n",
       "      <td>5.622900e-02</td>\n",
       "      <td>-0.055704</td>\n",
       "      <td>0.217845</td>\n",
       "      <td>0.089437</td>\n",
       "      <td>2.617180e-01</td>\n",
       "      <td>-0.058835</td>\n",
       "      <td>0.220177</td>\n",
       "      <td>0.108279</td>\n",
       "      <td>0.064084</td>\n",
       "      <td>-0.025918</td>\n",
       "    </tr>\n",
       "    <tr>\n",
       "      <th>75%</th>\n",
       "      <td>2.043550e-01</td>\n",
       "      <td>0.203385</td>\n",
       "      <td>0.352988</td>\n",
       "      <td>0.643738</td>\n",
       "      <td>2.617180e-01</td>\n",
       "      <td>0.564038</td>\n",
       "      <td>0.446679</td>\n",
       "      <td>0.648814</td>\n",
       "      <td>0.500624</td>\n",
       "      <td>0.528425</td>\n",
       "    </tr>\n",
       "    <tr>\n",
       "      <th>max</th>\n",
       "      <td>1.181992e+01</td>\n",
       "      <td>386.000000</td>\n",
       "      <td>50.000000</td>\n",
       "      <td>3.987152</td>\n",
       "      <td>1.066121e+00</td>\n",
       "      <td>53.000000</td>\n",
       "      <td>83.000000</td>\n",
       "      <td>13.173081</td>\n",
       "      <td>44.000000</td>\n",
       "      <td>11.911338</td>\n",
       "    </tr>\n",
       "  </tbody>\n",
       "</table>\n",
       "</div>"
      ],
      "text/plain": [
       "       distancia_intercolumnar  margen_superior  margen_infeior   explotacion  \\\n",
       "count             2.086700e+04     20867.000000    20867.000000  20867.000000   \n",
       "mean             -3.306656e-09         0.018498        0.002329      0.000115   \n",
       "std               1.000007e+00         2.853117        1.058203      0.999997   \n",
       "min              -3.498799e+00        -2.426761       -3.210528     -5.440122   \n",
       "25%              -1.289290e-01        -0.259834        0.064919     -0.527256   \n",
       "50%               5.622900e-02        -0.055704        0.217845      0.089437   \n",
       "75%               2.043550e-01         0.203385        0.352988      0.643738   \n",
       "max               1.181992e+01       386.000000       50.000000      3.987152   \n",
       "\n",
       "        numero_fila  relacion_modular  espaciado_interlinear          peso  \\\n",
       "count  2.086700e+04      20867.000000           20867.000000  20867.000000   \n",
       "mean   5.697992e-08          0.002540               0.003977      0.000028   \n",
       "std    9.999948e-01          1.065179               1.153325      1.000003   \n",
       "min   -4.922215e+00         -7.450257             -11.935457     -4.247781   \n",
       "25%    1.723400e-01         -0.598658              -0.044076     -0.543914   \n",
       "50%    2.617180e-01         -0.058835               0.220177      0.108279   \n",
       "75%    2.617180e-01          0.564038               0.446679      0.648814   \n",
       "max    1.066121e+00         53.000000              83.000000     13.173081   \n",
       "\n",
       "        numero_peak  relacion_modular/espaciado_interlinear  \n",
       "count  20867.000000                            20867.000000  \n",
       "mean       0.002108                                0.000069  \n",
       "std        1.045362                                1.000010  \n",
       "min       -5.486218                               -6.719324  \n",
       "25%       -0.372457                               -0.515235  \n",
       "50%        0.064084                               -0.025918  \n",
       "75%        0.500624                                0.528425  \n",
       "max       44.000000                               11.911338  "
      ]
     },
     "execution_count": 34,
     "metadata": {},
     "output_type": "execute_result"
    }
   ],
   "source": [
    "Avila_Ind.describe()"
   ]
  },
  {
   "cell_type": "markdown",
   "id": "7a44fe8a",
   "metadata": {},
   "source": [
    "### A continuación crearemos otro dataset con los datos normalizados y volveremos a revisar el resumen estadístico."
   ]
  },
  {
   "cell_type": "code",
   "execution_count": 35,
   "id": "66502b45",
   "metadata": {},
   "outputs": [],
   "source": [
    "from sklearn.preprocessing import normalize\n",
    "Avila_Norm = pd.DataFrame(normalize(Avila_Ind))"
   ]
  },
  {
   "cell_type": "code",
   "execution_count": 36,
   "id": "131a9585",
   "metadata": {},
   "outputs": [
    {
     "data": {
      "text/html": [
       "<div>\n",
       "<style scoped>\n",
       "    .dataframe tbody tr th:only-of-type {\n",
       "        vertical-align: middle;\n",
       "    }\n",
       "\n",
       "    .dataframe tbody tr th {\n",
       "        vertical-align: top;\n",
       "    }\n",
       "\n",
       "    .dataframe thead th {\n",
       "        text-align: right;\n",
       "    }\n",
       "</style>\n",
       "<table border=\"1\" class=\"dataframe\">\n",
       "  <thead>\n",
       "    <tr style=\"text-align: right;\">\n",
       "      <th></th>\n",
       "      <th>0</th>\n",
       "      <th>1</th>\n",
       "      <th>2</th>\n",
       "      <th>3</th>\n",
       "      <th>4</th>\n",
       "      <th>5</th>\n",
       "      <th>6</th>\n",
       "      <th>7</th>\n",
       "      <th>8</th>\n",
       "      <th>9</th>\n",
       "    </tr>\n",
       "  </thead>\n",
       "  <tbody>\n",
       "    <tr>\n",
       "      <th>count</th>\n",
       "      <td>20867.000000</td>\n",
       "      <td>20867.000000</td>\n",
       "      <td>20867.000000</td>\n",
       "      <td>20867.000000</td>\n",
       "      <td>20867.000000</td>\n",
       "      <td>20867.000000</td>\n",
       "      <td>20867.000000</td>\n",
       "      <td>20867.000000</td>\n",
       "      <td>20867.000000</td>\n",
       "      <td>20867.000000</td>\n",
       "    </tr>\n",
       "    <tr>\n",
       "      <th>mean</th>\n",
       "      <td>0.026293</td>\n",
       "      <td>-0.008988</td>\n",
       "      <td>0.066291</td>\n",
       "      <td>0.039891</td>\n",
       "      <td>0.082688</td>\n",
       "      <td>-0.003060</td>\n",
       "      <td>0.077018</td>\n",
       "      <td>0.034288</td>\n",
       "      <td>0.040016</td>\n",
       "      <td>0.002625</td>\n",
       "    </tr>\n",
       "    <tr>\n",
       "      <th>std</th>\n",
       "      <td>0.196215</td>\n",
       "      <td>0.232164</td>\n",
       "      <td>0.273432</td>\n",
       "      <td>0.386806</td>\n",
       "      <td>0.238734</td>\n",
       "      <td>0.371900</td>\n",
       "      <td>0.290322</td>\n",
       "      <td>0.391700</td>\n",
       "      <td>0.337517</td>\n",
       "      <td>0.337645</td>\n",
       "    </tr>\n",
       "    <tr>\n",
       "      <th>min</th>\n",
       "      <td>-0.773791</td>\n",
       "      <td>-0.975150</td>\n",
       "      <td>-0.978735</td>\n",
       "      <td>-0.951599</td>\n",
       "      <td>-0.958114</td>\n",
       "      <td>-0.761138</td>\n",
       "      <td>-0.929260</td>\n",
       "      <td>-0.943086</td>\n",
       "      <td>-0.955949</td>\n",
       "      <td>-0.770336</td>\n",
       "    </tr>\n",
       "    <tr>\n",
       "      <th>25%</th>\n",
       "      <td>-0.062643</td>\n",
       "      <td>-0.113949</td>\n",
       "      <td>0.027978</td>\n",
       "      <td>-0.241639</td>\n",
       "      <td>0.059409</td>\n",
       "      <td>-0.305264</td>\n",
       "      <td>-0.024521</td>\n",
       "      <td>-0.267246</td>\n",
       "      <td>-0.189805</td>\n",
       "      <td>-0.273086</td>\n",
       "    </tr>\n",
       "    <tr>\n",
       "      <th>50%</th>\n",
       "      <td>0.026402</td>\n",
       "      <td>-0.024424</td>\n",
       "      <td>0.103124</td>\n",
       "      <td>0.046911</td>\n",
       "      <td>0.129290</td>\n",
       "      <td>-0.026008</td>\n",
       "      <td>0.102011</td>\n",
       "      <td>0.052169</td>\n",
       "      <td>0.036897</td>\n",
       "      <td>-0.014730</td>\n",
       "    </tr>\n",
       "    <tr>\n",
       "      <th>75%</th>\n",
       "      <td>0.118851</td>\n",
       "      <td>0.097574</td>\n",
       "      <td>0.193436</td>\n",
       "      <td>0.352355</td>\n",
       "      <td>0.200732</td>\n",
       "      <td>0.293923</td>\n",
       "      <td>0.242931</td>\n",
       "      <td>0.336831</td>\n",
       "      <td>0.285447</td>\n",
       "      <td>0.278491</td>\n",
       "    </tr>\n",
       "    <tr>\n",
       "      <th>max</th>\n",
       "      <td>0.965640</td>\n",
       "      <td>0.991642</td>\n",
       "      <td>0.952973</td>\n",
       "      <td>0.957347</td>\n",
       "      <td>0.659020</td>\n",
       "      <td>0.867075</td>\n",
       "      <td>0.952959</td>\n",
       "      <td>0.933052</td>\n",
       "      <td>0.916834</td>\n",
       "      <td>0.756370</td>\n",
       "    </tr>\n",
       "  </tbody>\n",
       "</table>\n",
       "</div>"
      ],
      "text/plain": [
       "                  0             1             2             3             4  \\\n",
       "count  20867.000000  20867.000000  20867.000000  20867.000000  20867.000000   \n",
       "mean       0.026293     -0.008988      0.066291      0.039891      0.082688   \n",
       "std        0.196215      0.232164      0.273432      0.386806      0.238734   \n",
       "min       -0.773791     -0.975150     -0.978735     -0.951599     -0.958114   \n",
       "25%       -0.062643     -0.113949      0.027978     -0.241639      0.059409   \n",
       "50%        0.026402     -0.024424      0.103124      0.046911      0.129290   \n",
       "75%        0.118851      0.097574      0.193436      0.352355      0.200732   \n",
       "max        0.965640      0.991642      0.952973      0.957347      0.659020   \n",
       "\n",
       "                  5             6             7             8             9  \n",
       "count  20867.000000  20867.000000  20867.000000  20867.000000  20867.000000  \n",
       "mean      -0.003060      0.077018      0.034288      0.040016      0.002625  \n",
       "std        0.371900      0.290322      0.391700      0.337517      0.337645  \n",
       "min       -0.761138     -0.929260     -0.943086     -0.955949     -0.770336  \n",
       "25%       -0.305264     -0.024521     -0.267246     -0.189805     -0.273086  \n",
       "50%       -0.026008      0.102011      0.052169      0.036897     -0.014730  \n",
       "75%        0.293923      0.242931      0.336831      0.285447      0.278491  \n",
       "max        0.867075      0.952959      0.933052      0.916834      0.756370  "
      ]
     },
     "execution_count": 36,
     "metadata": {},
     "output_type": "execute_result"
    }
   ],
   "source": [
    "Avila_Norm.describe()"
   ]
  },
  {
   "cell_type": "markdown",
   "id": "4bb6ce47",
   "metadata": {},
   "source": [
    "### Con los datos ya normalizados procederemos a conocer el número de clases, para ello aplicaremos el criterio del codo de k-means donde daremos un rango máximo de 15 clusters."
   ]
  },
  {
   "cell_type": "code",
   "execution_count": 37,
   "id": "c7644b90",
   "metadata": {},
   "outputs": [],
   "source": [
    "distortions = []\n",
    "for i in range(1, 15):\n",
    "    km = KMeans(n_clusters=i, \n",
    "                init='k-means++', \n",
    "                n_init=10, \n",
    "                max_iter=300, \n",
    "                random_state=0)\n",
    "    km.fit(Avila_Norm)\n",
    "    distortions.append(km.inertia_)"
   ]
  },
  {
   "cell_type": "markdown",
   "id": "5cc53779",
   "metadata": {},
   "source": [
    "### Luego de haber generado el modelo pasaremos a visualizar la gráfica para ver con cuantos clusters nos quedaremos."
   ]
  },
  {
   "cell_type": "code",
   "execution_count": 38,
   "id": "b5b5cea7",
   "metadata": {},
   "outputs": [
    {
     "data": {
      "image/png": "[encoded data removed]",
      "text/plain": [
       "<Figure size 432x288 with 1 Axes>"
      ]
     },
     "metadata": {
      "needs_background": "light"
     },
     "output_type": "display_data"
    }
   ],
   "source": [
    "plt.plot(range(1, 15), distortions, marker='o')\n",
    "plt.title('Método del Codo')\n",
    "plt.xlabel('Número de Clusters')\n",
    "plt.ylabel('Distorsión')\n",
    "plt.tight_layout()\n",
    "plt.show()"
   ]
  },
  {
   "cell_type": "markdown",
   "id": "38d4befb",
   "metadata": {},
   "source": [
    "### Según la gráfica nos quedan 4 clases ya que después se mantiene uniforme la caída de la distorsión."
   ]
  },
  {
   "cell_type": "markdown",
   "id": "f68413fe",
   "metadata": {},
   "source": [
    "### Pasaremos a verificar mediante el metodo del Discriminante Lineal cuantas clases nos quedan, pero antes reemplazaremos las clases por valores numéricos."
   ]
  },
  {
   "cell_type": "code",
   "execution_count": 39,
   "id": "2e769f41",
   "metadata": {},
   "outputs": [
    {
     "data": {
      "text/plain": [
       "array(['A', 'F', 'H', 'E', 'I', 'Y', 'D', 'X', 'G', 'W', 'C', 'B'],\n",
       "      dtype=object)"
      ]
     },
     "execution_count": 39,
     "metadata": {},
     "output_type": "execute_result"
    }
   ],
   "source": [
    "#Verificamos cuantas clases existen.\n",
    "Avila.clase.unique()"
   ]
  },
  {
   "cell_type": "code",
   "execution_count": 40,
   "id": "8ec875c7",
   "metadata": {},
   "outputs": [
    {
     "data": {
      "text/plain": [
       "array([ 1,  2,  3,  4,  5,  6,  7,  8,  9, 10, 11, 12], dtype=int64)"
      ]
     },
     "execution_count": 40,
     "metadata": {},
     "output_type": "execute_result"
    }
   ],
   "source": [
    "#Crearemos un diccionario con los valores que deseamos reemplazar en cada clase.\n",
    "Clase_Num = {'A':1, 'F':2, 'H':3, 'E':4, 'I':5, 'Y':6, 'D':7, 'X':8, 'G':9, 'W':10, 'C':11, 'B':12}\n",
    "#--------------------------------------------------------------------------------------------------------\n",
    "#Ahora generaremos un nuevo dataframe de nuestros datos con los datos numéricos.\n",
    "Avila_Num = Avila.replace({'clase':Clase_Num})\n",
    "#--------------------------------------------------------------------------------------------------------\n",
    "#Finalmente verificamos si los clases fueron reemplazadas con exito.\n",
    "Avila_Num.clase.unique()"
   ]
  },
  {
   "cell_type": "markdown",
   "id": "d694c4c7",
   "metadata": {},
   "source": [
    "### Luego del reemplazo de los valores de la variable clase separaremos los datos en variables independientes y dependiente."
   ]
  },
  {
   "cell_type": "code",
   "execution_count": 41,
   "id": "0a1fd1b6",
   "metadata": {},
   "outputs": [
    {
     "data": {
      "text/plain": [
       "(20867, 10)"
      ]
     },
     "execution_count": 41,
     "metadata": {},
     "output_type": "execute_result"
    }
   ],
   "source": [
    "# Definimos las variables independientes\n",
    "#-----------------------------------------\n",
    "x = Avila_Num.iloc[:,:10].values\n",
    "x.shape"
   ]
  },
  {
   "cell_type": "code",
   "execution_count": 42,
   "id": "28ab9938",
   "metadata": {},
   "outputs": [
    {
     "data": {
      "text/plain": [
       "(20867,)"
      ]
     },
     "execution_count": 42,
     "metadata": {},
     "output_type": "execute_result"
    }
   ],
   "source": [
    "# Definimos la variable dependiente (clases)\n",
    "#--------------------------------------------\n",
    "y = Avila_Num.iloc[:,10].values\n",
    "y.shape"
   ]
  },
  {
   "cell_type": "markdown",
   "id": "eb444a44",
   "metadata": {},
   "source": [
    "### Ahora dividiremos nuestras variables en datos de entrenamiento y prueba para el modelo que utilicemos."
   ]
  },
  {
   "cell_type": "code",
   "execution_count": 43,
   "id": "f087ba6e",
   "metadata": {},
   "outputs": [],
   "source": [
    "#Importaremos la clase train test split de la la librería sklearn para dividir los datos.\n",
    "from sklearn.model_selection import train_test_split\n",
    "#--------------------------------------------------------------------\n",
    "#Particionamos los datos, con 75% para entrenar y 25% para prueba.\n",
    "X_train, X_test, y_train, y_test = train_test_split(x, \n",
    "                                                    y,\n",
    "                                                   test_size = 0.25,\n",
    "                                                   random_state = 0)"
   ]
  },
  {
   "cell_type": "markdown",
   "id": "04e0e70a",
   "metadata": {},
   "source": [
    "### A continuación pasaremos a escalar los datos independientes para estandarizar los valores y evitar que algunas variables predominen más sobre las demás."
   ]
  },
  {
   "cell_type": "code",
   "execution_count": 44,
   "id": "bfdd96fd",
   "metadata": {},
   "outputs": [],
   "source": [
    "#Importaremos la clase escalamiento estandar de la librería sklearn para realizar el escalonamiento \n",
    "#estandarizado de los datos.\n",
    "from sklearn.preprocessing import StandardScaler\n",
    "#---------------------------------------------------------------------------------------------\n",
    "#Ahora instanciaremos la clase que nos transformara los datos.\n",
    "SC_x = StandardScaler()\n",
    "#----------------------------------------------------------------------------------------------\n",
    "#En primer lugar ocuparemos los datos de entrenamiento de las variables independientes y \n",
    "#utilizaremos la función fit_transform para ajustar los datos y estandarizarlos, de esta forma \n",
    "#los datos se escalaran de forma automática y se obtendra la media y la varianza.\n",
    "X_train = SC_x.fit_transform(X_train)\n",
    "#-----------------------------------------------------------------------------------------------\n",
    "#En segundo lugar escalaremos los datos de prueba de las variables independientes, para esto solo\n",
    "#utilizaremos la función transform y asi podremos estandarizar los datos con la media y varianza \n",
    "#que se calculo anteriormente de forma automática.\n",
    "X_test = SC_x.transform(X_test)"
   ]
  },
  {
   "cell_type": "markdown",
   "id": "f2e0ca3b",
   "metadata": {},
   "source": [
    "### El siguiente paso es aplicar LDA para realizar una reducción de dimensiones y de esta forma encontrar las variables idependientes que separen la gran mayoria de clases."
   ]
  },
  {
   "cell_type": "code",
   "execution_count": 19,
   "id": "f5ae4859",
   "metadata": {},
   "outputs": [],
   "source": [
    "#Importaremos la clase de discriminante lineasl desde la librería sklearn para realizar la reducción\n",
    "#de las dimensiones.\n",
    "from sklearn.discriminant_analysis import LinearDiscriminantAnalysis as LDA\n",
    "#---------------------------------------------------------------------------------------------------\n",
    "#Ahora instanciaremos la clase en un objeto y definiremos el parametro donde especificaremos cuantas\n",
    "#direcciones de separación máxima de nuestras clases.\n",
    "lda = LDA(n_components = 4)\n",
    "#---------------------------------------------------------------------------------------------------\n",
    "#En primer lugar aplicaremos un fit_transform al conjunto de entrenamiento de las variables \n",
    "#dependientes y las clases que estan en la variable dependientes para buscar las direcciones que \n",
    "#separan lo máximo posible los datos de este conjunto.\n",
    "X_train_lda = lda.fit_transform(X_train, y_train)\n",
    "#----------------------------------------------------------------------------------------------------\n",
    "#En segundo lugar aplicaremos transform al conjunto de prueba de las variables independientes\n",
    "#con esto solo aplicaremos la transformación del espacio vectorial de los datos ya que las direcciones\n",
    "#se encontraron anteriormente.\n",
    "X_test_lda = lda.transform(X_test)\n",
    "#-----------------------------------------------------------------------------------------------------\n",
    "#De esta forma se paso de 10 variables independientes a variables 4 variables nuevas, lo que significa\n",
    "#que X_train_lda tendra 4 columnas."
   ]
  },
  {
   "cell_type": "markdown",
   "id": "ba5e06f9",
   "metadata": {},
   "source": [
    "### Ahora pasaremos a generar el modelo de clasificación utlizando la Regresión Logística, el primer paso sera ajustar el modelo con los datos de entrenamiento que ya fueron transformados con LDA."
   ]
  },
  {
   "cell_type": "code",
   "execution_count": 20,
   "id": "352cb222",
   "metadata": {},
   "outputs": [
    {
     "name": "stderr",
     "output_type": "stream",
     "text": [
      "C:\\Users\\Juan\\anaconda3\\lib\\site-packages\\sklearn\\linear_model\\_logistic.py:763: ConvergenceWarning: lbfgs failed to converge (status=1):\n",
      "STOP: TOTAL NO. of ITERATIONS REACHED LIMIT.\n",
      "\n",
      "Increase the number of iterations (max_iter) or scale the data as shown in:\n",
      "    https://scikit-learn.org/stable/modules/preprocessing.html\n",
      "Please also refer to the documentation for alternative solver options:\n",
      "    https://scikit-learn.org/stable/modules/linear_model.html#logistic-regression\n",
      "  n_iter_i = _check_optimize_result(\n"
     ]
    },
    {
     "data": {
      "text/plain": [
       "LogisticRegression(random_state=0)"
      ]
     },
     "execution_count": 20,
     "metadata": {},
     "output_type": "execute_result"
    }
   ],
   "source": [
    "#Importaremos la clase de la regresión logística desde la librería sklearn para ajustar el modelo.\n",
    "from sklearn.linear_model import LogisticRegression as LR\n",
    "#------------------------------------------------------------------------------------------------\n",
    "#A continuacion crearemos un objeto para instanciar la clase y definiremos una semilla, con esto\n",
    "#generaremos el modelo de clasificación.\n",
    "Cl_LR = LR(random_state = 0)\n",
    "#------------------------------------------------------------------------------------------------\n",
    "#El siguiente paso es ajustar el modelo de clasificación con la función fit utilizando los datos \n",
    "#de entrenamiento generaos en LDA de las variables independientes y el conjunto original de datos\n",
    "#de la variable dependiente.\n",
    "Cl_LR.fit(X_train_lda, y_train)"
   ]
  },
  {
   "cell_type": "markdown",
   "id": "0a06c6e0",
   "metadata": {},
   "source": [
    "### En este paso realizaremos la predicción de los resultados con el conjunto de prueba."
   ]
  },
  {
   "cell_type": "code",
   "execution_count": 21,
   "id": "67434090",
   "metadata": {},
   "outputs": [],
   "source": [
    "#Crearemos una variable donde guardaremos el vector con la predicciones de cada una de las \n",
    "#observaciones de los datos de prueba, para esto utilizaremos el conjunto de datos para prueba\n",
    "#de las variables independientes creadas con LDA. \n",
    "y_pred_lda = Cl_LR.predict(X_test_lda)"
   ]
  },
  {
   "cell_type": "markdown",
   "id": "07558088",
   "metadata": {},
   "source": [
    "### El paso siguiente sera reconocer las clases y verificar que tan bien predice el modelo, para esto ocuparemos la matriz de confusión."
   ]
  },
  {
   "cell_type": "code",
   "execution_count": 22,
   "id": "6c252500",
   "metadata": {},
   "outputs": [
    {
     "data": {
      "text/plain": [
       "<function matplotlib.pyplot.show(close=None, block=None)>"
      ]
     },
     "execution_count": 22,
     "metadata": {},
     "output_type": "execute_result"
    },
    {
     "data": {
      "image/png": "[encoded data removed]",
      "text/plain": [
       "<Figure size 936x576 with 2 Axes>"
      ]
     },
     "metadata": {
      "needs_background": "light"
     },
     "output_type": "display_data"
    }
   ],
   "source": [
    "#Importaremos la clase de la matriz de confusión desde la librearía de sklearn.\n",
    "from sklearn.metrics import confusion_matrix\n",
    "#-------------------------------------------------------------------------------------------------\n",
    "#A continuación crearemos una variable donde guardamos los resultados de la matriz de confusión,\n",
    "#para eso utilizaremos el conjunto de datos de prueba original de la variable independiente y \n",
    "#la compararemos con los datos predichos.\n",
    "Mat_Conf = confusion_matrix(y_test, y_pred_lda)\n",
    "#--------------------------------------------------------------------------------------------------\n",
    "#Finalmente visualizaremos la matriz de confusión para que tan bueno es nuestro modelo\n",
    "plt.figure(figsize = (13,8))\n",
    "sns.heatmap(Mat_Conf, \n",
    "            cmap = 'Greens',\n",
    "           annot = True)\n",
    "plt.xlabel('Predicciones',\n",
    "          fontsize = 15)\n",
    "plt.ylabel('Originales',\n",
    "          fontsize = 15)\n",
    "plt.show"
   ]
  },
  {
   "cell_type": "markdown",
   "id": "c91503ce",
   "metadata": {},
   "source": [
    "### Observamos que el modelo no es bueno prediciendo y que las clases que menos error cometen son la 1, 5 y 8, en conclusión el método LDA no es bueno para separar todas las clases ya que 5 de ellas no las reconoce como se ve en la diagonal donde encontramos 0, debido a esto no es posible linealmente reconstruir las 12 clases con los datos demostrando que no son simetricos, finalmente el modelo solo reconoce 7 clases."
   ]
  },
  {
   "cell_type": "markdown",
   "id": "c8673bfc",
   "metadata": {},
   "source": [
    "### Pasaremos a realizar la reducción de dimensiones mediante el método de Componente Principales (PCA). Aqui utilizaremos los datos escalados que se usaron en LDA."
   ]
  },
  {
   "cell_type": "code",
   "execution_count": 23,
   "id": "a7d8b751",
   "metadata": {},
   "outputs": [
    {
     "data": {
      "text/plain": [
       "array([0.26013842, 0.1619393 , 0.1522539 , 0.14250917, 0.08676385,\n",
       "       0.05685856, 0.05060612, 0.04753766, 0.02994882, 0.01144421])"
      ]
     },
     "execution_count": 23,
     "metadata": {},
     "output_type": "execute_result"
    }
   ],
   "source": [
    "#Importaremos la clase PCA de la librería sklearn para reducción de dimensiones.\n",
    "from sklearn.decomposition import PCA\n",
    "#--------------------------------------------------------------------------------------------\n",
    "#A continuación crearemos un objeto para instanciar la clase, no definiremos la cantidad de \n",
    "#componentes ya que tomaremos el total para luego seleccionar las que explican el 80% de la\n",
    "#varianza acumulada.\n",
    "PCA_VAR = PCA(n_components = None)\n",
    "#---------------------------------------------------------------------------------------------\n",
    "#En primer lugar ocuparemos fit para calcular el ajuste de los parámetros y transform para aplicar\n",
    "#esos parámetros utilizando el modelo creado al conjunto de datos de entrenamiento que fueron \n",
    "#escalado.\n",
    "X_train_VAR = PCA_VAR.fit_transform(X_train)\n",
    "#------------------------------------------------------------------------------------------------\n",
    "#En segundo lugar aplicaremos las transformaciones realizadas anteriormente al conjunto de datos\n",
    "#de prueba escalado utilizando solo transform y el modelo creado, el ajuste de los parámetros no \n",
    "#es necesario aplicar ya que eso fue calculado en el primer paso.\n",
    "X_test_VAR = PCA_VAR.transform(X_test)\n",
    "#------------------------------------------------------------------------------------------------\n",
    "#Finalmente calcularemos la cantidad de varianza explicada por cada componente y de esa forma \n",
    "#poder seleccionar las componentes que explican el 80% de la varianza acumulada, de este cálculo\n",
    "#saldrán 10 componentes ya que tenemos 10 variables independientes.\n",
    "Var_Exp = PCA_VAR.explained_variance_ratio_\n",
    "#------------------------------------------------------------------------------------------------\n",
    "#Visualizaremos los 10 componentes principales y su varianza explicada de forma descendente\n",
    "Var_Exp"
   ]
  },
  {
   "cell_type": "markdown",
   "id": "6fc4502f",
   "metadata": {},
   "source": [
    "### De las 10 varianzas explicadas por cada componente encontramos que las 5 primeras son las que explican el 80,36% del total."
   ]
  },
  {
   "cell_type": "markdown",
   "id": "537d72fb",
   "metadata": {},
   "source": [
    "### Luego de haber encontrado las componentes principales que más explican la varianza, volveremos a crear otro objeto con la clase PCA pero ahora con el parámetro de componentes en 5."
   ]
  },
  {
   "cell_type": "code",
   "execution_count": 45,
   "id": "e8a6a333",
   "metadata": {},
   "outputs": [],
   "source": [
    "#Primero crearemos un objeto para instanciar la clase incluyendo en el parámetro de componentes el \n",
    "#valor de 5.\n",
    "PCA_5 = PCA(n_components = 5)\n",
    "#--------------------------------------------------------------------------------------------------\n",
    "#Segundo crearemos una variable donde guardaremos los datos de entrenamiento escalados los cuales\n",
    "#ajustaremos los parámetros y a la vez aplicaremos esos ajustes con transform utilizando el modelo \n",
    "#anteriormente generado.\n",
    "X_train_5 = PCA_5.fit_transform(X_train)\n",
    "#---------------------------------------------------------------------------------------------------\n",
    "#Y en tercer lugar aplicaremos las transformaciones hechas en el paso 2 al conjunto de datos de \n",
    "#prueba.\n",
    "X_test_5 = PCA_5.transform(X_test)"
   ]
  },
  {
   "cell_type": "markdown",
   "id": "8afc4a1d",
   "metadata": {},
   "source": [
    "### Ahora pasaremos a generar el modelo de clasificación utlizando la Regresión Logística, el primer paso sera ajustar el modelo con los datos de entrenamiento que ya fueron transformados con PCA."
   ]
  },
  {
   "cell_type": "code",
   "execution_count": 46,
   "id": "8652a811",
   "metadata": {},
   "outputs": [
    {
     "name": "stderr",
     "output_type": "stream",
     "text": [
      "C:\\Users\\Juan\\anaconda3\\lib\\site-packages\\sklearn\\linear_model\\_logistic.py:763: ConvergenceWarning: lbfgs failed to converge (status=1):\n",
      "STOP: TOTAL NO. of ITERATIONS REACHED LIMIT.\n",
      "\n",
      "Increase the number of iterations (max_iter) or scale the data as shown in:\n",
      "    https://scikit-learn.org/stable/modules/preprocessing.html\n",
      "Please also refer to the documentation for alternative solver options:\n",
      "    https://scikit-learn.org/stable/modules/linear_model.html#logistic-regression\n",
      "  n_iter_i = _check_optimize_result(\n"
     ]
    },
    {
     "data": {
      "text/plain": [
       "LogisticRegression(random_state=0)"
      ]
     },
     "execution_count": 46,
     "metadata": {},
     "output_type": "execute_result"
    }
   ],
   "source": [
    "#Importaremos la clase de la regresión logística desde la librería sklearn.\n",
    "from sklearn.linear_model import LogisticRegression as LR\n",
    "#------------------------------------------------------------------------------------------------\n",
    "#A continuacion crearemos un objeto para instanciar la clase y definiremos una semilla, con esto\n",
    "#generaremos el modelo de clasificación.\n",
    "Cl_PCA = LR(random_state = 0)\n",
    "#------------------------------------------------------------------------------------------------\n",
    "#El siguiente paso es ajustar el modelo de clasificación con la función fit utilizando los datos \n",
    "#de entrenamiento generados en PCA de las variables independientes y el conjunto original de datos\n",
    "#de la variable dependiente.\n",
    "Cl_PCA.fit(X_train_5, y_train)"
   ]
  },
  {
   "cell_type": "markdown",
   "id": "7a43a2cc",
   "metadata": {},
   "source": []
  },
  {
   "cell_type": "markdown",
   "id": "136e583c",
   "metadata": {},
   "source": [
    "### En este paso realizaremos la predicción de los resultados con el conjunto de prueba."
   ]
  },
  {
   "cell_type": "code",
   "execution_count": 47,
   "id": "ded6c7fb",
   "metadata": {},
   "outputs": [],
   "source": [
    "#Crearemos una variable donde guardaremos el vector con la predicciones de cada una de las \n",
    "#observaciones de los datos de prueba, para esto utilizaremos el conjunto de datos para prueba\n",
    "#de las variables independientes creadas con PCA. \n",
    "y_pred_PCA = Cl_PCA.predict(X_test_5)"
   ]
  },
  {
   "cell_type": "markdown",
   "id": "ee21c47d",
   "metadata": {},
   "source": [
    "### El paso siguiente sera reconocer las clases y verificar que tan bien predice el modelo, para esto ocuparemos la matriz de confusión."
   ]
  },
  {
   "cell_type": "code",
   "execution_count": 48,
   "id": "bc5d2fa3",
   "metadata": {},
   "outputs": [
    {
     "data": {
      "text/plain": [
       "<function matplotlib.pyplot.show(close=None, block=None)>"
      ]
     },
     "execution_count": 48,
     "metadata": {},
     "output_type": "execute_result"
    },
    {
     "data": {
      "image/png": "[encoded data removed]",
      "text/plain": [
       "<Figure size 936x576 with 2 Axes>"
      ]
     },
     "metadata": {
      "needs_background": "light"
     },
     "output_type": "display_data"
    }
   ],
   "source": [
    "#Importaremos la clase de la matriz de confusión desde la librearía de sklearn.\n",
    "from sklearn.metrics import confusion_matrix\n",
    "#-------------------------------------------------------------------------------------------------\n",
    "#A continuación crearemos una variable donde guardamos los resultados de la matriz de confusión,\n",
    "#para eso utilizaremos el conjunto de datos de prueba original de la variable independiente y \n",
    "#la compararemos con los datos predichos.\n",
    "Mat_Conf_PCA = confusion_matrix(y_test, y_pred_PCA)\n",
    "#--------------------------------------------------------------------------------------------------\n",
    "#Finalmente visualizaremos la matriz de confusión para que tan bueno es nuestro modelo\n",
    "plt.figure(figsize = (13,8))\n",
    "sns.heatmap(Mat_Conf_PCA, \n",
    "            cmap = 'Greens',\n",
    "           annot = True)\n",
    "plt.xlabel('Predicciones',\n",
    "          fontsize = 15)\n",
    "plt.ylabel('Originales',\n",
    "          fontsize = 15)\n",
    "plt.show"
   ]
  },
  {
   "cell_type": "markdown",
   "id": "3e3ecb9f",
   "metadata": {},
   "source": [
    "### Observamos que el modelo no es bueno prediciendo y que las clases que menos error cometen son la 1, 5 y 8, en conclusión el método PCA no es bueno para separar todas las clases ya que 6 de ellas no las reconoce como se ve en la diagonal donde encontramos 0, finalmente el modelo solo reconoce  6 clases."
   ]
  },
  {
   "cell_type": "markdown",
   "id": "568b05e0",
   "metadata": {},
   "source": [
    "### Luego de haber encontrado las componentes principales que más explican la varianza, volveremos a crear otro objeto con la clase PCA pero ahora con el parámetro de componentes en 2 para poder graficar."
   ]
  },
  {
   "cell_type": "code",
   "execution_count": 49,
   "id": "89ee6fce",
   "metadata": {},
   "outputs": [],
   "source": [
    "#Primero crearemos un objeto para instanciar la clase incluyendo en el parámetro de componentes el \n",
    "#valor de 2.\n",
    "PCA_2 = PCA(n_components = 2)\n",
    "#--------------------------------------------------------------------------------------------------\n",
    "#Segundo crearemos una variable donde guardaremos los datos de entrenamiento escalados los cuales\n",
    "#ajustaremos los parámetros y a la vez aplicaremos esos ajustes con transform utilizando el modelo \n",
    "#anteriormente generado.\n",
    "X_train_2 = PCA_2.fit_transform(X_train)\n",
    "#---------------------------------------------------------------------------------------------------\n",
    "#Y en tercer lugar aplicaremos las transformaciones hechas en el paso 2 al conjunto de datos de \n",
    "#prueba.\n",
    "X_test_2 = PCA_2.transform(X_test)"
   ]
  },
  {
   "cell_type": "markdown",
   "id": "99e16b25",
   "metadata": {},
   "source": [
    "### Ahora pasaremos a generar el modelo de clasificación utlizando la Regresión Logística, el primer paso sera ajustar el modelo con los datos de entrenamiento que ya fueron transformados con PCA."
   ]
  },
  {
   "cell_type": "code",
   "execution_count": 50,
   "id": "352cb222",
   "metadata": {},
   "outputs": [
    {
     "data": {
      "text/plain": [
       "LogisticRegression(random_state=0)"
      ]
     },
     "execution_count": 50,
     "metadata": {},
     "output_type": "execute_result"
    }
   ],
   "source": [
    "#Importaremos la clase de la regresión logística desde la librería sklearn.\n",
    "from sklearn.linear_model import LogisticRegression as LR\n",
    "#------------------------------------------------------------------------------------------------\n",
    "#A continuacion crearemos un objeto para instanciar la clase y definiremos una semilla, con esto\n",
    "#generaremos el modelo de clasificación.\n",
    "Cl_PCA_2 = LR(random_state = 0)\n",
    "#------------------------------------------------------------------------------------------------\n",
    "#El siguiente paso es ajustar el modelo de clasificación con la función fit utilizando los datos \n",
    "#de entrenamiento generados en PCA de las variables independientes y el conjunto original de datos\n",
    "#de la variable dependiente.\n",
    "Cl_PCA_2.fit(X_train_2, y_train)"
   ]
  },
  {
   "cell_type": "markdown",
   "id": "2355402b",
   "metadata": {},
   "source": []
  },
  {
   "cell_type": "markdown",
   "id": "52b58b3b",
   "metadata": {},
   "source": [
    "### En este paso realizaremos la predicción de los resultados con el conjunto de prueba."
   ]
  },
  {
   "cell_type": "code",
   "execution_count": 51,
   "id": "67434090",
   "metadata": {},
   "outputs": [],
   "source": [
    "#Crearemos una variable donde guardaremos el vector con la predicciones de cada una de las \n",
    "#observaciones de los datos de prueba, para esto utilizaremos el conjunto de datos para prueba\n",
    "#de las variables independientes creadas con PCA. \n",
    "y_pred_PCA_2 = Cl_PCA_2.predict(X_test_2)"
   ]
  },
  {
   "cell_type": "markdown",
   "id": "9a1a131a",
   "metadata": {},
   "source": [
    "### Vamos a generar una represetación gráfica de los resultados obtenidos en el conjunto de entrenamiento."
   ]
  },
  {
   "cell_type": "code",
   "execution_count": 55,
   "id": "8aa4853f",
   "metadata": {},
   "outputs": [
    {
     "name": "stderr",
     "output_type": "stream",
     "text": [
      "*c* argument looks like a single numeric RGB or RGBA sequence, which should be avoided as value-mapping will have precedence in case its length matches with *x* & *y*.  Please use the *color* keyword-argument or provide a 2-D array with a single row if you intend to specify the same RGB or RGBA value for all points.\n",
      "*c* argument looks like a single numeric RGB or RGBA sequence, which should be avoided as value-mapping will have precedence in case its length matches with *x* & *y*.  Please use the *color* keyword-argument or provide a 2-D array with a single row if you intend to specify the same RGB or RGBA value for all points.\n",
      "*c* argument looks like a single numeric RGB or RGBA sequence, which should be avoided as value-mapping will have precedence in case its length matches with *x* & *y*.  Please use the *color* keyword-argument or provide a 2-D array with a single row if you intend to specify the same RGB or RGBA value for all points.\n",
      "*c* argument looks like a single numeric RGB or RGBA sequence, which should be avoided as value-mapping will have precedence in case its length matches with *x* & *y*.  Please use the *color* keyword-argument or provide a 2-D array with a single row if you intend to specify the same RGB or RGBA value for all points.\n",
      "*c* argument looks like a single numeric RGB or RGBA sequence, which should be avoided as value-mapping will have precedence in case its length matches with *x* & *y*.  Please use the *color* keyword-argument or provide a 2-D array with a single row if you intend to specify the same RGB or RGBA value for all points.\n",
      "*c* argument looks like a single numeric RGB or RGBA sequence, which should be avoided as value-mapping will have precedence in case its length matches with *x* & *y*.  Please use the *color* keyword-argument or provide a 2-D array with a single row if you intend to specify the same RGB or RGBA value for all points.\n",
      "*c* argument looks like a single numeric RGB or RGBA sequence, which should be avoided as value-mapping will have precedence in case its length matches with *x* & *y*.  Please use the *color* keyword-argument or provide a 2-D array with a single row if you intend to specify the same RGB or RGBA value for all points.\n",
      "*c* argument looks like a single numeric RGB or RGBA sequence, which should be avoided as value-mapping will have precedence in case its length matches with *x* & *y*.  Please use the *color* keyword-argument or provide a 2-D array with a single row if you intend to specify the same RGB or RGBA value for all points.\n",
      "*c* argument looks like a single numeric RGB or RGBA sequence, which should be avoided as value-mapping will have precedence in case its length matches with *x* & *y*.  Please use the *color* keyword-argument or provide a 2-D array with a single row if you intend to specify the same RGB or RGBA value for all points.\n",
      "*c* argument looks like a single numeric RGB or RGBA sequence, which should be avoided as value-mapping will have precedence in case its length matches with *x* & *y*.  Please use the *color* keyword-argument or provide a 2-D array with a single row if you intend to specify the same RGB or RGBA value for all points.\n",
      "*c* argument looks like a single numeric RGB or RGBA sequence, which should be avoided as value-mapping will have precedence in case its length matches with *x* & *y*.  Please use the *color* keyword-argument or provide a 2-D array with a single row if you intend to specify the same RGB or RGBA value for all points.\n",
      "*c* argument looks like a single numeric RGB or RGBA sequence, which should be avoided as value-mapping will have precedence in case its length matches with *x* & *y*.  Please use the *color* keyword-argument or provide a 2-D array with a single row if you intend to specify the same RGB or RGBA value for all points.\n"
     ]
    },
    {
     "data": {
      "image/png": "[encoded data removed]",
      "text/plain": [
       "<Figure size 432x288 with 1 Axes>"
      ]
     },
     "metadata": {
      "needs_background": "light"
     },
     "output_type": "display_data"
    }
   ],
   "source": [
    "# Representación gráfica de los resultados del algoritmo en el Conjunto de Entrenamiento\n",
    "from matplotlib.colors import ListedColormap\n",
    "X_set, y_set = X_train_2, y_train\n",
    "X1, X2 = np.meshgrid(np.arange(start = X_set[:, 0].min() - 1, stop = X_set[:, 0].max() + 1, step = 0.01),\n",
    "                     np.arange(start = X_set[:, 1].min() - 1, stop = X_set[:, 1].max() + 1, step = 0.01))\n",
    "plt.contourf(X1, X2, Cl_PCA_2.predict(np.array([X1.ravel(), X2.ravel()]).T).reshape(X1.shape),\n",
    "             alpha = 0.75, cmap = ListedColormap(('#F0A741', '#E3496A', '#DA43FA','#6741F0','#4EF041','#4EB9FA','#E1F056', '#0C1C26', '#EAE7F0','#F01822','#7DFF66')))\n",
    "plt.xlim(X1.min(), X1.max())\n",
    "plt.ylim(X2.min(), X2.max())\n",
    "for i, j in enumerate(np.unique(y_set)):\n",
    "    plt.scatter(X_set[y_set == j, 0], X_set[y_set == j, 1],\n",
    "                c = ListedColormap(('#F0A741', '#E3496A', '#DA43FA','#6741F0','#4EF041','#4EB9FA','#E1F056', '#0C1C26', '#EAE7F0','#F01822','#7DFF66'))(i), label = j)\n",
    "plt.title('Clasificador (Conjunto de Entrenamiento)')\n",
    "plt.xlabel('CP1')\n",
    "plt.ylabel('CP2')\n",
    "plt.legend()\n",
    "plt.show()"
   ]
  },
  {
   "cell_type": "markdown",
   "id": "b800bafb",
   "metadata": {},
   "source": [
    "### Observamos en la gráfica que el modelo no es bueno separando la variables, lo que nos indica que linealmente no es posible reconstruir las 12 clases."
   ]
  },
  {
   "cell_type": "markdown",
   "id": "6e35fc21",
   "metadata": {},
   "source": [
    "### Ahora vamos a generar una represetación gráfica de los resultados obtenidos en el conjunto prueba."
   ]
  },
  {
   "cell_type": "code",
   "execution_count": 56,
   "id": "6750d943",
   "metadata": {},
   "outputs": [
    {
     "name": "stderr",
     "output_type": "stream",
     "text": [
      "*c* argument looks like a single numeric RGB or RGBA sequence, which should be avoided as value-mapping will have precedence in case its length matches with *x* & *y*.  Please use the *color* keyword-argument or provide a 2-D array with a single row if you intend to specify the same RGB or RGBA value for all points.\n",
      "*c* argument looks like a single numeric RGB or RGBA sequence, which should be avoided as value-mapping will have precedence in case its length matches with *x* & *y*.  Please use the *color* keyword-argument or provide a 2-D array with a single row if you intend to specify the same RGB or RGBA value for all points.\n",
      "*c* argument looks like a single numeric RGB or RGBA sequence, which should be avoided as value-mapping will have precedence in case its length matches with *x* & *y*.  Please use the *color* keyword-argument or provide a 2-D array with a single row if you intend to specify the same RGB or RGBA value for all points.\n",
      "*c* argument looks like a single numeric RGB or RGBA sequence, which should be avoided as value-mapping will have precedence in case its length matches with *x* & *y*.  Please use the *color* keyword-argument or provide a 2-D array with a single row if you intend to specify the same RGB or RGBA value for all points.\n",
      "*c* argument looks like a single numeric RGB or RGBA sequence, which should be avoided as value-mapping will have precedence in case its length matches with *x* & *y*.  Please use the *color* keyword-argument or provide a 2-D array with a single row if you intend to specify the same RGB or RGBA value for all points.\n",
      "*c* argument looks like a single numeric RGB or RGBA sequence, which should be avoided as value-mapping will have precedence in case its length matches with *x* & *y*.  Please use the *color* keyword-argument or provide a 2-D array with a single row if you intend to specify the same RGB or RGBA value for all points.\n",
      "*c* argument looks like a single numeric RGB or RGBA sequence, which should be avoided as value-mapping will have precedence in case its length matches with *x* & *y*.  Please use the *color* keyword-argument or provide a 2-D array with a single row if you intend to specify the same RGB or RGBA value for all points.\n",
      "*c* argument looks like a single numeric RGB or RGBA sequence, which should be avoided as value-mapping will have precedence in case its length matches with *x* & *y*.  Please use the *color* keyword-argument or provide a 2-D array with a single row if you intend to specify the same RGB or RGBA value for all points.\n",
      "*c* argument looks like a single numeric RGB or RGBA sequence, which should be avoided as value-mapping will have precedence in case its length matches with *x* & *y*.  Please use the *color* keyword-argument or provide a 2-D array with a single row if you intend to specify the same RGB or RGBA value for all points.\n",
      "*c* argument looks like a single numeric RGB or RGBA sequence, which should be avoided as value-mapping will have precedence in case its length matches with *x* & *y*.  Please use the *color* keyword-argument or provide a 2-D array with a single row if you intend to specify the same RGB or RGBA value for all points.\n",
      "*c* argument looks like a single numeric RGB or RGBA sequence, which should be avoided as value-mapping will have precedence in case its length matches with *x* & *y*.  Please use the *color* keyword-argument or provide a 2-D array with a single row if you intend to specify the same RGB or RGBA value for all points.\n",
      "*c* argument looks like a single numeric RGB or RGBA sequence, which should be avoided as value-mapping will have precedence in case its length matches with *x* & *y*.  Please use the *color* keyword-argument or provide a 2-D array with a single row if you intend to specify the same RGB or RGBA value for all points.\n"
     ]
    },
    {
     "data": {
      "image/png": "[encoded data removed]",
      "text/plain": [
       "<Figure size 432x288 with 1 Axes>"
      ]
     },
     "metadata": {
      "needs_background": "light"
     },
     "output_type": "display_data"
    }
   ],
   "source": [
    "# Representación gráfica de los resultados del algoritmo en el Conjunto de Prueba.\n",
    "X_set, y_set = X_test_2, y_test\n",
    "X1, X2 = np.meshgrid(np.arange(start = X_set[:, 0].min() - 1, stop = X_set[:, 0].max() + 1, step = 0.01),\n",
    "                     np.arange(start = X_set[:, 1].min() - 1, stop = X_set[:, 1].max() + 1, step = 0.01))\n",
    "plt.contourf(X1, X2, Cl_PCA_2.predict(np.array([X1.ravel(), X2.ravel()]).T).reshape(X1.shape),\n",
    "             alpha = 0.75, cmap = ListedColormap(('#F0A741', '#E3496A', '#DA43FA','#6741F0','#4EF041','#4EB9FA','#E1F056', '#0C1C26', '#EAE7F0','#F01822','#7DFF66')))\n",
    "plt.xlim(X1.min(), X1.max())\n",
    "plt.ylim(X2.min(), X2.max())\n",
    "for i, j in enumerate(np.unique(y_set)):\n",
    "    plt.scatter(X_set[y_set == j, 0], X_set[y_set == j, 1],\n",
    "                c = ListedColormap(('#F0A741', '#E3496A', '#DA43FA','#6741F0','#4EF041','#4EB9FA','#E1F056', '#0C1C26', '#EAE7F0','#F01822','#7DFF66'))(i), label = j)\n",
    "plt.title('Clasificador (Conjunto de Entrenamiento)')\n",
    "plt.xlabel('CP1')\n",
    "plt.ylabel('CP2')\n",
    "plt.legend()\n",
    "plt.show()"
   ]
  },
  {
   "cell_type": "markdown",
   "id": "8122e524",
   "metadata": {},
   "source": [
    "### Observamos en la gráfica que el modelo no es bueno separando la variables, lo que nos indica que linealmente no es posible reconstruir las 12 clases."
   ]
  },
  {
   "cell_type": "markdown",
   "id": "f6e25abe",
   "metadata": {},
   "source": [
    "### Volveremos a crear otro objeto pero ahora utilizaremos la clase Kernel PCA para reducir la dimensión de forma no lineal, con el parámetro de componentes en 2 para poder graficar."
   ]
  },
  {
   "cell_type": "code",
   "execution_count": 58,
   "id": "e8a6a333",
   "metadata": {},
   "outputs": [],
   "source": [
    "#Importaremos la clase Kernel PCA de la librería sklearn para reducción de dimensiones.\n",
    "from sklearn.decomposition import KernelPCA\n",
    "#Primero crearemos un objeto para instanciar la clase incluyendo en el parámetro de componentes el \n",
    "#valor de 2.\n",
    "KPCA_2 = KernelPCA(n_components = 2, kernel = 'rbf')\n",
    "#--------------------------------------------------------------------------------------------------\n",
    "#Segundo crearemos una variable donde guardaremos los datos de entrenamiento escalados los cuales\n",
    "#ajustaremos los parámetros y a la vez aplicaremos esos ajustes con transform utilizando el modelo \n",
    "#anteriormente generado.\n",
    "X_train_K2 = KPCA_2.fit_transform(X_train)\n",
    "#---------------------------------------------------------------------------------------------------\n",
    "#Y en tercer lugar aplicaremos las transformaciones hechas en el paso 2 al conjunto de datos de \n",
    "#prueba.\n",
    "X_test_K2 = KPCA_2.transform(X_test)"
   ]
  },
  {
   "cell_type": "markdown",
   "id": "1d93070c",
   "metadata": {},
   "source": [
    "### Ahora pasaremos a generar el modelo de clasificación utlizando la Regresión Logística, el primer paso sera ajustar el modelo con los datos de entrenamiento que ya fueron transformados con Kernel PCA."
   ]
  },
  {
   "cell_type": "code",
   "execution_count": 59,
   "id": "352cb222",
   "metadata": {},
   "outputs": [
    {
     "name": "stderr",
     "output_type": "stream",
     "text": [
      "C:\\Users\\Juan\\anaconda3\\lib\\site-packages\\sklearn\\linear_model\\_logistic.py:763: ConvergenceWarning: lbfgs failed to converge (status=1):\n",
      "STOP: TOTAL NO. of ITERATIONS REACHED LIMIT.\n",
      "\n",
      "Increase the number of iterations (max_iter) or scale the data as shown in:\n",
      "    https://scikit-learn.org/stable/modules/preprocessing.html\n",
      "Please also refer to the documentation for alternative solver options:\n",
      "    https://scikit-learn.org/stable/modules/linear_model.html#logistic-regression\n",
      "  n_iter_i = _check_optimize_result(\n"
     ]
    },
    {
     "data": {
      "text/plain": [
       "LogisticRegression(random_state=0)"
      ]
     },
     "execution_count": 59,
     "metadata": {},
     "output_type": "execute_result"
    }
   ],
   "source": [
    "#Importaremos la clase de la regresión logística desde la librería sklearn.\n",
    "from sklearn.linear_model import LogisticRegression as LR\n",
    "#------------------------------------------------------------------------------------------------\n",
    "#A continuacion crearemos un objeto para instanciar la clase y definiremos una semilla, con esto\n",
    "#generaremos el modelo de clasificación.\n",
    "Cl_KPCA_2 = LR(random_state = 0)\n",
    "#------------------------------------------------------------------------------------------------\n",
    "#El siguiente paso es ajustar el modelo de clasificación con la función fit utilizando los datos \n",
    "#de entrenamiento generados en PCA de las variables independientes y el conjunto original de datos\n",
    "#de la variable dependiente.\n",
    "Cl_KPCA_2.fit(X_train_K2, y_train)"
   ]
  },
  {
   "cell_type": "markdown",
   "id": "205f2599",
   "metadata": {},
   "source": []
  },
  {
   "cell_type": "markdown",
   "id": "0db97d3d",
   "metadata": {},
   "source": [
    "### En este paso realizaremos la predicción de los resultados con el conjunto de prueba."
   ]
  },
  {
   "cell_type": "code",
   "execution_count": 60,
   "id": "67434090",
   "metadata": {},
   "outputs": [],
   "source": [
    "#Crearemos una variable donde guardaremos el vector con la predicciones de cada una de las \n",
    "#observaciones de los datos de prueba, para esto utilizaremos el conjunto de datos para prueba\n",
    "#de las variables independientes creadas con PCA. \n",
    "y_pred_KPCA_2 = Cl_KPCA_2.predict(X_test_K2)"
   ]
  },
  {
   "cell_type": "markdown",
   "id": "7b8771c8",
   "metadata": {},
   "source": [
    "### Ahora vamos a generar una represetación gráfica de los resultados obtenidos en el conjunto de entrenamiento."
   ]
  },
  {
   "cell_type": "code",
   "execution_count": 61,
   "id": "8aa4853f",
   "metadata": {
    "scrolled": false
   },
   "outputs": [
    {
     "name": "stderr",
     "output_type": "stream",
     "text": [
      "*c* argument looks like a single numeric RGB or RGBA sequence, which should be avoided as value-mapping will have precedence in case its length matches with *x* & *y*.  Please use the *color* keyword-argument or provide a 2-D array with a single row if you intend to specify the same RGB or RGBA value for all points.\n",
      "*c* argument looks like a single numeric RGB or RGBA sequence, which should be avoided as value-mapping will have precedence in case its length matches with *x* & *y*.  Please use the *color* keyword-argument or provide a 2-D array with a single row if you intend to specify the same RGB or RGBA value for all points.\n",
      "*c* argument looks like a single numeric RGB or RGBA sequence, which should be avoided as value-mapping will have precedence in case its length matches with *x* & *y*.  Please use the *color* keyword-argument or provide a 2-D array with a single row if you intend to specify the same RGB or RGBA value for all points.\n",
      "*c* argument looks like a single numeric RGB or RGBA sequence, which should be avoided as value-mapping will have precedence in case its length matches with *x* & *y*.  Please use the *color* keyword-argument or provide a 2-D array with a single row if you intend to specify the same RGB or RGBA value for all points.\n",
      "*c* argument looks like a single numeric RGB or RGBA sequence, which should be avoided as value-mapping will have precedence in case its length matches with *x* & *y*.  Please use the *color* keyword-argument or provide a 2-D array with a single row if you intend to specify the same RGB or RGBA value for all points.\n",
      "*c* argument looks like a single numeric RGB or RGBA sequence, which should be avoided as value-mapping will have precedence in case its length matches with *x* & *y*.  Please use the *color* keyword-argument or provide a 2-D array with a single row if you intend to specify the same RGB or RGBA value for all points.\n",
      "*c* argument looks like a single numeric RGB or RGBA sequence, which should be avoided as value-mapping will have precedence in case its length matches with *x* & *y*.  Please use the *color* keyword-argument or provide a 2-D array with a single row if you intend to specify the same RGB or RGBA value for all points.\n",
      "*c* argument looks like a single numeric RGB or RGBA sequence, which should be avoided as value-mapping will have precedence in case its length matches with *x* & *y*.  Please use the *color* keyword-argument or provide a 2-D array with a single row if you intend to specify the same RGB or RGBA value for all points.\n",
      "*c* argument looks like a single numeric RGB or RGBA sequence, which should be avoided as value-mapping will have precedence in case its length matches with *x* & *y*.  Please use the *color* keyword-argument or provide a 2-D array with a single row if you intend to specify the same RGB or RGBA value for all points.\n",
      "*c* argument looks like a single numeric RGB or RGBA sequence, which should be avoided as value-mapping will have precedence in case its length matches with *x* & *y*.  Please use the *color* keyword-argument or provide a 2-D array with a single row if you intend to specify the same RGB or RGBA value for all points.\n",
      "*c* argument looks like a single numeric RGB or RGBA sequence, which should be avoided as value-mapping will have precedence in case its length matches with *x* & *y*.  Please use the *color* keyword-argument or provide a 2-D array with a single row if you intend to specify the same RGB or RGBA value for all points.\n",
      "*c* argument looks like a single numeric RGB or RGBA sequence, which should be avoided as value-mapping will have precedence in case its length matches with *x* & *y*.  Please use the *color* keyword-argument or provide a 2-D array with a single row if you intend to specify the same RGB or RGBA value for all points.\n"
     ]
    },
    {
     "data": {
      "image/png": "[encoded data removed]",
      "text/plain": [
       "<Figure size 432x288 with 1 Axes>"
      ]
     },
     "metadata": {
      "needs_background": "light"
     },
     "output_type": "display_data"
    }
   ],
   "source": [
    "# Representación gráfica de los resultados del algoritmo en el Conjunto de Entrenamiento\n",
    "from matplotlib.colors import ListedColormap\n",
    "X_set, y_set = X_train_K2, y_train\n",
    "X1, X2 = np.meshgrid(np.arange(start = X_set[:, 0].min() - 1, stop = X_set[:, 0].max() + 1, step = 0.01),\n",
    "                     np.arange(start = X_set[:, 1].min() - 1, stop = X_set[:, 1].max() + 1, step = 0.01))\n",
    "plt.contourf(X1, X2, Cl_KPCA_2.predict(np.array([X1.ravel(), X2.ravel()]).T).reshape(X1.shape),\n",
    "             alpha = 0.75, cmap = ListedColormap(('#F0A741', '#E3496A', '#DA43FA','#6741F0','#4EF041','#4EB9FA','#E1F056', '#0C1C26', '#EAE7F0','#F01822','#7DFF66')))\n",
    "plt.xlim(X1.min(), X1.max())\n",
    "plt.ylim(X2.min(), X2.max())\n",
    "for i, j in enumerate(np.unique(y_set)):\n",
    "    plt.scatter(X_set[y_set == j, 0], X_set[y_set == j, 1],\n",
    "                c = ListedColormap(('#F0A741', '#E3496A', '#DA43FA','#6741F0','#4EF041','#4EB9FA','#E1F056', '#0C1C26', '#EAE7F0','#F01822','#7DFF66'))(i), label = j)\n",
    "plt.title('Clasificador (Conjunto de Entrenamiento)')\n",
    "plt.xlabel('CP1')\n",
    "plt.ylabel('CP2')\n",
    "plt.legend()\n",
    "plt.show()"
   ]
  },
  {
   "cell_type": "markdown",
   "id": "da9f2ba8",
   "metadata": {},
   "source": [
    "### Observamos en la gráfica que el modelo no es bueno separando la variables, lo que nos indica que tampoco es posible reconstruir las 12 clases de forma no lineal."
   ]
  },
  {
   "cell_type": "markdown",
   "id": "614c858b",
   "metadata": {},
   "source": [
    "### Ahora vamos a generar una represetación gráfica de los resultados obtenidos en el conjunto prueba."
   ]
  },
  {
   "cell_type": "code",
   "execution_count": 62,
   "id": "6750d943",
   "metadata": {},
   "outputs": [
    {
     "name": "stderr",
     "output_type": "stream",
     "text": [
      "*c* argument looks like a single numeric RGB or RGBA sequence, which should be avoided as value-mapping will have precedence in case its length matches with *x* & *y*.  Please use the *color* keyword-argument or provide a 2-D array with a single row if you intend to specify the same RGB or RGBA value for all points.\n",
      "*c* argument looks like a single numeric RGB or RGBA sequence, which should be avoided as value-mapping will have precedence in case its length matches with *x* & *y*.  Please use the *color* keyword-argument or provide a 2-D array with a single row if you intend to specify the same RGB or RGBA value for all points.\n",
      "*c* argument looks like a single numeric RGB or RGBA sequence, which should be avoided as value-mapping will have precedence in case its length matches with *x* & *y*.  Please use the *color* keyword-argument or provide a 2-D array with a single row if you intend to specify the same RGB or RGBA value for all points.\n",
      "*c* argument looks like a single numeric RGB or RGBA sequence, which should be avoided as value-mapping will have precedence in case its length matches with *x* & *y*.  Please use the *color* keyword-argument or provide a 2-D array with a single row if you intend to specify the same RGB or RGBA value for all points.\n",
      "*c* argument looks like a single numeric RGB or RGBA sequence, which should be avoided as value-mapping will have precedence in case its length matches with *x* & *y*.  Please use the *color* keyword-argument or provide a 2-D array with a single row if you intend to specify the same RGB or RGBA value for all points.\n",
      "*c* argument looks like a single numeric RGB or RGBA sequence, which should be avoided as value-mapping will have precedence in case its length matches with *x* & *y*.  Please use the *color* keyword-argument or provide a 2-D array with a single row if you intend to specify the same RGB or RGBA value for all points.\n",
      "*c* argument looks like a single numeric RGB or RGBA sequence, which should be avoided as value-mapping will have precedence in case its length matches with *x* & *y*.  Please use the *color* keyword-argument or provide a 2-D array with a single row if you intend to specify the same RGB or RGBA value for all points.\n",
      "*c* argument looks like a single numeric RGB or RGBA sequence, which should be avoided as value-mapping will have precedence in case its length matches with *x* & *y*.  Please use the *color* keyword-argument or provide a 2-D array with a single row if you intend to specify the same RGB or RGBA value for all points.\n",
      "*c* argument looks like a single numeric RGB or RGBA sequence, which should be avoided as value-mapping will have precedence in case its length matches with *x* & *y*.  Please use the *color* keyword-argument or provide a 2-D array with a single row if you intend to specify the same RGB or RGBA value for all points.\n",
      "*c* argument looks like a single numeric RGB or RGBA sequence, which should be avoided as value-mapping will have precedence in case its length matches with *x* & *y*.  Please use the *color* keyword-argument or provide a 2-D array with a single row if you intend to specify the same RGB or RGBA value for all points.\n",
      "*c* argument looks like a single numeric RGB or RGBA sequence, which should be avoided as value-mapping will have precedence in case its length matches with *x* & *y*.  Please use the *color* keyword-argument or provide a 2-D array with a single row if you intend to specify the same RGB or RGBA value for all points.\n",
      "*c* argument looks like a single numeric RGB or RGBA sequence, which should be avoided as value-mapping will have precedence in case its length matches with *x* & *y*.  Please use the *color* keyword-argument or provide a 2-D array with a single row if you intend to specify the same RGB or RGBA value for all points.\n"
     ]
    },
    {
     "data": {
      "image/png": "[encoded data removed]",
      "text/plain": [
       "<Figure size 432x288 with 1 Axes>"
      ]
     },
     "metadata": {
      "needs_background": "light"
     },
     "output_type": "display_data"
    }
   ],
   "source": [
    "# Representación gráfica de los resultados del algoritmo en el Conjunto de Prueba.\n",
    "X_set, y_set = X_test_K2, y_test\n",
    "X1, X2 = np.meshgrid(np.arange(start = X_set[:, 0].min() - 1, stop = X_set[:, 0].max() + 1, step = 0.01),\n",
    "                     np.arange(start = X_set[:, 1].min() - 1, stop = X_set[:, 1].max() + 1, step = 0.01))\n",
    "plt.contourf(X1, X2, Cl_KPCA_2.predict(np.array([X1.ravel(), X2.ravel()]).T).reshape(X1.shape),\n",
    "             alpha = 0.75, cmap = ListedColormap(('#F0A741', '#E3496A', '#DA43FA','#6741F0','#4EF041','#4EB9FA','#E1F056', '#0C1C26', '#EAE7F0','#F01822','#7DFF66')))\n",
    "plt.xlim(X1.min(), X1.max())\n",
    "plt.ylim(X2.min(), X2.max())\n",
    "for i, j in enumerate(np.unique(y_set)):\n",
    "    plt.scatter(X_set[y_set == j, 0], X_set[y_set == j, 1],\n",
    "                c = ListedColormap(('#F0A741', '#E3496A', '#DA43FA','#6741F0','#4EF041','#4EB9FA','#E1F056', '#0C1C26', '#EAE7F0','#F01822','#7DFF66'))(i), label = j)\n",
    "plt.title('Clasificador (Conjunto de Entrenamiento)')\n",
    "plt.xlabel('CP1')\n",
    "plt.ylabel('CP2')\n",
    "plt.legend()\n",
    "plt.show()"
   ]
  },
  {
   "cell_type": "markdown",
   "id": "265d0b84",
   "metadata": {},
   "source": [
    "### Observamos en la gráfica que el modelo no es bueno separando la variables, lo que nos indica que tampoco es posible reconstruir las 12 clases de forma no lineal."
   ]
  }
 ],
 "metadata": {
  "kernelspec": {
   "display_name": "Python 3",
   "language": "python",
   "name": "python3"
  },
  "language_info": {
   "codemirror_mode": {
    "name": "ipython",
    "version": 3
   },
   "file_extension": ".py",
   "mimetype": "text/x-python",
   "name": "python",
   "nbconvert_exporter": "python",
   "pygments_lexer": "ipython3",
   "version": "3.8.8"
  }
 },
 "nbformat": 4,
 "nbformat_minor": 5
}
